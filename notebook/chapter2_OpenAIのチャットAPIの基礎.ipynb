{
 "cells": [
  {
   "cell_type": "markdown",
   "id": "f80199b8-ba6b-4e20-aa45-77b39ab53b86",
   "metadata": {},
   "source": [
    "# 第2章 OpenAIのチャットAPIの基礎"
   ]
  },
  {
   "cell_type": "markdown",
   "id": "eb028a45-42c6-4d90-8de5-626a4270d5ee",
   "metadata": {},
   "source": [
    "## 設定"
   ]
  },
  {
   "cell_type": "code",
   "execution_count": 1,
   "id": "49db6819-05c0-4683-9c4f-1e05958c469a",
   "metadata": {},
   "outputs": [],
   "source": [
    "import json\n",
    "import os\n",
    "import time\n",
    "\n",
    "from dotenv import load_dotenv\n",
    "dotenv_path = \"../.env\"\n",
    "load_dotenv(dotenv_path)\n",
    "\n",
    "from openai import OpenAI"
   ]
  },
  {
   "cell_type": "markdown",
   "id": "58524691-333a-4f01-bcb6-cb2867cba386",
   "metadata": {},
   "source": [
    "## 通常のチャット"
   ]
  },
  {
   "cell_type": "code",
   "execution_count": 2,
   "id": "368a33ae-1050-4ab6-b342-f97e7bf4a845",
   "metadata": {},
   "outputs": [],
   "source": [
    "client = OpenAI()"
   ]
  },
  {
   "cell_type": "code",
   "execution_count": 3,
   "id": "2486c164-0963-487a-acd8-3e657e74784b",
   "metadata": {},
   "outputs": [],
   "source": [
    "messages = [\n",
    "    {\n",
    "        \"role\": \"system\",\n",
    "        \"content\": \"You are a helpful assistant.\"\n",
    "    },\n",
    "    {\n",
    "        \"role\": \"user\",\n",
    "        \"content\": \"こんにちは！私はジョンと言います！\"\n",
    "    },\n",
    "    {\n",
    "        \"role\": \"assistant\",\n",
    "        \"content\": \"こんにちは、ジョンさん！お会いできて嬉しいです。今日はどんなことをお話ししましょうか？\"\n",
    "    },\n",
    "    {\n",
    "        \"role\": \"user\",\n",
    "        \"content\": \"私の名前が分かりますか？\"\n",
    "    },\n",
    "]"
   ]
  },
  {
   "cell_type": "code",
   "execution_count": 4,
   "id": "e3e3781a-7dcc-4931-a83a-edbe1e047cfd",
   "metadata": {},
   "outputs": [],
   "source": [
    "response = client.chat.completions.create(\n",
    "    model=\"gpt-4o-mini\",\n",
    "    messages=messages,\n",
    ")"
   ]
  },
  {
   "cell_type": "code",
   "execution_count": 5,
   "id": "2b398e52-777b-4213-ab44-36ae5b41cc6f",
   "metadata": {},
   "outputs": [
    {
     "name": "stdout",
     "output_type": "stream",
     "text": [
      "{\n",
      "  \"id\": \"chatcmpl-AlWAIGozwUG0Xn6Ar6CP6jVdAKGoV\",\n",
      "  \"choices\": [\n",
      "    {\n",
      "      \"finish_reason\": \"stop\",\n",
      "      \"index\": 0,\n",
      "      \"logprobs\": null,\n",
      "      \"message\": {\n",
      "        \"content\": \"はい、あなたの名前はジョンさんです。何か他にお話ししたいことありますか？\",\n",
      "        \"refusal\": null,\n",
      "        \"role\": \"assistant\"\n",
      "      }\n",
      "    }\n",
      "  ],\n",
      "  \"created\": 1735888422,\n",
      "  \"model\": \"gpt-4o-mini-2024-07-18\",\n",
      "  \"object\": \"chat.completion\",\n",
      "  \"system_fingerprint\": \"fp_0aa8d3e20b\",\n",
      "  \"usage\": {\n",
      "    \"completion_tokens\": 25,\n",
      "    \"prompt_tokens\": 69,\n",
      "    \"total_tokens\": 94,\n",
      "    \"completion_tokens_details\": {\n",
      "      \"accepted_prediction_tokens\": 0,\n",
      "      \"audio_tokens\": 0,\n",
      "      \"reasoning_tokens\": 0,\n",
      "      \"rejected_prediction_tokens\": 0\n",
      "    },\n",
      "    \"prompt_tokens_details\": {\n",
      "      \"audio_tokens\": 0,\n",
      "      \"cached_tokens\": 0\n",
      "    }\n",
      "  }\n",
      "}\n"
     ]
    }
   ],
   "source": [
    "print(response.to_json())"
   ]
  },
  {
   "cell_type": "markdown",
   "id": "ff5ca3a7-ff91-4329-a347-c57974b8a9c4",
   "metadata": {},
   "source": [
    "## ストリーミング応答"
   ]
  },
  {
   "cell_type": "code",
   "execution_count": 6,
   "id": "df209a96-1e24-41a5-a1f5-02b97a8a31a5",
   "metadata": {},
   "outputs": [],
   "source": [
    "response = client.chat.completions.create(\n",
    "    model=\"gpt-4o-mini\",\n",
    "    messages=messages,\n",
    "    stream=True, # ストリーミング応答モードを設定\n",
    ")"
   ]
  },
  {
   "cell_type": "code",
   "execution_count": 7,
   "id": "95e04ddb-7a45-48a8-a65e-f6995275eb65",
   "metadata": {},
   "outputs": [
    {
     "name": "stdout",
     "output_type": "stream",
     "text": [
      "はい、あなたの名前はジョンさんです！何か特別にお話ししたいことや質問がありますか？"
     ]
    }
   ],
   "source": [
    "for chunk in response:\n",
    "    content = chunk.choices[0].delta.content\n",
    "    if content is not None:\n",
    "        print(content, end=\"\", flush=True)\n",
    "        time.sleep(0.1) # 本来不要だが、挙動確認のために追加"
   ]
  },
  {
   "cell_type": "markdown",
   "id": "fd261a03-56a7-4f2b-bb7d-522f416a273f",
   "metadata": {},
   "source": [
    "## JSONモード"
   ]
  },
  {
   "cell_type": "code",
   "execution_count": 8,
   "id": "3b0a7ff2-ac2c-4079-ac47-38c70a09590d",
   "metadata": {},
   "outputs": [],
   "source": [
    "messages = [\n",
    "    {\n",
    "        \"role\": \"system\",\n",
    "        \"content\": \"人物一覧を次のJSON形式で出力してください。 {\\\"people\\\": [\\\"aaa\\\", \\\"bbb\\\"]}\", # プロンプトにJSONと含める\n",
    "    },\n",
    "    {\n",
    "        \"role\": \"user\",\n",
    "        \"content\": \"昔々あるところにおじいさんとおばあさんがいました\",\n",
    "    },\n",
    "]"
   ]
  },
  {
   "cell_type": "code",
   "execution_count": 9,
   "id": "cbc93531-692e-4249-8691-e9b6f2c05487",
   "metadata": {},
   "outputs": [],
   "source": [
    "response = client.chat.completions.create(\n",
    "    model=\"gpt-4o-mini\",\n",
    "    messages=messages,\n",
    "    response_format={\"type\": \"json_object\"}, # JSONモードを設定\n",
    ")"
   ]
  },
  {
   "cell_type": "code",
   "execution_count": 10,
   "id": "33bae03f-c365-4555-9eff-05077f0df507",
   "metadata": {},
   "outputs": [
    {
     "name": "stdout",
     "output_type": "stream",
     "text": [
      "{\"people\": [\"おじいさん\", \"おばあさん\"]}\n"
     ]
    }
   ],
   "source": [
    "print(response.choices[0].message.content)"
   ]
  },
  {
   "cell_type": "markdown",
   "id": "059d6ecd-edd3-407b-b4ad-725975c74231",
   "metadata": {},
   "source": [
    "## Function calling"
   ]
  },
  {
   "cell_type": "markdown",
   "id": "36dc54f5-44d9-4a33-a1ba-9234542e32ee",
   "metadata": {},
   "source": [
    "### 関数設定"
   ]
  },
  {
   "cell_type": "code",
   "execution_count": 11,
   "id": "80add38b-c762-425a-9a59-3167a6f6996e",
   "metadata": {},
   "outputs": [],
   "source": [
    "# 関数を定義（実処理）\n",
    "def get_current_weather(location, unit=\"fahrenheit\"):\n",
    "    if \"tokyo\" in location.lower():\n",
    "        return json.dumps(\n",
    "            {\"location\": \"Tokyo\", \"temperature\": \"10\", \"unit\": unit}\n",
    "        )\n",
    "    elif \"san francisco\" in location.lower():\n",
    "        return json.dumps(\n",
    "            {\"location\": \"San Francisco\", \"temperature\": \"72\", \"unit\": unit}\n",
    "        )\n",
    "    elif \"paris\" in location.lower():\n",
    "        return json.dumps(\n",
    "            {\"location\": \"Paris\", \"temperature\": \"22\", \"unit\": unit}\n",
    "        )\n",
    "    else:\n",
    "        return json.dumps(\n",
    "            {\"location\": location, \"temperature\": \"unknown\"}\n",
    "        )"
   ]
  },
  {
   "cell_type": "code",
   "execution_count": 12,
   "id": "655f47e7-ce4a-4a31-b768-9b93574315fc",
   "metadata": {},
   "outputs": [],
   "source": [
    "# 関数を定義（LLMへの登録用）\n",
    "tools = [\n",
    "    {\n",
    "        \"type\": \"function\",\n",
    "        \"function\": {\n",
    "            \"name\": \"get_current_weather\",\n",
    "            \"description\": \"現時点の各地の天気を取得する\",\n",
    "            \"parameters\": {\n",
    "                \"type\": \"object\",\n",
    "                \"properties\": {\n",
    "                    \"location\": {\n",
    "                        \"type\": \"string\",\n",
    "                        \"description\": \"英語表記の都市名, e.g. Tokyo, San Francisco\",\n",
    "                    },\n",
    "                    \"unit\": {\n",
    "                        \"type\": \"string\",\n",
    "                        \"description\": \"温度の単位\",\n",
    "                        \"enum\": [\"celsius\", \"fahrenheit\"]\n",
    "                    },\n",
    "                },\n",
    "                \"required\": [\"location\"],\n",
    "            },\n",
    "        },\n",
    "    }\n",
    "]"
   ]
  },
  {
   "cell_type": "markdown",
   "id": "2f977cf2-3e39-41de-9a5c-c29dba7836b4",
   "metadata": {},
   "source": [
    "### プロンプト"
   ]
  },
  {
   "cell_type": "code",
   "execution_count": 13,
   "id": "142839dd-fed0-4b30-8a66-3fd75ed9379e",
   "metadata": {},
   "outputs": [],
   "source": [
    "messages = [\n",
    "    {\"role\": \"user\", \"content\": \"東京の天気はどうですか？\"},\n",
    "]"
   ]
  },
  {
   "cell_type": "code",
   "execution_count": 14,
   "id": "b61683fb-05d0-4d81-9169-56281a9c4782",
   "metadata": {},
   "outputs": [],
   "source": [
    "response = client.chat.completions.create(\n",
    "    model=\"gpt-4o\",\n",
    "    messages=messages,\n",
    "    tools=tools, # 関数を登録\n",
    ")"
   ]
  },
  {
   "cell_type": "code",
   "execution_count": 15,
   "id": "6e2b52cd-3b64-431d-886d-3cfc7011fc9d",
   "metadata": {},
   "outputs": [
    {
     "name": "stdout",
     "output_type": "stream",
     "text": [
      "{\n",
      "  \"id\": \"chatcmpl-AlWANynKvE6EaKJRQG1iuKPqM8lYd\",\n",
      "  \"choices\": [\n",
      "    {\n",
      "      \"finish_reason\": \"tool_calls\",\n",
      "      \"index\": 0,\n",
      "      \"logprobs\": null,\n",
      "      \"message\": {\n",
      "        \"content\": null,\n",
      "        \"refusal\": null,\n",
      "        \"role\": \"assistant\",\n",
      "        \"tool_calls\": [\n",
      "          {\n",
      "            \"id\": \"call_spMaqPT6vezfAxrc4wYt7zOr\",\n",
      "            \"function\": {\n",
      "              \"arguments\": \"{\\\"location\\\":\\\"Tokyo\\\",\\\"unit\\\":\\\"celsius\\\"}\",\n",
      "              \"name\": \"get_current_weather\"\n",
      "            },\n",
      "            \"type\": \"function\"\n",
      "          }\n",
      "        ]\n",
      "      }\n",
      "    }\n",
      "  ],\n",
      "  \"created\": 1735888427,\n",
      "  \"model\": \"gpt-4o-2024-08-06\",\n",
      "  \"object\": \"chat.completion\",\n",
      "  \"system_fingerprint\": \"fp_d28bcae782\",\n",
      "  \"usage\": {\n",
      "    \"completion_tokens\": 21,\n",
      "    \"prompt_tokens\": 95,\n",
      "    \"total_tokens\": 116,\n",
      "    \"completion_tokens_details\": {\n",
      "      \"accepted_prediction_tokens\": 0,\n",
      "      \"audio_tokens\": 0,\n",
      "      \"reasoning_tokens\": 0,\n",
      "      \"rejected_prediction_tokens\": 0\n",
      "    },\n",
      "    \"prompt_tokens_details\": {\n",
      "      \"audio_tokens\": 0,\n",
      "      \"cached_tokens\": 0\n",
      "    }\n",
      "  }\n",
      "}\n"
     ]
    }
   ],
   "source": [
    "print(response.to_json(indent=2))"
   ]
  },
  {
   "cell_type": "code",
   "execution_count": 16,
   "id": "2c8d6759-d220-4b49-a4ca-095ca3be68f9",
   "metadata": {},
   "outputs": [
    {
     "data": {
      "text/plain": [
       "[{'role': 'user', 'content': '東京の天気はどうですか？'},\n",
       " {'content': None,\n",
       "  'refusal': None,\n",
       "  'role': 'assistant',\n",
       "  'tool_calls': [{'id': 'call_spMaqPT6vezfAxrc4wYt7zOr',\n",
       "    'function': {'arguments': '{\"location\":\"Tokyo\",\"unit\":\"celsius\"}',\n",
       "     'name': 'get_current_weather'},\n",
       "    'type': 'function'}]}]"
      ]
     },
     "execution_count": 16,
     "metadata": {},
     "output_type": "execute_result"
    }
   ],
   "source": [
    "# messagesに応答結果を追加\n",
    "response_message = response.choices[0].message\n",
    "messages.append(response_message.to_dict())\n",
    "messages"
   ]
  },
  {
   "cell_type": "markdown",
   "id": "b1264eb2-e372-4d5a-baba-263ff4fd3285",
   "metadata": {},
   "source": [
    "### 関数実行"
   ]
  },
  {
   "cell_type": "code",
   "execution_count": 17,
   "id": "468051b3-bc0c-4490-9be6-7d0b1748ee56",
   "metadata": {},
   "outputs": [
    {
     "name": "stdout",
     "output_type": "stream",
     "text": [
      "{\"location\": \"Tokyo\", \"temperature\": \"10\", \"unit\": \"celsius\"}\n"
     ]
    },
    {
     "data": {
      "text/plain": [
       "[{'role': 'user', 'content': '東京の天気はどうですか？'},\n",
       " {'content': None,\n",
       "  'refusal': None,\n",
       "  'role': 'assistant',\n",
       "  'tool_calls': [{'id': 'call_spMaqPT6vezfAxrc4wYt7zOr',\n",
       "    'function': {'arguments': '{\"location\":\"Tokyo\",\"unit\":\"celsius\"}',\n",
       "     'name': 'get_current_weather'},\n",
       "    'type': 'function'}]},\n",
       " {'tool_call_id': 'call_spMaqPT6vezfAxrc4wYt7zOr',\n",
       "  'role': 'tool',\n",
       "  'name': 'get_current_weather',\n",
       "  'content': '{\"location\": \"Tokyo\", \"temperature\": \"10\", \"unit\": \"celsius\"}'}]"
      ]
     },
     "execution_count": 17,
     "metadata": {},
     "output_type": "execute_result"
    }
   ],
   "source": [
    "available_functions = {\n",
    "    \"get_current_weather\": get_current_weather,\n",
    "}\n",
    "\n",
    "# 複数関数が呼び出されることを考慮してループ\n",
    "for tool_call in response_message.tool_calls:\n",
    "    # 関数を実行\n",
    "    function_name = tool_call.function.name\n",
    "    function_to_call = available_functions[function_name]\n",
    "    function_args = json.loads(tool_call.function.arguments)\n",
    "    function_response = function_to_call(\n",
    "        location=function_args.get(\"location\"),\n",
    "        unit=function_args.get(\"unit\"),\n",
    "    )\n",
    "    print(function_response)\n",
    "\n",
    "    # messagesに関数の実行結果を追加\n",
    "    messages.append(\n",
    "        {\n",
    "            \"tool_call_id\": tool_call.id,\n",
    "            \"role\": \"tool\",\n",
    "            \"name\": function_name,\n",
    "            \"content\": function_response,\n",
    "        }\n",
    "    )\n",
    "messages"
   ]
  },
  {
   "cell_type": "markdown",
   "id": "7534c147-44e5-49ba-a5ac-e66819f2772b",
   "metadata": {},
   "source": [
    "### 関数実行を踏まえた応答"
   ]
  },
  {
   "cell_type": "code",
   "execution_count": 18,
   "id": "1f7d57cc-f788-48fd-bb3a-e5b3c59a9f90",
   "metadata": {},
   "outputs": [],
   "source": [
    "response = client.chat.completions.create(\n",
    "    model=\"gpt-4o\",\n",
    "    messages=messages,\n",
    ")"
   ]
  },
  {
   "cell_type": "code",
   "execution_count": 19,
   "id": "431a13b8-5762-49a8-98fc-a1ee6f4dbb5f",
   "metadata": {},
   "outputs": [
    {
     "name": "stdout",
     "output_type": "stream",
     "text": [
      "現在、東京の気温は約10℃です。\n"
     ]
    }
   ],
   "source": [
    "print(response.choices[0].message.content)"
   ]
  }
 ],
 "metadata": {
  "kernelspec": {
   "display_name": "Python 3 (ipykernel)",
   "language": "python",
   "name": "python3"
  },
  "language_info": {
   "codemirror_mode": {
    "name": "ipython",
    "version": 3
   },
   "file_extension": ".py",
   "mimetype": "text/x-python",
   "name": "python",
   "nbconvert_exporter": "python",
   "pygments_lexer": "ipython3",
   "version": "3.12.4"
  }
 },
 "nbformat": 4,
 "nbformat_minor": 5
}
