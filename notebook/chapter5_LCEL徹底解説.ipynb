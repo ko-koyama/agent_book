{
 "cells": [
  {
   "cell_type": "markdown",
   "id": "f80199b8-ba6b-4e20-aa45-77b39ab53b86",
   "metadata": {},
   "source": [
    "# 第5章 LCEL徹底解説"
   ]
  },
  {
   "cell_type": "markdown",
   "id": "eb028a45-42c6-4d90-8de5-626a4270d5ee",
   "metadata": {},
   "source": [
    "## 設定"
   ]
  },
  {
   "cell_type": "code",
   "execution_count": 1,
   "id": "49db6819-05c0-4683-9c4f-1e05958c469a",
   "metadata": {},
   "outputs": [
    {
     "data": {
      "text/plain": [
       "True"
      ]
     },
     "execution_count": 1,
     "metadata": {},
     "output_type": "execute_result"
    }
   ],
   "source": [
    "import json\n",
    "import os\n",
    "import time\n",
    "\n",
    "from dotenv import load_dotenv\n",
    "dotenv_path = \"../.env\"\n",
    "load_dotenv(dotenv_path)"
   ]
  },
  {
   "cell_type": "code",
   "execution_count": 2,
   "id": "b1c19e3a-4f95-4654-b781-8f06df3fbe9b",
   "metadata": {
    "scrolled": true
   },
   "outputs": [
    {
     "name": "stdout",
     "output_type": "stream",
     "text": [
      "Collecting langchain-core==0.3.0\n",
      "  Using cached langchain_core-0.3.0-py3-none-any.whl.metadata (6.2 kB)\n",
      "Requirement already satisfied: PyYAML>=5.3 in c:\\users\\mikan\\documents\\python\\agent_book\\lib\\site-packages (from langchain-core==0.3.0) (6.0.2)\n",
      "Requirement already satisfied: jsonpatch<2.0,>=1.33 in c:\\users\\mikan\\documents\\python\\agent_book\\lib\\site-packages (from langchain-core==0.3.0) (1.33)\n",
      "Requirement already satisfied: langsmith<0.2.0,>=0.1.117 in c:\\users\\mikan\\documents\\python\\agent_book\\lib\\site-packages (from langchain-core==0.3.0) (0.1.147)\n",
      "Requirement already satisfied: packaging<25,>=23.2 in c:\\users\\mikan\\documents\\python\\agent_book\\lib\\site-packages (from langchain-core==0.3.0) (24.2)\n",
      "Requirement already satisfied: pydantic<3.0.0,>=2.7.4 in c:\\users\\mikan\\documents\\python\\agent_book\\lib\\site-packages (from langchain-core==0.3.0) (2.10.4)\n",
      "Requirement already satisfied: tenacity!=8.4.0,<9.0.0,>=8.1.0 in c:\\users\\mikan\\documents\\python\\agent_book\\lib\\site-packages (from langchain-core==0.3.0) (8.5.0)\n",
      "Requirement already satisfied: typing-extensions>=4.7 in c:\\users\\mikan\\documents\\python\\agent_book\\lib\\site-packages (from langchain-core==0.3.0) (4.12.2)\n",
      "Requirement already satisfied: jsonpointer>=1.9 in c:\\users\\mikan\\documents\\python\\agent_book\\lib\\site-packages (from jsonpatch<2.0,>=1.33->langchain-core==0.3.0) (3.0.0)\n",
      "Requirement already satisfied: httpx<1,>=0.23.0 in c:\\users\\mikan\\documents\\python\\agent_book\\lib\\site-packages (from langsmith<0.2.0,>=0.1.117->langchain-core==0.3.0) (0.28.1)\n",
      "Requirement already satisfied: orjson<4.0.0,>=3.9.14 in c:\\users\\mikan\\documents\\python\\agent_book\\lib\\site-packages (from langsmith<0.2.0,>=0.1.117->langchain-core==0.3.0) (3.10.13)\n",
      "Requirement already satisfied: requests<3,>=2 in c:\\users\\mikan\\documents\\python\\agent_book\\lib\\site-packages (from langsmith<0.2.0,>=0.1.117->langchain-core==0.3.0) (2.32.3)\n",
      "Requirement already satisfied: requests-toolbelt<2.0.0,>=1.0.0 in c:\\users\\mikan\\documents\\python\\agent_book\\lib\\site-packages (from langsmith<0.2.0,>=0.1.117->langchain-core==0.3.0) (1.0.0)\n",
      "Requirement already satisfied: annotated-types>=0.6.0 in c:\\users\\mikan\\documents\\python\\agent_book\\lib\\site-packages (from pydantic<3.0.0,>=2.7.4->langchain-core==0.3.0) (0.7.0)\n",
      "Requirement already satisfied: pydantic-core==2.27.2 in c:\\users\\mikan\\documents\\python\\agent_book\\lib\\site-packages (from pydantic<3.0.0,>=2.7.4->langchain-core==0.3.0) (2.27.2)\n",
      "Requirement already satisfied: anyio in c:\\users\\mikan\\documents\\python\\agent_book\\lib\\site-packages (from httpx<1,>=0.23.0->langsmith<0.2.0,>=0.1.117->langchain-core==0.3.0) (4.7.0)\n",
      "Requirement already satisfied: certifi in c:\\users\\mikan\\documents\\python\\agent_book\\lib\\site-packages (from httpx<1,>=0.23.0->langsmith<0.2.0,>=0.1.117->langchain-core==0.3.0) (2024.12.14)\n",
      "Requirement already satisfied: httpcore==1.* in c:\\users\\mikan\\documents\\python\\agent_book\\lib\\site-packages (from httpx<1,>=0.23.0->langsmith<0.2.0,>=0.1.117->langchain-core==0.3.0) (1.0.7)\n",
      "Requirement already satisfied: idna in c:\\users\\mikan\\documents\\python\\agent_book\\lib\\site-packages (from httpx<1,>=0.23.0->langsmith<0.2.0,>=0.1.117->langchain-core==0.3.0) (3.10)\n",
      "Requirement already satisfied: h11<0.15,>=0.13 in c:\\users\\mikan\\documents\\python\\agent_book\\lib\\site-packages (from httpcore==1.*->httpx<1,>=0.23.0->langsmith<0.2.0,>=0.1.117->langchain-core==0.3.0) (0.14.0)\n",
      "Requirement already satisfied: charset-normalizer<4,>=2 in c:\\users\\mikan\\documents\\python\\agent_book\\lib\\site-packages (from requests<3,>=2->langsmith<0.2.0,>=0.1.117->langchain-core==0.3.0) (3.4.1)\n",
      "Requirement already satisfied: urllib3<3,>=1.21.1 in c:\\users\\mikan\\documents\\python\\agent_book\\lib\\site-packages (from requests<3,>=2->langsmith<0.2.0,>=0.1.117->langchain-core==0.3.0) (2.3.0)\n",
      "Requirement already satisfied: sniffio>=1.1 in c:\\users\\mikan\\documents\\python\\agent_book\\lib\\site-packages (from anyio->httpx<1,>=0.23.0->langsmith<0.2.0,>=0.1.117->langchain-core==0.3.0) (1.3.1)\n",
      "Using cached langchain_core-0.3.0-py3-none-any.whl (405 kB)\n",
      "Installing collected packages: langchain-core\n",
      "  Attempting uninstall: langchain-core\n",
      "    Found existing installation: langchain-core 0.3.29\n",
      "    Uninstalling langchain-core-0.3.29:\n",
      "      Successfully uninstalled langchain-core-0.3.29\n",
      "Successfully installed langchain-core-0.3.0\n"
     ]
    },
    {
     "name": "stderr",
     "output_type": "stream",
     "text": [
      "ERROR: pip's dependency resolver does not currently take into account all the packages that are installed. This behaviour is the source of the following dependency conflicts.\n",
      "langchain 0.3.14 requires langchain-core<0.4.0,>=0.3.29, but you have langchain-core 0.3.0 which is incompatible.\n",
      "langchain-text-splitters 0.3.4 requires langchain-core<0.4.0,>=0.3.26, but you have langchain-core 0.3.0 which is incompatible.\n",
      "\n",
      "[notice] A new release of pip is available: 24.0 -> 24.3.1\n",
      "[notice] To update, run: python.exe -m pip install --upgrade pip\n"
     ]
    },
    {
     "name": "stdout",
     "output_type": "stream",
     "text": [
      "Requirement already satisfied: langchain-openai==0.2.0 in c:\\users\\mikan\\documents\\python\\agent_book\\lib\\site-packages (0.2.0)\n",
      "Requirement already satisfied: langchain-core<0.4,>=0.3 in c:\\users\\mikan\\documents\\python\\agent_book\\lib\\site-packages (from langchain-openai==0.2.0) (0.3.0)\n",
      "Requirement already satisfied: openai<2.0.0,>=1.40.0 in c:\\users\\mikan\\documents\\python\\agent_book\\lib\\site-packages (from langchain-openai==0.2.0) (1.59.3)\n",
      "Requirement already satisfied: tiktoken<1,>=0.7 in c:\\users\\mikan\\documents\\python\\agent_book\\lib\\site-packages (from langchain-openai==0.2.0) (0.8.0)\n",
      "Requirement already satisfied: PyYAML>=5.3 in c:\\users\\mikan\\documents\\python\\agent_book\\lib\\site-packages (from langchain-core<0.4,>=0.3->langchain-openai==0.2.0) (6.0.2)\n",
      "Requirement already satisfied: jsonpatch<2.0,>=1.33 in c:\\users\\mikan\\documents\\python\\agent_book\\lib\\site-packages (from langchain-core<0.4,>=0.3->langchain-openai==0.2.0) (1.33)\n",
      "Requirement already satisfied: langsmith<0.2.0,>=0.1.117 in c:\\users\\mikan\\documents\\python\\agent_book\\lib\\site-packages (from langchain-core<0.4,>=0.3->langchain-openai==0.2.0) (0.1.147)\n",
      "Requirement already satisfied: packaging<25,>=23.2 in c:\\users\\mikan\\documents\\python\\agent_book\\lib\\site-packages (from langchain-core<0.4,>=0.3->langchain-openai==0.2.0) (24.2)\n",
      "Requirement already satisfied: pydantic<3.0.0,>=2.7.4 in c:\\users\\mikan\\documents\\python\\agent_book\\lib\\site-packages (from langchain-core<0.4,>=0.3->langchain-openai==0.2.0) (2.10.4)\n",
      "Requirement already satisfied: tenacity!=8.4.0,<9.0.0,>=8.1.0 in c:\\users\\mikan\\documents\\python\\agent_book\\lib\\site-packages (from langchain-core<0.4,>=0.3->langchain-openai==0.2.0) (8.5.0)\n",
      "Requirement already satisfied: typing-extensions>=4.7 in c:\\users\\mikan\\documents\\python\\agent_book\\lib\\site-packages (from langchain-core<0.4,>=0.3->langchain-openai==0.2.0) (4.12.2)\n",
      "Requirement already satisfied: anyio<5,>=3.5.0 in c:\\users\\mikan\\documents\\python\\agent_book\\lib\\site-packages (from openai<2.0.0,>=1.40.0->langchain-openai==0.2.0) (4.7.0)\n",
      "Requirement already satisfied: distro<2,>=1.7.0 in c:\\users\\mikan\\documents\\python\\agent_book\\lib\\site-packages (from openai<2.0.0,>=1.40.0->langchain-openai==0.2.0) (1.9.0)\n",
      "Requirement already satisfied: httpx<1,>=0.23.0 in c:\\users\\mikan\\documents\\python\\agent_book\\lib\\site-packages (from openai<2.0.0,>=1.40.0->langchain-openai==0.2.0) (0.28.1)\n",
      "Requirement already satisfied: jiter<1,>=0.4.0 in c:\\users\\mikan\\documents\\python\\agent_book\\lib\\site-packages (from openai<2.0.0,>=1.40.0->langchain-openai==0.2.0) (0.8.2)\n",
      "Requirement already satisfied: sniffio in c:\\users\\mikan\\documents\\python\\agent_book\\lib\\site-packages (from openai<2.0.0,>=1.40.0->langchain-openai==0.2.0) (1.3.1)\n",
      "Requirement already satisfied: tqdm>4 in c:\\users\\mikan\\documents\\python\\agent_book\\lib\\site-packages (from openai<2.0.0,>=1.40.0->langchain-openai==0.2.0) (4.67.1)\n",
      "Requirement already satisfied: regex>=2022.1.18 in c:\\users\\mikan\\documents\\python\\agent_book\\lib\\site-packages (from tiktoken<1,>=0.7->langchain-openai==0.2.0) (2024.11.6)\n",
      "Requirement already satisfied: requests>=2.26.0 in c:\\users\\mikan\\documents\\python\\agent_book\\lib\\site-packages (from tiktoken<1,>=0.7->langchain-openai==0.2.0) (2.32.3)\n",
      "Requirement already satisfied: idna>=2.8 in c:\\users\\mikan\\documents\\python\\agent_book\\lib\\site-packages (from anyio<5,>=3.5.0->openai<2.0.0,>=1.40.0->langchain-openai==0.2.0) (3.10)\n",
      "Requirement already satisfied: certifi in c:\\users\\mikan\\documents\\python\\agent_book\\lib\\site-packages (from httpx<1,>=0.23.0->openai<2.0.0,>=1.40.0->langchain-openai==0.2.0) (2024.12.14)\n",
      "Requirement already satisfied: httpcore==1.* in c:\\users\\mikan\\documents\\python\\agent_book\\lib\\site-packages (from httpx<1,>=0.23.0->openai<2.0.0,>=1.40.0->langchain-openai==0.2.0) (1.0.7)\n",
      "Requirement already satisfied: h11<0.15,>=0.13 in c:\\users\\mikan\\documents\\python\\agent_book\\lib\\site-packages (from httpcore==1.*->httpx<1,>=0.23.0->openai<2.0.0,>=1.40.0->langchain-openai==0.2.0) (0.14.0)\n",
      "Requirement already satisfied: jsonpointer>=1.9 in c:\\users\\mikan\\documents\\python\\agent_book\\lib\\site-packages (from jsonpatch<2.0,>=1.33->langchain-core<0.4,>=0.3->langchain-openai==0.2.0) (3.0.0)\n",
      "Requirement already satisfied: orjson<4.0.0,>=3.9.14 in c:\\users\\mikan\\documents\\python\\agent_book\\lib\\site-packages (from langsmith<0.2.0,>=0.1.117->langchain-core<0.4,>=0.3->langchain-openai==0.2.0) (3.10.13)\n",
      "Requirement already satisfied: requests-toolbelt<2.0.0,>=1.0.0 in c:\\users\\mikan\\documents\\python\\agent_book\\lib\\site-packages (from langsmith<0.2.0,>=0.1.117->langchain-core<0.4,>=0.3->langchain-openai==0.2.0) (1.0.0)\n",
      "Requirement already satisfied: annotated-types>=0.6.0 in c:\\users\\mikan\\documents\\python\\agent_book\\lib\\site-packages (from pydantic<3.0.0,>=2.7.4->langchain-core<0.4,>=0.3->langchain-openai==0.2.0) (0.7.0)\n",
      "Requirement already satisfied: pydantic-core==2.27.2 in c:\\users\\mikan\\documents\\python\\agent_book\\lib\\site-packages (from pydantic<3.0.0,>=2.7.4->langchain-core<0.4,>=0.3->langchain-openai==0.2.0) (2.27.2)\n",
      "Requirement already satisfied: charset-normalizer<4,>=2 in c:\\users\\mikan\\documents\\python\\agent_book\\lib\\site-packages (from requests>=2.26.0->tiktoken<1,>=0.7->langchain-openai==0.2.0) (3.4.1)\n",
      "Requirement already satisfied: urllib3<3,>=1.21.1 in c:\\users\\mikan\\documents\\python\\agent_book\\lib\\site-packages (from requests>=2.26.0->tiktoken<1,>=0.7->langchain-openai==0.2.0) (2.3.0)\n",
      "Requirement already satisfied: colorama in c:\\users\\mikan\\documents\\python\\agent_book\\lib\\site-packages (from tqdm>4->openai<2.0.0,>=1.40.0->langchain-openai==0.2.0) (0.4.6)\n"
     ]
    },
    {
     "name": "stderr",
     "output_type": "stream",
     "text": [
      "\n",
      "[notice] A new release of pip is available: 24.0 -> 24.3.1\n",
      "[notice] To update, run: python.exe -m pip install --upgrade pip\n"
     ]
    },
    {
     "name": "stdout",
     "output_type": "stream",
     "text": [
      "Requirement already satisfied: langchain-community==0.3.0 in c:\\users\\mikan\\documents\\python\\agent_book\\lib\\site-packages (0.3.0)\n",
      "Requirement already satisfied: PyYAML>=5.3 in c:\\users\\mikan\\documents\\python\\agent_book\\lib\\site-packages (from langchain-community==0.3.0) (6.0.2)\n",
      "Requirement already satisfied: SQLAlchemy<3,>=1.4 in c:\\users\\mikan\\documents\\python\\agent_book\\lib\\site-packages (from langchain-community==0.3.0) (2.0.36)\n",
      "Requirement already satisfied: aiohttp<4.0.0,>=3.8.3 in c:\\users\\mikan\\documents\\python\\agent_book\\lib\\site-packages (from langchain-community==0.3.0) (3.11.11)\n",
      "Requirement already satisfied: dataclasses-json<0.7,>=0.5.7 in c:\\users\\mikan\\documents\\python\\agent_book\\lib\\site-packages (from langchain-community==0.3.0) (0.6.7)\n",
      "Requirement already satisfied: langchain<0.4.0,>=0.3.0 in c:\\users\\mikan\\documents\\python\\agent_book\\lib\\site-packages (from langchain-community==0.3.0) (0.3.14)\n",
      "Requirement already satisfied: langchain-core<0.4.0,>=0.3.0 in c:\\users\\mikan\\documents\\python\\agent_book\\lib\\site-packages (from langchain-community==0.3.0) (0.3.0)\n",
      "Requirement already satisfied: langsmith<0.2.0,>=0.1.112 in c:\\users\\mikan\\documents\\python\\agent_book\\lib\\site-packages (from langchain-community==0.3.0) (0.1.147)\n",
      "Requirement already satisfied: numpy<2.0.0,>=1.26.0 in c:\\users\\mikan\\documents\\python\\agent_book\\lib\\site-packages (from langchain-community==0.3.0) (1.26.4)\n",
      "Requirement already satisfied: pydantic-settings<3.0.0,>=2.4.0 in c:\\users\\mikan\\documents\\python\\agent_book\\lib\\site-packages (from langchain-community==0.3.0) (2.7.1)\n",
      "Requirement already satisfied: requests<3,>=2 in c:\\users\\mikan\\documents\\python\\agent_book\\lib\\site-packages (from langchain-community==0.3.0) (2.32.3)\n",
      "Requirement already satisfied: tenacity!=8.4.0,<9.0.0,>=8.1.0 in c:\\users\\mikan\\documents\\python\\agent_book\\lib\\site-packages (from langchain-community==0.3.0) (8.5.0)\n",
      "Requirement already satisfied: aiohappyeyeballs>=2.3.0 in c:\\users\\mikan\\documents\\python\\agent_book\\lib\\site-packages (from aiohttp<4.0.0,>=3.8.3->langchain-community==0.3.0) (2.4.4)\n",
      "Requirement already satisfied: aiosignal>=1.1.2 in c:\\users\\mikan\\documents\\python\\agent_book\\lib\\site-packages (from aiohttp<4.0.0,>=3.8.3->langchain-community==0.3.0) (1.3.2)\n",
      "Requirement already satisfied: attrs>=17.3.0 in c:\\users\\mikan\\documents\\python\\agent_book\\lib\\site-packages (from aiohttp<4.0.0,>=3.8.3->langchain-community==0.3.0) (24.3.0)\n",
      "Requirement already satisfied: frozenlist>=1.1.1 in c:\\users\\mikan\\documents\\python\\agent_book\\lib\\site-packages (from aiohttp<4.0.0,>=3.8.3->langchain-community==0.3.0) (1.5.0)\n",
      "Requirement already satisfied: multidict<7.0,>=4.5 in c:\\users\\mikan\\documents\\python\\agent_book\\lib\\site-packages (from aiohttp<4.0.0,>=3.8.3->langchain-community==0.3.0) (6.1.0)\n",
      "Requirement already satisfied: propcache>=0.2.0 in c:\\users\\mikan\\documents\\python\\agent_book\\lib\\site-packages (from aiohttp<4.0.0,>=3.8.3->langchain-community==0.3.0) (0.2.1)\n",
      "Requirement already satisfied: yarl<2.0,>=1.17.0 in c:\\users\\mikan\\documents\\python\\agent_book\\lib\\site-packages (from aiohttp<4.0.0,>=3.8.3->langchain-community==0.3.0) (1.18.3)\n",
      "Requirement already satisfied: marshmallow<4.0.0,>=3.18.0 in c:\\users\\mikan\\documents\\python\\agent_book\\lib\\site-packages (from dataclasses-json<0.7,>=0.5.7->langchain-community==0.3.0) (3.23.3)\n",
      "Requirement already satisfied: typing-inspect<1,>=0.4.0 in c:\\users\\mikan\\documents\\python\\agent_book\\lib\\site-packages (from dataclasses-json<0.7,>=0.5.7->langchain-community==0.3.0) (0.9.0)\n",
      "Collecting langchain-core<0.4.0,>=0.3.0 (from langchain-community==0.3.0)\n",
      "  Using cached langchain_core-0.3.29-py3-none-any.whl.metadata (6.3 kB)\n",
      "Requirement already satisfied: langchain-text-splitters<0.4.0,>=0.3.3 in c:\\users\\mikan\\documents\\python\\agent_book\\lib\\site-packages (from langchain<0.4.0,>=0.3.0->langchain-community==0.3.0) (0.3.4)\n",
      "Requirement already satisfied: pydantic<3.0.0,>=2.7.4 in c:\\users\\mikan\\documents\\python\\agent_book\\lib\\site-packages (from langchain<0.4.0,>=0.3.0->langchain-community==0.3.0) (2.10.4)\n",
      "Requirement already satisfied: jsonpatch<2.0,>=1.33 in c:\\users\\mikan\\documents\\python\\agent_book\\lib\\site-packages (from langchain-core<0.4.0,>=0.3.0->langchain-community==0.3.0) (1.33)\n",
      "Requirement already satisfied: packaging<25,>=23.2 in c:\\users\\mikan\\documents\\python\\agent_book\\lib\\site-packages (from langchain-core<0.4.0,>=0.3.0->langchain-community==0.3.0) (24.2)\n",
      "Requirement already satisfied: typing-extensions>=4.7 in c:\\users\\mikan\\documents\\python\\agent_book\\lib\\site-packages (from langchain-core<0.4.0,>=0.3.0->langchain-community==0.3.0) (4.12.2)\n",
      "Requirement already satisfied: httpx<1,>=0.23.0 in c:\\users\\mikan\\documents\\python\\agent_book\\lib\\site-packages (from langsmith<0.2.0,>=0.1.112->langchain-community==0.3.0) (0.28.1)\n",
      "Requirement already satisfied: orjson<4.0.0,>=3.9.14 in c:\\users\\mikan\\documents\\python\\agent_book\\lib\\site-packages (from langsmith<0.2.0,>=0.1.112->langchain-community==0.3.0) (3.10.13)\n",
      "Requirement already satisfied: requests-toolbelt<2.0.0,>=1.0.0 in c:\\users\\mikan\\documents\\python\\agent_book\\lib\\site-packages (from langsmith<0.2.0,>=0.1.112->langchain-community==0.3.0) (1.0.0)\n",
      "Requirement already satisfied: python-dotenv>=0.21.0 in c:\\users\\mikan\\documents\\python\\agent_book\\lib\\site-packages (from pydantic-settings<3.0.0,>=2.4.0->langchain-community==0.3.0) (1.0.1)\n",
      "Requirement already satisfied: charset-normalizer<4,>=2 in c:\\users\\mikan\\documents\\python\\agent_book\\lib\\site-packages (from requests<3,>=2->langchain-community==0.3.0) (3.4.1)\n",
      "Requirement already satisfied: idna<4,>=2.5 in c:\\users\\mikan\\documents\\python\\agent_book\\lib\\site-packages (from requests<3,>=2->langchain-community==0.3.0) (3.10)\n",
      "Requirement already satisfied: urllib3<3,>=1.21.1 in c:\\users\\mikan\\documents\\python\\agent_book\\lib\\site-packages (from requests<3,>=2->langchain-community==0.3.0) (2.3.0)\n",
      "Requirement already satisfied: certifi>=2017.4.17 in c:\\users\\mikan\\documents\\python\\agent_book\\lib\\site-packages (from requests<3,>=2->langchain-community==0.3.0) (2024.12.14)\n",
      "Requirement already satisfied: greenlet!=0.4.17 in c:\\users\\mikan\\documents\\python\\agent_book\\lib\\site-packages (from SQLAlchemy<3,>=1.4->langchain-community==0.3.0) (3.1.1)\n",
      "Requirement already satisfied: anyio in c:\\users\\mikan\\documents\\python\\agent_book\\lib\\site-packages (from httpx<1,>=0.23.0->langsmith<0.2.0,>=0.1.112->langchain-community==0.3.0) (4.7.0)\n",
      "Requirement already satisfied: httpcore==1.* in c:\\users\\mikan\\documents\\python\\agent_book\\lib\\site-packages (from httpx<1,>=0.23.0->langsmith<0.2.0,>=0.1.112->langchain-community==0.3.0) (1.0.7)\n",
      "Requirement already satisfied: h11<0.15,>=0.13 in c:\\users\\mikan\\documents\\python\\agent_book\\lib\\site-packages (from httpcore==1.*->httpx<1,>=0.23.0->langsmith<0.2.0,>=0.1.112->langchain-community==0.3.0) (0.14.0)\n",
      "Requirement already satisfied: jsonpointer>=1.9 in c:\\users\\mikan\\documents\\python\\agent_book\\lib\\site-packages (from jsonpatch<2.0,>=1.33->langchain-core<0.4.0,>=0.3.0->langchain-community==0.3.0) (3.0.0)\n",
      "Requirement already satisfied: annotated-types>=0.6.0 in c:\\users\\mikan\\documents\\python\\agent_book\\lib\\site-packages (from pydantic<3.0.0,>=2.7.4->langchain<0.4.0,>=0.3.0->langchain-community==0.3.0) (0.7.0)\n",
      "Requirement already satisfied: pydantic-core==2.27.2 in c:\\users\\mikan\\documents\\python\\agent_book\\lib\\site-packages (from pydantic<3.0.0,>=2.7.4->langchain<0.4.0,>=0.3.0->langchain-community==0.3.0) (2.27.2)\n",
      "Requirement already satisfied: mypy-extensions>=0.3.0 in c:\\users\\mikan\\documents\\python\\agent_book\\lib\\site-packages (from typing-inspect<1,>=0.4.0->dataclasses-json<0.7,>=0.5.7->langchain-community==0.3.0) (1.0.0)\n",
      "Requirement already satisfied: sniffio>=1.1 in c:\\users\\mikan\\documents\\python\\agent_book\\lib\\site-packages (from anyio->httpx<1,>=0.23.0->langsmith<0.2.0,>=0.1.112->langchain-community==0.3.0) (1.3.1)\n",
      "Using cached langchain_core-0.3.29-py3-none-any.whl (411 kB)\n",
      "Installing collected packages: langchain-core\n",
      "  Attempting uninstall: langchain-core\n",
      "    Found existing installation: langchain-core 0.3.0\n",
      "    Uninstalling langchain-core-0.3.0:\n",
      "      Successfully uninstalled langchain-core-0.3.0\n",
      "Successfully installed langchain-core-0.3.29\n"
     ]
    },
    {
     "name": "stderr",
     "output_type": "stream",
     "text": [
      "\n",
      "[notice] A new release of pip is available: 24.0 -> 24.3.1\n",
      "[notice] To update, run: python.exe -m pip install --upgrade pip\n"
     ]
    },
    {
     "name": "stdout",
     "output_type": "stream",
     "text": [
      "Requirement already satisfied: tavily-python==0.5.0 in c:\\users\\mikan\\documents\\python\\agent_book\\lib\\site-packages (0.5.0)\n",
      "Requirement already satisfied: requests in c:\\users\\mikan\\documents\\python\\agent_book\\lib\\site-packages (from tavily-python==0.5.0) (2.32.3)\n",
      "Requirement already satisfied: tiktoken>=0.5.1 in c:\\users\\mikan\\documents\\python\\agent_book\\lib\\site-packages (from tavily-python==0.5.0) (0.8.0)\n",
      "Requirement already satisfied: httpx in c:\\users\\mikan\\documents\\python\\agent_book\\lib\\site-packages (from tavily-python==0.5.0) (0.28.1)\n",
      "Requirement already satisfied: regex>=2022.1.18 in c:\\users\\mikan\\documents\\python\\agent_book\\lib\\site-packages (from tiktoken>=0.5.1->tavily-python==0.5.0) (2024.11.6)\n",
      "Requirement already satisfied: charset-normalizer<4,>=2 in c:\\users\\mikan\\documents\\python\\agent_book\\lib\\site-packages (from requests->tavily-python==0.5.0) (3.4.1)\n",
      "Requirement already satisfied: idna<4,>=2.5 in c:\\users\\mikan\\documents\\python\\agent_book\\lib\\site-packages (from requests->tavily-python==0.5.0) (3.10)\n",
      "Requirement already satisfied: urllib3<3,>=1.21.1 in c:\\users\\mikan\\documents\\python\\agent_book\\lib\\site-packages (from requests->tavily-python==0.5.0) (2.3.0)\n",
      "Requirement already satisfied: certifi>=2017.4.17 in c:\\users\\mikan\\documents\\python\\agent_book\\lib\\site-packages (from requests->tavily-python==0.5.0) (2024.12.14)\n",
      "Requirement already satisfied: anyio in c:\\users\\mikan\\documents\\python\\agent_book\\lib\\site-packages (from httpx->tavily-python==0.5.0) (4.7.0)\n",
      "Requirement already satisfied: httpcore==1.* in c:\\users\\mikan\\documents\\python\\agent_book\\lib\\site-packages (from httpx->tavily-python==0.5.0) (1.0.7)\n",
      "Requirement already satisfied: h11<0.15,>=0.13 in c:\\users\\mikan\\documents\\python\\agent_book\\lib\\site-packages (from httpcore==1.*->httpx->tavily-python==0.5.0) (0.14.0)\n",
      "Requirement already satisfied: sniffio>=1.1 in c:\\users\\mikan\\documents\\python\\agent_book\\lib\\site-packages (from anyio->httpx->tavily-python==0.5.0) (1.3.1)\n",
      "Requirement already satisfied: typing_extensions>=4.5 in c:\\users\\mikan\\documents\\python\\agent_book\\lib\\site-packages (from anyio->httpx->tavily-python==0.5.0) (4.12.2)\n"
     ]
    },
    {
     "name": "stderr",
     "output_type": "stream",
     "text": [
      "\n",
      "[notice] A new release of pip is available: 24.0 -> 24.3.1\n",
      "[notice] To update, run: python.exe -m pip install --upgrade pip\n"
     ]
    }
   ],
   "source": [
    "!pip install langchain-core==0.3.0\n",
    "!pip install langchain-openai==0.2.0\n",
    "!pip install langchain-community==0.3.0\n",
    "!pip install tavily-python==0.5.0"
   ]
  },
  {
   "cell_type": "markdown",
   "id": "58524691-333a-4f01-bcb6-cb2867cba386",
   "metadata": {},
   "source": [
    "## RunnableSequence（基本的な構成）"
   ]
  },
  {
   "cell_type": "code",
   "execution_count": 3,
   "id": "98801db5-df88-4fff-8977-6ef4c2c41ad1",
   "metadata": {},
   "outputs": [],
   "source": [
    "from langchain_core.prompts import ChatPromptTemplate\n",
    "from langchain_openai import ChatOpenAI\n",
    "from langchain_core.output_parsers import StrOutputParser"
   ]
  },
  {
   "cell_type": "code",
   "execution_count": 4,
   "id": "368a33ae-1050-4ab6-b342-f97e7bf4a845",
   "metadata": {},
   "outputs": [],
   "source": [
    "prompt = ChatPromptTemplate.from_messages(\n",
    "    [\n",
    "        (\"system\", \"ユーザが入力した料理のレシピを教えてください。\"),\n",
    "        (\"human\", \"{dish}\"),\n",
    "    ]\n",
    ")"
   ]
  },
  {
   "cell_type": "code",
   "execution_count": 5,
   "id": "f925a748-0b2d-40ab-ba00-3fbf22b38e50",
   "metadata": {},
   "outputs": [],
   "source": [
    "model = ChatOpenAI(model=\"gpt-4o-mini\", temperature=0)"
   ]
  },
  {
   "cell_type": "code",
   "execution_count": 6,
   "id": "60459055-63a3-4235-9b09-103a0bd730a7",
   "metadata": {},
   "outputs": [],
   "source": [
    "output_parser = StrOutputParser()"
   ]
  },
  {
   "cell_type": "markdown",
   "id": "28cfe00e-e9d8-4e02-9e53-fb6219441be5",
   "metadata": {},
   "source": [
    "### 明示的に実行"
   ]
  },
  {
   "cell_type": "code",
   "execution_count": 7,
   "id": "717b8f10-96e5-4326-b634-4852c2326a18",
   "metadata": {},
   "outputs": [
    {
     "name": "stdout",
     "output_type": "stream",
     "text": [
      "カレーの基本的なレシピをご紹介します。以下は、一般的なチキンカレーの作り方です。\n",
      "\n",
      "### 材料（4人分）\n",
      "- 鶏肉（もも肉または胸肉）：400g\n",
      "- 玉ねぎ：2個\n",
      "- にんにく：2片\n",
      "- 生姜：1片\n",
      "- トマト：1個（またはトマト缶）\n",
      "- カレーパウダー：大さじ2\n",
      "- 塩：適量\n",
      "- 胡椒：適量\n",
      "- サラダ油：大さじ2\n",
      "- 水：400ml\n",
      "- お好みで：じゃがいも、にんじん、ピーマンなどの野菜\n",
      "\n",
      "### 作り方\n",
      "1. **下ごしらえ**:\n",
      "   - 鶏肉は一口大に切り、塩と胡椒を振っておきます。\n",
      "   - 玉ねぎは薄切り、にんにくと生姜はみじん切りにします。\n",
      "   - トマトは角切りにします。\n",
      "\n",
      "2. **炒める**:\n",
      "   - 鍋にサラダ油を熱し、玉ねぎを中火で炒めます。玉ねぎが透明になるまで炒めます。\n",
      "   - にんにくと生姜を加え、香りが立つまでさらに炒めます。\n",
      "\n",
      "3. **鶏肉を加える**:\n",
      "   - 鶏肉を鍋に加え、表面が白くなるまで炒めます。\n",
      "\n",
      "4. **スパイスを加える**:\n",
      "   - カレーパウダーを加え、全体に絡めるように炒めます。\n",
      "\n",
      "5. **トマトと水を加える**:\n",
      "   - トマトを加え、全体を混ぜたら、水を加えます。沸騰したら、アクを取り除きます。\n",
      "\n",
      "6. **煮込む**:\n",
      "   - 蓋をして、中火で約20分煮込みます。お好みで、じゃがいもやにんじんを加える場合は、このタイミングで入れます。\n",
      "\n",
      "7. **味を調える**:\n",
      "   - 最後に塩で味を調整し、必要に応じてさらに煮込んでください。\n",
      "\n",
      "8. **盛り付け**:\n",
      "   - ご飯と一緒に盛り付けて、お好みでパセリやヨーグルトを添えて完成です。\n",
      "\n",
      "### お好みで\n",
      "- ココナッツミルクを加えると、まろやかな味わいになります。\n",
      "- 辛さを調整したい場合は、チリパウダーやハラペーニョを加えてください。\n",
      "\n",
      "ぜひお試しください！\n"
     ]
    }
   ],
   "source": [
    "prompt_value = prompt.invoke({\"dish\": \"カレー\"})\n",
    "ai_message = model.invoke(prompt_value)\n",
    "output = output_parser.invoke(ai_message)\n",
    "print(output)"
   ]
  },
  {
   "cell_type": "markdown",
   "id": "2e756c4a-2903-4564-8e2e-4ce721573ba6",
   "metadata": {},
   "source": [
    "### LCELで実行"
   ]
  },
  {
   "cell_type": "code",
   "execution_count": 8,
   "id": "beb5970c-00f2-4f4c-9afa-d23b18a6bc36",
   "metadata": {},
   "outputs": [
    {
     "name": "stdout",
     "output_type": "stream",
     "text": [
      "カレーの基本的なレシピをご紹介します。以下は、一般的なチキンカレーの作り方です。\n",
      "\n",
      "### 材料\n",
      "- 鶏肉（もも肉または胸肉）: 500g\n",
      "- 玉ねぎ: 2個\n",
      "- にんにく: 2片\n",
      "- 生姜: 1片\n",
      "- トマト: 1個（またはトマト缶）\n",
      "- カレーパウダー: 大さじ2\n",
      "- 塩: 適量\n",
      "- 胡椒: 適量\n",
      "- サラダ油: 大さじ2\n",
      "- 水: 400ml\n",
      "- お好みで野菜（じゃがいも、にんじん、ピーマンなど）\n",
      "\n",
      "### 作り方\n",
      "1. **下ごしらえ**:\n",
      "   - 鶏肉は一口大に切り、塩と胡椒を振っておきます。\n",
      "   - 玉ねぎは薄切り、にんにくと生姜はみじん切りにします。\n",
      "   - トマトはざく切りにします。\n",
      "\n",
      "2. **炒める**:\n",
      "   - 鍋にサラダ油を熱し、玉ねぎを中火で炒めます。玉ねぎが透明になるまで炒めます。\n",
      "   - にんにくと生姜を加え、香りが立つまでさらに炒めます。\n",
      "\n",
      "3. **鶏肉を加える**:\n",
      "   - 鶏肉を鍋に加え、表面が白くなるまで炒めます。\n",
      "\n",
      "4. **スパイスを加える**:\n",
      "   - カレーパウダーを加え、全体に絡めるように炒めます。\n",
      "\n",
      "5. **トマトと水を加える**:\n",
      "   - トマトを加え、全体を混ぜたら、水を加えます。沸騰したら、アクを取り除きます。\n",
      "\n",
      "6. **煮込む**:\n",
      "   - 蓋をして弱火で約20〜30分煮込みます。お好みでじゃがいもやにんじんを加える場合は、このタイミングで入れます。\n",
      "\n",
      "7. **味を調える**:\n",
      "   - 最後に塩で味を調整し、必要に応じてさらに煮込んでください。\n",
      "\n",
      "8. **盛り付け**:\n",
      "   - ご飯やナンと一緒に盛り付けて完成です。\n",
      "\n",
      "お好みで、ヨーグルトやパクチーをトッピングしても美味しいです。お楽しみください！\n"
     ]
    }
   ],
   "source": [
    "chain = prompt | model | output_parser\n",
    "output = chain.invoke({\"dish\": \"カレー\"})\n",
    "print(output)"
   ]
  },
  {
   "cell_type": "markdown",
   "id": "a57b8182-1a89-43c1-ad66-2d307c39483c",
   "metadata": {},
   "source": [
    "**LCELでは各Runnable前後の型の整合性に注意！**  \n",
    "* (dict) -> prompt -> (ChatPromptValue)\n",
    "* (ChatPromptValue) -> model -> (AIMessage)\n",
    "* (AIMessage) -> output_parser -> (string)"
   ]
  },
  {
   "cell_type": "markdown",
   "id": "1d0791cd-9a36-4ee7-9187-1fa7eb29fe01",
   "metadata": {},
   "source": [
    "## 任意の関数をRunnable化"
   ]
  },
  {
   "cell_type": "code",
   "execution_count": 9,
   "id": "cb690fc9-0374-4538-9d17-372f64320040",
   "metadata": {},
   "outputs": [],
   "source": [
    "prompt = ChatPromptTemplate.from_messages(\n",
    "    [\n",
    "        (\"system\", \"You are a helpful assistant.\"),\n",
    "        (\"human\", \"{input}\"),\n",
    "    ]\n",
    ")\n",
    "\n",
    "model = ChatOpenAI(model=\"gpt-4o-mini\", temperature=0)\n",
    "\n",
    "output_parser = StrOutputParser()"
   ]
  },
  {
   "cell_type": "code",
   "execution_count": 10,
   "id": "8d92983a-4431-4d1e-ba1f-659aa3d637c8",
   "metadata": {},
   "outputs": [],
   "source": [
    "# 小文字を大文字化する関数\n",
    "def upper(text: str) -> str:\n",
    "    return text.upper()"
   ]
  },
  {
   "cell_type": "code",
   "execution_count": 11,
   "id": "f060501c-176a-446a-a5e2-dfa6eec74b2b",
   "metadata": {},
   "outputs": [
    {
     "name": "stdout",
     "output_type": "stream",
     "text": [
      "HELLO! HOW CAN I ASSIST YOU TODAY?\n"
     ]
    }
   ],
   "source": [
    "# 明示的に宣言せずとも、自動的にRunnable化する\n",
    "chain = prompt | model | output_parser | upper\n",
    "output = chain.invoke({\"input\": \"Hello\"})\n",
    "print(output)"
   ]
  },
  {
   "cell_type": "markdown",
   "id": "e92b2944-9813-4cbf-b223-42ee5c2a330f",
   "metadata": {},
   "source": [
    "* (dict) -> prompt -> (ChatPromptValue)\n",
    "* (ChatPromptValue) -> model -> (AIMessage)\n",
    "* (AIMessage) -> output_parser -> (string)\n",
    "* (string) -> upper -> (string)"
   ]
  },
  {
   "cell_type": "markdown",
   "id": "3a7c8092-0e91-4866-a05e-79e99324582c",
   "metadata": {},
   "source": [
    "## 2つのchainを直列につなげる"
   ]
  },
  {
   "cell_type": "code",
   "execution_count": 12,
   "id": "8c3b9f10-ac39-4adc-a1fd-240b737f15a3",
   "metadata": {},
   "outputs": [],
   "source": [
    "model = ChatOpenAI(model=\"gpt-4o-mini\", temperature=0)\n",
    "\n",
    "output_parser = StrOutputParser()"
   ]
  },
  {
   "cell_type": "code",
   "execution_count": 13,
   "id": "eccd7b0a-bd36-4180-a552-1198cb351724",
   "metadata": {},
   "outputs": [],
   "source": [
    "cot_prompt = ChatPromptTemplate.from_messages(\n",
    "    [\n",
    "        (\"system\", \"ユーザの質問にステップバイステップで回答してください。\"),\n",
    "        (\"human\", \"{question}\"),\n",
    "    ]\n",
    ")\n",
    "cot_chain = cot_prompt | model | output_parser"
   ]
  },
  {
   "cell_type": "code",
   "execution_count": 14,
   "id": "2eab016b-4f28-44a5-8572-4f8801a26b50",
   "metadata": {},
   "outputs": [],
   "source": [
    "summarize_prompt = ChatPromptTemplate.from_messages(\n",
    "    [\n",
    "        (\"system\", \"ステップバイステップで考えた回答から結論だけを抽出してください。\"),\n",
    "        (\"human\", \"{cot_answer}\"),\n",
    "    ]\n",
    ")\n",
    "summarize_chain = summarize_prompt | model | output_parser"
   ]
  },
  {
   "cell_type": "code",
   "execution_count": 15,
   "id": "03fcfb4b-7715-422a-bc80-45e077f15887",
   "metadata": {},
   "outputs": [
    {
     "name": "stdout",
     "output_type": "stream",
     "text": [
      "10 + 2 * 3 の答えは **16** です。\n"
     ]
    }
   ],
   "source": [
    "cot_summarize_chain = cot_chain | summarize_chain\n",
    "output = cot_summarize_chain.invoke({\"question\": \"10 + 2 * 3\"})\n",
    "print(output)"
   ]
  },
  {
   "cell_type": "markdown",
   "id": "3dba3373-3fc7-45a1-9808-777398cc6129",
   "metadata": {},
   "source": [
    "* (dict) -> cot_chain -> (string)\n",
    "    * (dict) -> cot_prompt -> (ChatPromptValue)\n",
    "    * (ChatPromptValue) -> model -> (AIMessage)\n",
    "    * (AIMessage) -> output_parser -> (string)\n",
    "* (dict) -> summarize_chain -> (string)\n",
    "    * (string) -> summarize_prompt -> (ChatPromptValue)\n",
    "        * プロンプトの変数が1つのため、stringでも入力可\n",
    "    * (ChatPromptValue) -> model -> (AIMessage)\n",
    "    * (AIMessage) -> output_parser -> (string)"
   ]
  },
  {
   "cell_type": "markdown",
   "id": "eb6a8b3e-b0bf-4b39-af2c-27ad229eb525",
   "metadata": {},
   "source": [
    "## RunnableParallel（並列）"
   ]
  },
  {
   "cell_type": "code",
   "execution_count": 16,
   "id": "139d2f38-1271-4cfe-b539-75bb20be0f89",
   "metadata": {},
   "outputs": [],
   "source": [
    "from langchain_core.runnables import RunnableParallel"
   ]
  },
  {
   "cell_type": "code",
   "execution_count": 17,
   "id": "b042b89e-d45b-4868-bdc6-365fcdf31c0c",
   "metadata": {},
   "outputs": [],
   "source": [
    "model = ChatOpenAI(model=\"gpt-4o-mini\", temperature=0)\n",
    "\n",
    "output_parser = StrOutputParser()"
   ]
  },
  {
   "cell_type": "code",
   "execution_count": 18,
   "id": "26c7831a-3bdd-4a62-bb33-8ed269bbc700",
   "metadata": {},
   "outputs": [],
   "source": [
    "optimistic_prompt = ChatPromptTemplate.from_messages(\n",
    "    [\n",
    "        (\n",
    "            \"system\",\n",
    "            \"あなたは楽観主義者です。ユーザの入力に対して楽観的な意見をください。\",\n",
    "        ),\n",
    "        (\n",
    "            \"human\",\n",
    "            \"{topic}\",\n",
    "        ),\n",
    "    ]\n",
    ")\n",
    "optimistic_chain = optimistic_prompt | model | output_parser"
   ]
  },
  {
   "cell_type": "code",
   "execution_count": 19,
   "id": "951e7bfd-f023-4857-89a9-9a5a3005d2bd",
   "metadata": {},
   "outputs": [],
   "source": [
    "pessimistic_prompt = ChatPromptTemplate.from_messages(\n",
    "    [\n",
    "        (\n",
    "            \"system\",\n",
    "            \"あなたは悲観楽観主義者です。ユーザの入力に対して楽観的な意見をください。\",\n",
    "        ),\n",
    "        (\n",
    "            \"human\",\n",
    "            \"{topic}\",\n",
    "        ),\n",
    "    ]\n",
    ")\n",
    "pessimistic_chain = pessimistic_prompt | model | output_parser"
   ]
  },
  {
   "cell_type": "code",
   "execution_count": 20,
   "id": "45870ddc-881f-47ae-82a0-4b1dd9ec4dd3",
   "metadata": {
    "scrolled": true
   },
   "outputs": [
    {
     "name": "stdout",
     "output_type": "stream",
     "text": [
      "{'optimistic_opinion': '生成AIの進化は本当に素晴らしいですね！技術が進むことで、私たちの生活がより便利で豊かになる可能性が広がっています。例えば、クリエイティブな作業やデータ分析、教育など、さまざまな分野での活用が進んでいます。これにより、私たちは新しいアイデアや解決策を見つけやすくなり、より効率的に目標を達成できるようになるでしょう。\\n\\nまた、生成AIは人々のコミュニケーションやコラボレーションを促進するツールとしても期待されています。異なるバックグラウンドを持つ人々が協力し合い、より良い未来を築く手助けをしてくれるかもしれません。これからの進化が楽しみですね！', 'pessimistic_opinion': '生成AIの進化は本当に素晴らしいことです！技術が進むことで、私たちの生活がより便利になり、創造性を引き出す新しいツールが増えてきています。例えば、アートや音楽、文章の生成が可能になり、これまでにない形での表現ができるようになりました。また、生成AIは教育や医療、ビジネスなどさまざまな分野での革新を促進し、私たちの未来をより明るくしてくれるでしょう。これからの進化が楽しみですね！'}\n"
     ]
    }
   ],
   "source": [
    "parallel_chain = RunnableParallel(\n",
    "    {\n",
    "        \"optimistic_opinion\": optimistic_chain,\n",
    "        \"pessimistic_opinion\": pessimistic_chain,\n",
    "    }\n",
    ")\n",
    "output = parallel_chain.invoke({\"topic\": \"生成AIの進化について\"})\n",
    "print(output)"
   ]
  },
  {
   "cell_type": "markdown",
   "id": "1b94542a-573c-4edc-8915-3692257a106b",
   "metadata": {},
   "source": [
    "* (dict) -> parallel_chain -> (dict)\n",
    "    * optimistic_chain\n",
    "        * (dict) -> optimistic_prompt -> (ChatPromptValue)\n",
    "        * (ChatPromptValue) -> model -> (AIMessage)\n",
    "        * (AIMessage) -> output_parser -> (string)\n",
    "    * pessimistic_chain\n",
    "        * (dict) -> pessimistic_prompt -> (ChatPromptValue)\n",
    "        * (ChatPromptValue) -> model -> (AIMessage)\n",
    "        * (AIMessage) -> output_parser -> (string)"
   ]
  },
  {
   "cell_type": "markdown",
   "id": "c3ff4cd3-c70e-4bea-b3bf-14432cae74f7",
   "metadata": {},
   "source": [
    "### 並列につないだchainの結果を別のchainに入力"
   ]
  },
  {
   "cell_type": "code",
   "execution_count": 21,
   "id": "9e389fa8-4bb7-4b6e-a202-4bdf96a9859a",
   "metadata": {},
   "outputs": [],
   "source": [
    "from operator import itemgetter"
   ]
  },
  {
   "cell_type": "code",
   "execution_count": 22,
   "id": "49bfce87-8657-4511-93d8-1f2dce862c51",
   "metadata": {},
   "outputs": [],
   "source": [
    "synthesize_prompt = ChatPromptTemplate.from_messages(\n",
    "    [\n",
    "        (\n",
    "            \"system\",\n",
    "            \"あなたは客観的AIです。\\n\\n\"\n",
    "            \"{topic}について2つの意見をまとめてください\",\n",
    "        ),\n",
    "        (\n",
    "            \"human\",\n",
    "            \"楽観的意見: {optimistic_opinion}\\n^n\"\n",
    "            \"悲観的意見: {pessimistic_opinion}\",\n",
    "        ),\n",
    "    ]\n",
    ")"
   ]
  },
  {
   "cell_type": "code",
   "execution_count": 23,
   "id": "0ce546d8-75f2-4495-9b4d-de086f470f41",
   "metadata": {},
   "outputs": [
    {
     "name": "stdout",
     "output_type": "stream",
     "text": [
      "**楽観的意見:** 生成AIの進化は、私たちの生活をより便利で豊かにする可能性を秘めています。技術の進歩により、クリエイティブな作業や問題解決の支援を行うAIが増え、私たちのアイデアや想像力を引き出す存在となっています。新しい発見や革新が続くことで、未来は明るく、さまざまな新しい可能性が待っていることに期待が高まります。\n",
      "\n",
      "**悲観的意見:** 生成AIの進化には、便利さや創造性の拡大といった利点がある一方で、倫理的な問題や社会的影響も懸念されています。技術の進歩が進む中で、AIによる仕事の自動化や情報の誤用が進む可能性があり、これが人々の生活や職業に悪影響を及ぼすことが懸念されています。未来には、技術の進化がもたらすリスクや課題に対処する必要があるかもしれません。\n"
     ]
    }
   ],
   "source": [
    "synthesize_chain = (\n",
    "    # 明示的に宣言せずとも、自動的にRunnableParallel化する\n",
    "    {\n",
    "        \"optimistic_opinion\": optimistic_chain,\n",
    "        \"pessimistic_opinion\": pessimistic_chain,\n",
    "        \"topic\": itemgetter(\"topic\"), # invokeの引数からtopicの値を取得\n",
    "    }\n",
    "    | synthesize_prompt\n",
    "    | model\n",
    "    | output_parser\n",
    ")\n",
    "output = synthesize_chain.invoke({\"topic\": \"生成AIの進化について\"})\n",
    "print(output)"
   ]
  },
  {
   "cell_type": "markdown",
   "id": "a6e62c6e-386c-4c01-a21f-92582f70d03b",
   "metadata": {},
   "source": [
    "* (dict) -> synthesize_chain -> (string)\n",
    "    * optimistic_chain\n",
    "        * (dict) -> optimistic_prompt -> (ChatPromptValue)\n",
    "        * (ChatPromptValue) -> model -> (AIMessage)\n",
    "        * (AIMessage) -> output_parser -> (string)\n",
    "    * pessimistic_chain\n",
    "        * (dict) -> pessimistic_prompt -> (ChatPromptValue)\n",
    "        * (ChatPromptValue) -> model -> (AIMessage)\n",
    "        * (AIMessage) -> output_parser -> (string)\n",
    "    * (dict) -> synthesize_prompt -> (ChatPromptValue)\n",
    "        * optimistic_chainの結果、pessimistic_chainの結果、invokeの引数をdictで渡す\n",
    "    * (ChatPromptValue) -> model -> (AIMessage)\n",
    "    * (AIMessage) -> output_parser -> (string)"
   ]
  },
  {
   "cell_type": "markdown",
   "id": "8d5a6648-64f7-4fd6-b6fd-595fb98d23a5",
   "metadata": {},
   "source": [
    "## RunnablePassthrough（入力をそのまま出力）"
   ]
  },
  {
   "cell_type": "markdown",
   "id": "19c90b61-d506-4417-9cda-41077d6e2360",
   "metadata": {},
   "source": [
    "RAGでよく使われるので、例として実装"
   ]
  },
  {
   "cell_type": "code",
   "execution_count": 24,
   "id": "2169f839-5a1b-40b1-88f4-2e282033e91c",
   "metadata": {},
   "outputs": [],
   "source": [
    "from langchain_community.retrievers import TavilySearchAPIRetriever"
   ]
  },
  {
   "cell_type": "code",
   "execution_count": 25,
   "id": "9e0e8ba3-8d21-4fe2-a69f-7b353a46e31d",
   "metadata": {},
   "outputs": [],
   "source": [
    "# retriever自体もRunnableの1つ\n",
    "retriever = TavilySearchAPIRetriever(k=3)"
   ]
  },
  {
   "cell_type": "code",
   "execution_count": 26,
   "id": "cc6b3748-bcf6-4c4a-81e3-881e7551c865",
   "metadata": {},
   "outputs": [],
   "source": [
    "from langchain_core.runnables import RunnablePassthrough"
   ]
  },
  {
   "cell_type": "code",
   "execution_count": 27,
   "id": "e5766e06-79b8-46bc-a98c-e00d5d0f82e3",
   "metadata": {},
   "outputs": [],
   "source": [
    "prompt = ChatPromptTemplate.from_messages(\n",
    "    [\n",
    "        (\n",
    "            \"system\",\n",
    "            \"以下の文脈だけを踏まえ、ユーザの質問に回答してください。\\n\\n\"\n",
    "            \"{context}\",\n",
    "        ),\n",
    "        (\n",
    "            \"human\",\n",
    "            \"{question}\",\n",
    "        ),\n",
    "    ]\n",
    ")\n",
    "\n",
    "model = ChatOpenAI(model=\"gpt-4o-mini\", temperature=0)\n",
    "\n",
    "output_parser = StrOutputParser()"
   ]
  },
  {
   "cell_type": "code",
   "execution_count": 28,
   "id": "6aff4e04-2253-4ccd-b52a-85404b874fc6",
   "metadata": {},
   "outputs": [
    {
     "name": "stdout",
     "output_type": "stream",
     "text": [
      "今日、11月19日の東京の天気は晴時々曇で、最高気温は13℃、最低気温は8℃です。降水確率は0％となっています。風は北の風から北東の風に変わり、23区西部ではやや強く吹く見込みです。\n"
     ]
    }
   ],
   "source": [
    "chain = (\n",
    "    # RunnableParallel化\n",
    "    {\n",
    "        \"context\": retriever, # Retrieverの取得結果\n",
    "        \"question\": RunnablePassthrough(), # invokeの引数がそのまま渡される\n",
    "    }\n",
    "    | prompt\n",
    "    | model\n",
    "    | output_parser\n",
    ")\n",
    "output = chain.invoke(\"今日の東京の天気は？\")\n",
    "print(output)"
   ]
  },
  {
   "cell_type": "markdown",
   "id": "b1d7756f-6d2a-4686-9846-e67c947aa794",
   "metadata": {},
   "source": [
    "* (string) -> chain -> (string)\n",
    "    * (string) -> retriever -> (string)\n",
    "    * (dict) -> prompt -> (ChatPromptValue)\n",
    "        * Retrieverの取得結果、invokeの引数をdictで渡す\n",
    "    * (ChatPromptValue) -> model -> (AIMessage)\n",
    "    * (AIMessage) -> output_parser -> (string)"
   ]
  },
  {
   "cell_type": "markdown",
   "id": "128ff9b0-52f8-46b0-971b-363f1e5b3922",
   "metadata": {},
   "source": [
    "## assign（RunnableParallelの出力に値を追加）"
   ]
  },
  {
   "cell_type": "markdown",
   "id": "e050edea-58f1-4f66-b2d3-922a536cbc01",
   "metadata": {},
   "source": [
    "RAGでRetrieverの取得結果も含める際によく使われれる"
   ]
  },
  {
   "cell_type": "code",
   "execution_count": 29,
   "id": "1791072a-cf5f-43b8-aa65-bcbae29f37e7",
   "metadata": {},
   "outputs": [
    {
     "name": "stdout",
     "output_type": "stream",
     "text": [
      "{'context': [Document(metadata={'title': '東京都の天気 - 日本気象協会 tenki.jp', 'source': 'https://tenki.jp/lite/forecast/3/16/?fr=57108C0701M03', 'score': 0.72768575, 'images': []}, page_content='東京都の天気 - 日本気象協会 tenki.jp tenki.jp 検索 メニュー 閉じる 検\\u3000索 閉じる 注目 天気予報 観測 防災 天気図 指数 レジャー 季節特集 アプリ ニュース 雨雲レーダー 2週間天気 雷レーダー PM2.5分布予測 スキー積雪情報 初日の出 2週間天気 雨雲レーダー PM2.5分布予測 tenki.jp×JAXA世界の雨雲の動き 雷レーダー(予報) 雨雲レーダー(過去) 雷レーダー(実況) 花粉飛散情報(1～5月頃) 桜開花情報(2～5月頃) GWの天気(4～5月頃) 梅雨入り・梅雨明け(5～7月頃) 熱中症情報(4～9月頃) 紅葉見頃情報(10～11月頃) ヒートショック予報(10～3月頃) スキー積雪情報(11～5月頃) 初日の出(12～1月頃) tenki.jp tenki.jp登山天気 気象予報士のポイント解説 東京都の天気 03(金) 05(日) 10(金) 12(日) 03日12:00発表01月03日(金) 千代田区  7/540% 新宿区  7/440% 世田谷区  8/440% 三鷹市  7/340% 八王子市  7/030% 青梅市  6/030% 大島町  13/710% 八丈町  16/1220% 小笠原村  18/1670% 2週間天気 千代田区 新宿区 世田谷区 八王子市 三鷹市 青梅市 大島町 八丈町 小笠原村 雨雲レーダー PM2.5 スキー積雪情報 気象予報士のポイント解説(日直予報士) 2週間天気 01/03(金)11:57 青森県に大雪警報 青森県酸ケ湯では4メートル超え 24時間で50センチ以上も急増 01/03(金)09:57 3日～5日の道路気象予測 Uターンラッシュに影響 関東や東海も雨や雪で影響あり 01/03(金)06:40 3日 日本海側は雪や雨 積雪さらに増加 太平洋側でも雨や雪の降る所も 01/03(金)05:30 雨雲レーダーで雨を回避！ tenki.jp公式 天気予報アプリ tenki.jp公式SNS tenki.jp公式アプリ tenki.jp tenki.jp 登山天気 雨雲レーダー PM2.5分布予測 2週間天気 気象予報士のポイント解説 スキー積雪情報 初日の出 tenki.jpの全情報はこちら (C)\\xa02025\\xa0日本気象協会 (C)\\xa02025\\xa0ALiNKインターネット'), Document(metadata={'title': '東京（東京）の天気 - Yahoo!天気・災害', 'source': 'https://weather.yahoo.co.jp/weather/jp/13/4410.html', 'score': 0.7208996, 'images': []}, page_content='パーソナル天気 現在位置： 天気・災害トップ > 関東・信越 > 東京都 > 東京（東京） 今日明日の天気 2024年11月19日 4時00分発表 11月19日(火) 晴時々曇 13℃[-7] 8℃[-3] 時間  0-6 6-12    12-18   18-24 降水  0％  0％  0％  0％ 風： 北の風後北東の風２３区西部では北の風やや強く 波： 1.5メートル後0.5メートル 11月20日(水) 曇のち雨 12℃[-1] 7℃[-1] 時間  0-6 6-12    12-18   18-24 降水  0％  10％ 30％ 60％ 風： 北西の風後東の風 波： 0.5メートル 東京地方の警報・注意報 注意報 強風、波浪 週間天気 2024年11月19日 2時00分発表 日付 11月21日 (木) 11月22日 (金) 11月23日 (土) 11月24日 (日) 11月25日 (月) 11月26日 (火) 天気 雨のち晴   晴時々曇   晴時々曇   晴時々曇   晴時々曇   曇一時雨 気温（℃）   14 降水 確率（％）   60  0   0   0   10  50 2024年11月19日 4時00分 発表 (C) Mapbox (C) OpenStreetMap (C) LY Corporation Yahoo!地図ガイドライン (C) Mapbox (C) OpenStreetMap (C) LY Corporation Yahoo!地図ガイドライン 11/18(月)18時\\u3000師走の寒さ\\u3000今季一番低く\\u3000北日本中心に積雪増加も Copyright (C) 2024 Weather Map Co., Ltd. All Rights Reserved. © LY Corporation'), Document(metadata={'title': '【一番当たる】東京の最新天気 (1時間・今日明日・週間) - ウェザーニュース', 'source': 'http://www.jp-weathernews.com/v/wl/35.6777222222222/139.770527777778/q=東京&v=f02d60103eebddd4b43e66485464fc491ef1c14596ce3f73dcdd050eaf83551e&lang=ja', 'score': 0.7077487, 'images': []}, page_content='10℃\\n4m\\n15\\n0\\n11℃\\n4m\\n16\\n0\\n11℃\\n4m\\n17\\n0\\n11℃\\n5m\\n18\\n0\\n12℃\\n6m\\n19\\n0\\n11℃\\n7m\\n20\\n0\\n11℃\\n7m\\n21\\n0\\n9℃\\n7m\\n22\\n0\\n9℃\\n6m\\n23\\n0\\n9℃\\n5m\\n日\\n天気\\n気温\\n降水\\n確率\\n1月20日（土）\\n最高8℃\\n最低5℃\\n~6時\\n-%\\n~12時\\n-%\\n~18時\\n70%\\n~24時\\n70%\\n1月21日（日）\\n最高12℃\\n最低5℃\\n~6時\\n90%\\n~12時\\n100%\\n~18時\\n100%\\n~24時\\n50%\\n天気下り坂\\u3000寒さが戻る\\n今日は天気が下り坂で、段々と雨が降り出します。出かける時に雨が降っていなくても傘を持って。寒さが戻り、昼間も万全な防寒が必須です。\\n日\\n天気\\n最高\\n最低\\n降水\\n21(日)\\n12℃\\n5℃\\n80%\\n22(月)\\n13℃\\n7℃\\n30%\\n23(火)\\n12℃\\n5℃\\n30%\\n24(水)\\n9℃\\n2℃\\n20%\\n25(木)\\n10℃\\n0℃\\n20%\\n26(金)\\n11℃\\n2℃\\n20%\\n27(土)\\n12℃\\n3℃\\n20%\\n28(日)\\n12℃\\n3℃\\n20%\\n29(月)\\n13℃\\n3℃\\n20%\\n30(火)\\n12℃\\n4℃\\n40%\\n天気は周期変化\\u3000体調管理を\\n天気は周期的に変化します。傘の出番となり、本降りの雨となる日もあります。日ごとや一日の気温変化が大きいため、体調管理にお気を付けください。\\nお天気ニュース\\n関東甲信の山間部で大雪のおそれ\\u3000東京23区など平野部は雨\\n2024.01.20 10:52\\n西日本や東日本は広く雨に\\u3000甲信など東日本内陸部は積雪急増に警戒\\n2024.01.20 10:30\\n正に「大寒」\\u3000北海道江丹別で今冬全国最低気温の－28.5℃観測\\n2024.01.20 09:46\\nお天気ニュースをもっと読む →\\n東京付近の天気\\n雨雲レーダー\\n地図を拡大\\n観測値データ\\nグラフ\\n11:40\\n空の写真\\nライブ動画番組\\n【ライブ放送中】最新地震・気象情報\\u3000ウェザーニュースLiVE\\n東京付近の観測値\\n(℃)\\n(m/s)\\n(mm/h)\\n(分)\\n続きを見る\\n生活指数\\nビール\\n良い\\n犬猫散歩\\n最高\\n火の用心\\n心配なさそう\\n水道管凍結\\n可能性低い\\nフルーツ狩り\\n少し残念\\n布団干し\\nまあまあ\\n熱中症\\n大丈夫そう\\nアイスクリーム\\n残念\\nジョギング\\n最高\\n風邪ひき\\n心配なさそう\\nお出かけ\\n良い\\nお花見\\n最高\\n花粉\\n少ない\\n虹発見\\n難しそう\\nスポーツ\\n最高\\n夕焼け\\n難しそう\\n傘\\n折り畳み傘\\n紫外線\\n普通\\n寒さ体感\\n寒い\\n天気マップアニメーション\\n<\\n気圧\\n気温\\n>\\nお天気ニュース\\n北陸は次第に雨が降り出す\\u3000新たな土砂災害の発生に警戒を\\n2024.01.20 07:23\\n今日20日(土)の天気予報\\u3000西日本や東日本は雨\\u3000甲信や関東山沿いは積雪への備えを\\n2024.01.20 05:02\\n週間天気\\u3000日曜にかけ広く雨や雪\\u3000来週は日本海側で大雪のおそれ\\n2024.01.20 05:24\\nお天気キャスター解説\\u30001月20日(土)の天気\\n2024.01.20 06:16\\nひと目でわかる傘マップ\\u30001月20日(土)\\n 天気予報\\n天気予報を検索\\nNEWS\\n最新のニュースを読み込んでいます。\\n東京\\n1時間ごと\\n今日明日\\n週間(10日間)\\n日\\n時\\n天気\\n降水\\n気温\\n風\\n20日（土）\\n12\\n1ミリ\\n7℃\\n2m\\n13\\n0.5ミリ\\n8℃\\n2m\\n14\\n0.5ミリ\\n8℃\\n2m\\n15\\n0\\n7℃\\n2m\\n16\\n0\\n6℃\\n2m\\n17\\n1ミリ\\n6℃\\n2m\\n18\\n1ミリ\\n6℃\\n2m\\n19\\n1ミリ\\n5℃\\n2m\\n20\\n1ミリ\\n5℃\\n2m\\n21\\n1ミリ\\n5℃\\n2m\\n22\\n1ミリ\\n5℃\\n2m\\n23\\n1ミリ\\n5℃\\n2m\\n21日（日）\\n0\\n2ミリ\\n5℃\\n2m\\n1\\n2ミリ\\n5℃\\n2m\\n2\\n2ミリ\\n5℃\\n2m\\n3\\n2ミリ\\n5℃\\n2m\\n4\\n2ミリ\\n5℃\\n2m\\n5\\n3ミリ\\n6℃\\n2m\\n6\\n4ミリ\\n6℃\\n2m\\n7\\n5ミリ\\n6℃\\n2m\\n8\\n7ミリ\\n7℃\\n2m\\n9\\n8ミリ\\n9℃\\n2m\\n10\\n7ミリ\\n9℃\\n3m\\n11\\n2ミリ\\n9℃\\n3m\\n12\\n0\\n9℃\\n4m\\n13\\n0\\n10℃\\n4m\\n14\\n0\\n 05:32\\nお天気ニュースをもっと読む →\\nいまおすすめのメニュー\\n雨雲レーダー\\n雨雲の動きと予想を確認\\nウェザーリポート\\n全国から届くお天気リポート\\n防災・減災メニュー\\n天気メニュー\\nウェザーニュース 2024.01.20')], 'question': '東京の天気は？', 'answer': '現在の東京の天気は、11月19日(火)は晴時々曇で、最高気温は13℃、最低気温は8℃です。降水確率は0％です。明日、11月20日(水)は曇のち雨となり、最高気温は12℃、最低気温は7℃で、降水確率は時間帯によって30％から60％に上がります。'}\n"
     ]
    }
   ],
   "source": [
    "chain = {\n",
    "    \"context\": retriever, # Retrieverの取得結果\n",
    "    \"question\": RunnablePassthrough(), # invokeの引数がそのまま渡される\n",
    "} | RunnablePassthrough.assign(answer=prompt | model | output_parser)\n",
    "output = chain.invoke(\"東京の天気は？\")\n",
    "print(output)"
   ]
  },
  {
   "cell_type": "code",
   "execution_count": 30,
   "id": "59b31a57-f521-4319-af1b-40387d43e730",
   "metadata": {},
   "outputs": [
    {
     "name": "stdout",
     "output_type": "stream",
     "text": [
      "{'context': [Document(metadata={'title': '東京都の天気 - Yahoo!天気・災害', 'source': 'https://weather.yahoo.co.jp/weather/jp/13/', 'score': 0.7393665, 'images': []}, page_content='パーソナル天気 現在位置： 天気・災害トップ > 関東・信越 > 東京都 東京都の天気 11月19日 6時00分発表 19(火) 20(水) 21(木) 22(金) 23(土) 24(日) 25(月) 26(火) 関東・信越 東京 大島 八丈島 父島 都道府県概況 日本付近は冬型の気圧配置となっています。 東京地方は、曇りや晴れとなっています。 19日は、高気圧が日本海に移動し、冬型の気圧配置は次第に緩む見込みです。このため、晴れますが、朝晩は曇りとなるでしょう。 20日は、高気圧が日本の東へ移動し、湿った空気の影響を受ける見込みです。このため、曇りで、夜は雨となるでしょう。 【関東甲信地方】関東甲信地方は、晴れや曇りで、長野県や関東地方北部では、雪や雨の降っている所があります。 19日は、高気圧が日本海に移動し、冬型の気圧配置は次第に緩む見込みです。このため、晴れや曇りとなるでしょう。長野県や関東地方北部では、朝まで雪や雨の降る所がある見込みです。 20日は、高気圧が日本の東へ移動し、湿った空気の影響を受ける見込みです。このため、はじめ晴れる所もありますが、曇りで次第に雨となるでしょう。 関東地方と伊豆諸島の海上では、19日から20日にかけて、しけるでしょう。20日はうねりを伴う見込みです。船舶は高波に注意してください。 雨雲レーダー (C) Mapbox (C) OpenStreetMap (C) LY Corporation Yahoo!地図ガイドライン 天気図 気象衛星 東京都エリアの情報 防災情報 警報・注意報 台風 土砂災害マップ 洪水マップ 河川水位 火山 地震 津波 避難情報 避難場所マップ 停電情報 災害カレンダー 防災手帳 防災速報 天気ガイド 天気予報 気象衛星 天気図 アメダス 雨雲レーダー 雷レーダー 週間天気 長期予報 波予測 風予測 潮汐情報 世界の天気 雨雪レーダー 過去の天気（外部サイト） 再生する 11/18(月)18時\\u3000師走の寒さ\\u3000今季一番低く\\u3000北日本中心に積雪増加も レジャー施設 空港 ゴルフ場 釣り・潮汐情報 キャンプ場 マリン 野球場 テーマパーク 競馬場 サッカー場・競技場 プライバシーポリシー - プライバシーセンター - 利用規約 - ご意見・ご要望 - 広告掲載について - ヘルプ・お問い合わせ Copyright (C) 2024 Weather Map Co., Ltd. All Rights Reserved. © LY Corporation'), Document(metadata={'title': '東京都の2週間天気 - 日本気象協会 tenki.jp', 'source': 'https://tenki.jp/week/3/16/', 'score': 0.734139, 'images': []}, page_content='tenki.jp\\n東京都の2週間天気26日12:00発表\\nA〜Eは天気予報の信頼度です\\n天気予報の信頼度の見方\\n晴\\n11/2\\n0%\\n晴\\n12/2\\n20%\\n晴時々曇\\n11/3\\n30%\\n晴時々曇\\n12/2\\n30%\\n晴時々曇\\n13/4\\n30%\\n晴時々曇\\n14/5\\n30%\\n晴時々曇\\n16/6\\n20%\\n曇時々雪\\n9/4\\n60%\\n曇\\n10/3\\n40%\\n曇時々雨\\n10/5\\n70%\\n曇時々晴\\n12/6\\n40%\\n曇\\n11/6\\n40%\\nE\\n曇\\n10/4\\n40%\\nE\\n曇時々晴\\n10/3\\n30%\\nD\\n晴\\n11/0\\n40%\\n晴のち曇\\n11/6\\n40%\\n曇のち雨\\n12/6\\n50%\\n晴時々曇\\n12/6\\n20%\\n晴のち曇\\n13/8\\n30%\\n晴時々曇\\n16/9\\n30%\\n晴時々曇\\n17/11\\n30%\\n曇時々雨\\n10/6\\n60%\\n曇時々雨\\n10/7\\n80%\\n雨時々曇\\n11/9\\n90%\\n曇時々雨\\n14/9\\n80%\\n曇時々雨\\n12/8\\n50%\\nE\\n曇時々雨\\n11/7\\n60%\\nE\\n曇時々晴\\n12/6\\n40%\\nE\\n晴時々曇\\n10/7\\n20%\\n晴一時雨\\n13/8\\n50%\\n晴のち曇\\n13/9\\n40%\\n曇一時雨\\n14/9\\n50%\\n晴時々曇\\n15/10\\n30%\\n晴時々雨\\n17/12\\n60%\\n晴時々曇\\n18/13\\n40%\\n曇時々雨\\n14/12\\n80%\\n曇時々雨\\n14/12\\n60%\\n雨時々曇\\n17/15\\n80%\\n曇時々雨\\n18/13\\n60%\\n曇時々雨\\n15/11\\n80%\\nC\\n曇\\n14/11\\n40%\\nE\\n曇時々雨\\n14/9\\n80%\\nC\\n晴のち曇\\n19/17\\n40%\\n曇\\n17/16\\n40%\\n曇のち晴\\n17/16\\n30%\\n晴時々曇\\n18/17\\n40%\\n曇のち晴\\n18/18\\n30%\\n晴時々曇\\n19/18\\n30%\\n晴\\n20/19\\n10%\\n晴\\n20/20\\n10%\\n晴\\n20/19\\n40%\\n晴\\n20/19\\n20%\\n晴\\n21/20\\n40%\\n晴\\n20/20\\n20%\\nC\\n晴時々雨\\n20/19\\n60%\\nE\\n晴\\n19/18\\n20%\\nC\\n東京都のおすすめお出かけスポット\\nレゴランド・ディスカバリー・センター東京\\n忍者体験カフェ浅草\\nこどもの国\\nキッザニア東京\\n東京あそびマーレ\\n恩賜上野動物園\\n東京ドームシティ\\nASOBono!(アソボーノ)\\nマクセル アクアパーク品川\\nサンシャイン水族館\\n東京メガイルミ(大井競馬場)\\n全国おすすめスポット特集\\n秋の風に優しく揺れる♪コスモス絶景に逢いに行こう【2023 関...\\n風にやさしく揺れる花♪ 南関東のコスモスまつりに行こう【202...\\nキャンプ初心者も！おひとりさまも！長野・山梨の人気キャンプ場【...\\n洞窟探検！夏のひんやりスポットへ行こう＜関東編｜レジャー特集2...\\n洞窟探検！夏のひんやりスポットへ行こう＜近畿東海編｜レジャー特...\\n水辺のキャンプを満喫しよう！海や湖の絶景が楽しめるキャンプ場【...\\n東京都の2週間天気\\nおすすめ情報\\nお出かけスポット天気\\nスキー＆スノー\\n紫外線指数\\nお出かけスポット検索\\n天気ガイド\\n最新の記事(気象予報士)\\n今日の天気(東京都)\\n26日12:00発表\\n千代田区\\n11℃\\n/\\n2℃\\n0%\\n大島町\\n11℃\\n/\\n0℃\\n40%\\n八丈町\\n10℃\\n/\\n7℃\\n20%\\n小笠原村\\n19℃\\n/\\n17℃\\n40%\\n全国のコンテンツ\\ntenki.jpトップ\\n天気予報\\n観測\\n防災情報\\n天気図\\n指数情報\\nレジャー天気\\n季節特集\\n天気ニュース'), Document(metadata={'title': '東京（東京）の天気 - Yahoo!天気・災害', 'source': 'https://weather.yahoo.co.jp/weather/jp/13/4410.html', 'score': 0.7208996, 'images': []}, page_content='パーソナル天気 現在位置： 天気・災害トップ > 関東・信越 > 東京都 > 東京（東京） 今日明日の天気 2024年11月19日 4時00分発表 11月19日(火) 晴時々曇 13℃[-7] 8℃[-3] 時間  0-6 6-12    12-18   18-24 降水  0％  0％  0％  0％ 風： 北の風後北東の風２３区西部では北の風やや強く 波： 1.5メートル後0.5メートル 11月20日(水) 曇のち雨 12℃[-1] 7℃[-1] 時間  0-6 6-12    12-18   18-24 降水  0％  10％ 30％ 60％ 風： 北西の風後東の風 波： 0.5メートル 東京地方の警報・注意報 注意報 強風、波浪 週間天気 2024年11月19日 2時00分発表 日付 11月21日 (木) 11月22日 (金) 11月23日 (土) 11月24日 (日) 11月25日 (月) 11月26日 (火) 天気 雨のち晴   晴時々曇   晴時々曇   晴時々曇   晴時々曇   曇一時雨 気温（℃）   14 降水 確率（％）   60  0   0   0   10  50 2024年11月19日 4時00分 発表 (C) Mapbox (C) OpenStreetMap (C) LY Corporation Yahoo!地図ガイドライン (C) Mapbox (C) OpenStreetMap (C) LY Corporation Yahoo!地図ガイドライン 11/18(月)18時\\u3000師走の寒さ\\u3000今季一番低く\\u3000北日本中心に積雪増加も Copyright (C) 2024 Weather Map Co., Ltd. All Rights Reserved. © LY Corporation')], 'question': '東京の天気は？', 'answer': '東京の天気は、11月19日(火)は晴れ時々曇りで、最高気温は13℃、最低気温は8℃の予想です。降水確率は0％です。11月20日(水)は曇のち雨となり、最高気温は12℃、最低気温は7℃で、降水確率は昼間は10％、夜は60％に上がる見込みです。'}\n"
     ]
    }
   ],
   "source": [
    "chain = RunnableParallel(\n",
    "    {\n",
    "    \"context\": retriever, # Retrieverの取得結果\n",
    "    \"question\": RunnablePassthrough(), # invokeの引数がそのまま渡される\n",
    "    }\n",
    ").assign(answer=prompt | model | output_parser)\n",
    "output = chain.invoke(\"東京の天気は？\")\n",
    "print(output)"
   ]
  }
 ],
 "metadata": {
  "kernelspec": {
   "display_name": "Python 3 (ipykernel)",
   "language": "python",
   "name": "python3"
  },
  "language_info": {
   "codemirror_mode": {
    "name": "ipython",
    "version": 3
   },
   "file_extension": ".py",
   "mimetype": "text/x-python",
   "name": "python",
   "nbconvert_exporter": "python",
   "pygments_lexer": "ipython3",
   "version": "3.12.4"
  }
 },
 "nbformat": 4,
 "nbformat_minor": 5
}
