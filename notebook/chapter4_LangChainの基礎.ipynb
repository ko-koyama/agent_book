{
 "cells": [
  {
   "cell_type": "markdown",
   "id": "f80199b8-ba6b-4e20-aa45-77b39ab53b86",
   "metadata": {},
   "source": [
    "# 第4章 LangChainの基礎"
   ]
  },
  {
   "cell_type": "markdown",
   "id": "eb028a45-42c6-4d90-8de5-626a4270d5ee",
   "metadata": {},
   "source": [
    "## 設定"
   ]
  },
  {
   "cell_type": "code",
   "execution_count": 1,
   "id": "49db6819-05c0-4683-9c4f-1e05958c469a",
   "metadata": {},
   "outputs": [
    {
     "data": {
      "text/plain": [
       "True"
      ]
     },
     "execution_count": 1,
     "metadata": {},
     "output_type": "execute_result"
    }
   ],
   "source": [
    "import json\n",
    "import os\n",
    "import time\n",
    "\n",
    "from dotenv import load_dotenv\n",
    "dotenv_path = \"../.env\"\n",
    "load_dotenv(dotenv_path)"
   ]
  },
  {
   "cell_type": "code",
   "execution_count": 2,
   "id": "b1c19e3a-4f95-4654-b781-8f06df3fbe9b",
   "metadata": {
    "scrolled": true
   },
   "outputs": [
    {
     "name": "stdout",
     "output_type": "stream",
     "text": [
      "Requirement already satisfied: langchain-core==0.3.0 in c:\\users\\mikan\\documents\\python\\agent_book\\lib\\site-packages (0.3.0)\n",
      "Requirement already satisfied: PyYAML>=5.3 in c:\\users\\mikan\\documents\\python\\agent_book\\lib\\site-packages (from langchain-core==0.3.0) (6.0.2)\n",
      "Requirement already satisfied: jsonpatch<2.0,>=1.33 in c:\\users\\mikan\\documents\\python\\agent_book\\lib\\site-packages (from langchain-core==0.3.0) (1.33)\n",
      "Requirement already satisfied: langsmith<0.2.0,>=0.1.117 in c:\\users\\mikan\\documents\\python\\agent_book\\lib\\site-packages (from langchain-core==0.3.0) (0.1.147)\n",
      "Requirement already satisfied: packaging<25,>=23.2 in c:\\users\\mikan\\documents\\python\\agent_book\\lib\\site-packages (from langchain-core==0.3.0) (24.2)\n",
      "Requirement already satisfied: pydantic<3.0.0,>=2.7.4 in c:\\users\\mikan\\documents\\python\\agent_book\\lib\\site-packages (from langchain-core==0.3.0) (2.10.4)\n",
      "Requirement already satisfied: tenacity!=8.4.0,<9.0.0,>=8.1.0 in c:\\users\\mikan\\documents\\python\\agent_book\\lib\\site-packages (from langchain-core==0.3.0) (8.5.0)\n",
      "Requirement already satisfied: typing-extensions>=4.7 in c:\\users\\mikan\\documents\\python\\agent_book\\lib\\site-packages (from langchain-core==0.3.0) (4.12.2)\n",
      "Requirement already satisfied: jsonpointer>=1.9 in c:\\users\\mikan\\documents\\python\\agent_book\\lib\\site-packages (from jsonpatch<2.0,>=1.33->langchain-core==0.3.0) (3.0.0)\n",
      "Requirement already satisfied: httpx<1,>=0.23.0 in c:\\users\\mikan\\documents\\python\\agent_book\\lib\\site-packages (from langsmith<0.2.0,>=0.1.117->langchain-core==0.3.0) (0.28.1)\n",
      "Requirement already satisfied: orjson<4.0.0,>=3.9.14 in c:\\users\\mikan\\documents\\python\\agent_book\\lib\\site-packages (from langsmith<0.2.0,>=0.1.117->langchain-core==0.3.0) (3.10.13)\n",
      "Requirement already satisfied: requests<3,>=2 in c:\\users\\mikan\\documents\\python\\agent_book\\lib\\site-packages (from langsmith<0.2.0,>=0.1.117->langchain-core==0.3.0) (2.32.3)\n",
      "Requirement already satisfied: requests-toolbelt<2.0.0,>=1.0.0 in c:\\users\\mikan\\documents\\python\\agent_book\\lib\\site-packages (from langsmith<0.2.0,>=0.1.117->langchain-core==0.3.0) (1.0.0)\n",
      "Requirement already satisfied: annotated-types>=0.6.0 in c:\\users\\mikan\\documents\\python\\agent_book\\lib\\site-packages (from pydantic<3.0.0,>=2.7.4->langchain-core==0.3.0) (0.7.0)\n",
      "Requirement already satisfied: pydantic-core==2.27.2 in c:\\users\\mikan\\documents\\python\\agent_book\\lib\\site-packages (from pydantic<3.0.0,>=2.7.4->langchain-core==0.3.0) (2.27.2)\n",
      "Requirement already satisfied: anyio in c:\\users\\mikan\\documents\\python\\agent_book\\lib\\site-packages (from httpx<1,>=0.23.0->langsmith<0.2.0,>=0.1.117->langchain-core==0.3.0) (4.7.0)\n",
      "Requirement already satisfied: certifi in c:\\users\\mikan\\documents\\python\\agent_book\\lib\\site-packages (from httpx<1,>=0.23.0->langsmith<0.2.0,>=0.1.117->langchain-core==0.3.0) (2024.12.14)\n",
      "Requirement already satisfied: httpcore==1.* in c:\\users\\mikan\\documents\\python\\agent_book\\lib\\site-packages (from httpx<1,>=0.23.0->langsmith<0.2.0,>=0.1.117->langchain-core==0.3.0) (1.0.7)\n",
      "Requirement already satisfied: idna in c:\\users\\mikan\\documents\\python\\agent_book\\lib\\site-packages (from httpx<1,>=0.23.0->langsmith<0.2.0,>=0.1.117->langchain-core==0.3.0) (3.10)\n",
      "Requirement already satisfied: h11<0.15,>=0.13 in c:\\users\\mikan\\documents\\python\\agent_book\\lib\\site-packages (from httpcore==1.*->httpx<1,>=0.23.0->langsmith<0.2.0,>=0.1.117->langchain-core==0.3.0) (0.14.0)\n",
      "Requirement already satisfied: charset-normalizer<4,>=2 in c:\\users\\mikan\\documents\\python\\agent_book\\lib\\site-packages (from requests<3,>=2->langsmith<0.2.0,>=0.1.117->langchain-core==0.3.0) (3.4.1)\n",
      "Requirement already satisfied: urllib3<3,>=1.21.1 in c:\\users\\mikan\\documents\\python\\agent_book\\lib\\site-packages (from requests<3,>=2->langsmith<0.2.0,>=0.1.117->langchain-core==0.3.0) (2.3.0)\n",
      "Requirement already satisfied: sniffio>=1.1 in c:\\users\\mikan\\documents\\python\\agent_book\\lib\\site-packages (from anyio->httpx<1,>=0.23.0->langsmith<0.2.0,>=0.1.117->langchain-core==0.3.0) (1.3.1)\n"
     ]
    },
    {
     "name": "stderr",
     "output_type": "stream",
     "text": [
      "\n",
      "[notice] A new release of pip is available: 24.0 -> 24.3.1\n",
      "[notice] To update, run: python.exe -m pip install --upgrade pip\n"
     ]
    },
    {
     "name": "stdout",
     "output_type": "stream",
     "text": [
      "Requirement already satisfied: langchain-openai==0.2.0 in c:\\users\\mikan\\documents\\python\\agent_book\\lib\\site-packages (0.2.0)\n",
      "Requirement already satisfied: langchain-core<0.4,>=0.3 in c:\\users\\mikan\\documents\\python\\agent_book\\lib\\site-packages (from langchain-openai==0.2.0) (0.3.0)\n",
      "Requirement already satisfied: openai<2.0.0,>=1.40.0 in c:\\users\\mikan\\documents\\python\\agent_book\\lib\\site-packages (from langchain-openai==0.2.0) (1.59.3)\n",
      "Requirement already satisfied: tiktoken<1,>=0.7 in c:\\users\\mikan\\documents\\python\\agent_book\\lib\\site-packages (from langchain-openai==0.2.0) (0.8.0)\n",
      "Requirement already satisfied: PyYAML>=5.3 in c:\\users\\mikan\\documents\\python\\agent_book\\lib\\site-packages (from langchain-core<0.4,>=0.3->langchain-openai==0.2.0) (6.0.2)\n",
      "Requirement already satisfied: jsonpatch<2.0,>=1.33 in c:\\users\\mikan\\documents\\python\\agent_book\\lib\\site-packages (from langchain-core<0.4,>=0.3->langchain-openai==0.2.0) (1.33)\n",
      "Requirement already satisfied: langsmith<0.2.0,>=0.1.117 in c:\\users\\mikan\\documents\\python\\agent_book\\lib\\site-packages (from langchain-core<0.4,>=0.3->langchain-openai==0.2.0) (0.1.147)\n",
      "Requirement already satisfied: packaging<25,>=23.2 in c:\\users\\mikan\\documents\\python\\agent_book\\lib\\site-packages (from langchain-core<0.4,>=0.3->langchain-openai==0.2.0) (24.2)\n",
      "Requirement already satisfied: pydantic<3.0.0,>=2.7.4 in c:\\users\\mikan\\documents\\python\\agent_book\\lib\\site-packages (from langchain-core<0.4,>=0.3->langchain-openai==0.2.0) (2.10.4)\n",
      "Requirement already satisfied: tenacity!=8.4.0,<9.0.0,>=8.1.0 in c:\\users\\mikan\\documents\\python\\agent_book\\lib\\site-packages (from langchain-core<0.4,>=0.3->langchain-openai==0.2.0) (8.5.0)\n",
      "Requirement already satisfied: typing-extensions>=4.7 in c:\\users\\mikan\\documents\\python\\agent_book\\lib\\site-packages (from langchain-core<0.4,>=0.3->langchain-openai==0.2.0) (4.12.2)\n",
      "Requirement already satisfied: anyio<5,>=3.5.0 in c:\\users\\mikan\\documents\\python\\agent_book\\lib\\site-packages (from openai<2.0.0,>=1.40.0->langchain-openai==0.2.0) (4.7.0)\n",
      "Requirement already satisfied: distro<2,>=1.7.0 in c:\\users\\mikan\\documents\\python\\agent_book\\lib\\site-packages (from openai<2.0.0,>=1.40.0->langchain-openai==0.2.0) (1.9.0)\n",
      "Requirement already satisfied: httpx<1,>=0.23.0 in c:\\users\\mikan\\documents\\python\\agent_book\\lib\\site-packages (from openai<2.0.0,>=1.40.0->langchain-openai==0.2.0) (0.28.1)\n",
      "Requirement already satisfied: jiter<1,>=0.4.0 in c:\\users\\mikan\\documents\\python\\agent_book\\lib\\site-packages (from openai<2.0.0,>=1.40.0->langchain-openai==0.2.0) (0.8.2)\n",
      "Requirement already satisfied: sniffio in c:\\users\\mikan\\documents\\python\\agent_book\\lib\\site-packages (from openai<2.0.0,>=1.40.0->langchain-openai==0.2.0) (1.3.1)\n",
      "Requirement already satisfied: tqdm>4 in c:\\users\\mikan\\documents\\python\\agent_book\\lib\\site-packages (from openai<2.0.0,>=1.40.0->langchain-openai==0.2.0) (4.67.1)\n",
      "Requirement already satisfied: regex>=2022.1.18 in c:\\users\\mikan\\documents\\python\\agent_book\\lib\\site-packages (from tiktoken<1,>=0.7->langchain-openai==0.2.0) (2024.11.6)\n",
      "Requirement already satisfied: requests>=2.26.0 in c:\\users\\mikan\\documents\\python\\agent_book\\lib\\site-packages (from tiktoken<1,>=0.7->langchain-openai==0.2.0) (2.32.3)\n",
      "Requirement already satisfied: idna>=2.8 in c:\\users\\mikan\\documents\\python\\agent_book\\lib\\site-packages (from anyio<5,>=3.5.0->openai<2.0.0,>=1.40.0->langchain-openai==0.2.0) (3.10)\n",
      "Requirement already satisfied: certifi in c:\\users\\mikan\\documents\\python\\agent_book\\lib\\site-packages (from httpx<1,>=0.23.0->openai<2.0.0,>=1.40.0->langchain-openai==0.2.0) (2024.12.14)\n",
      "Requirement already satisfied: httpcore==1.* in c:\\users\\mikan\\documents\\python\\agent_book\\lib\\site-packages (from httpx<1,>=0.23.0->openai<2.0.0,>=1.40.0->langchain-openai==0.2.0) (1.0.7)\n",
      "Requirement already satisfied: h11<0.15,>=0.13 in c:\\users\\mikan\\documents\\python\\agent_book\\lib\\site-packages (from httpcore==1.*->httpx<1,>=0.23.0->openai<2.0.0,>=1.40.0->langchain-openai==0.2.0) (0.14.0)\n",
      "Requirement already satisfied: jsonpointer>=1.9 in c:\\users\\mikan\\documents\\python\\agent_book\\lib\\site-packages (from jsonpatch<2.0,>=1.33->langchain-core<0.4,>=0.3->langchain-openai==0.2.0) (3.0.0)\n",
      "Requirement already satisfied: orjson<4.0.0,>=3.9.14 in c:\\users\\mikan\\documents\\python\\agent_book\\lib\\site-packages (from langsmith<0.2.0,>=0.1.117->langchain-core<0.4,>=0.3->langchain-openai==0.2.0) (3.10.13)\n",
      "Requirement already satisfied: requests-toolbelt<2.0.0,>=1.0.0 in c:\\users\\mikan\\documents\\python\\agent_book\\lib\\site-packages (from langsmith<0.2.0,>=0.1.117->langchain-core<0.4,>=0.3->langchain-openai==0.2.0) (1.0.0)\n",
      "Requirement already satisfied: annotated-types>=0.6.0 in c:\\users\\mikan\\documents\\python\\agent_book\\lib\\site-packages (from pydantic<3.0.0,>=2.7.4->langchain-core<0.4,>=0.3->langchain-openai==0.2.0) (0.7.0)\n",
      "Requirement already satisfied: pydantic-core==2.27.2 in c:\\users\\mikan\\documents\\python\\agent_book\\lib\\site-packages (from pydantic<3.0.0,>=2.7.4->langchain-core<0.4,>=0.3->langchain-openai==0.2.0) (2.27.2)\n",
      "Requirement already satisfied: charset-normalizer<4,>=2 in c:\\users\\mikan\\documents\\python\\agent_book\\lib\\site-packages (from requests>=2.26.0->tiktoken<1,>=0.7->langchain-openai==0.2.0) (3.4.1)\n",
      "Requirement already satisfied: urllib3<3,>=1.21.1 in c:\\users\\mikan\\documents\\python\\agent_book\\lib\\site-packages (from requests>=2.26.0->tiktoken<1,>=0.7->langchain-openai==0.2.0) (2.3.0)\n",
      "Requirement already satisfied: colorama in c:\\users\\mikan\\documents\\python\\agent_book\\lib\\site-packages (from tqdm>4->openai<2.0.0,>=1.40.0->langchain-openai==0.2.0) (0.4.6)\n"
     ]
    },
    {
     "name": "stderr",
     "output_type": "stream",
     "text": [
      "\n",
      "[notice] A new release of pip is available: 24.0 -> 24.3.1\n",
      "[notice] To update, run: python.exe -m pip install --upgrade pip\n"
     ]
    },
    {
     "name": "stdout",
     "output_type": "stream",
     "text": [
      "Requirement already satisfied: langchain-community==0.3.0 in c:\\users\\mikan\\documents\\python\\agent_book\\lib\\site-packages (0.3.0)\n",
      "Requirement already satisfied: PyYAML>=5.3 in c:\\users\\mikan\\documents\\python\\agent_book\\lib\\site-packages (from langchain-community==0.3.0) (6.0.2)\n",
      "Requirement already satisfied: SQLAlchemy<3,>=1.4 in c:\\users\\mikan\\documents\\python\\agent_book\\lib\\site-packages (from langchain-community==0.3.0) (2.0.36)\n",
      "Requirement already satisfied: aiohttp<4.0.0,>=3.8.3 in c:\\users\\mikan\\documents\\python\\agent_book\\lib\\site-packages (from langchain-community==0.3.0) (3.11.11)\n",
      "Requirement already satisfied: dataclasses-json<0.7,>=0.5.7 in c:\\users\\mikan\\documents\\python\\agent_book\\lib\\site-packages (from langchain-community==0.3.0) (0.6.7)\n",
      "Requirement already satisfied: langchain<0.4.0,>=0.3.0 in c:\\users\\mikan\\documents\\python\\agent_book\\lib\\site-packages (from langchain-community==0.3.0) (0.3.14)\n",
      "Requirement already satisfied: langchain-core<0.4.0,>=0.3.0 in c:\\users\\mikan\\documents\\python\\agent_book\\lib\\site-packages (from langchain-community==0.3.0) (0.3.0)\n",
      "Requirement already satisfied: langsmith<0.2.0,>=0.1.112 in c:\\users\\mikan\\documents\\python\\agent_book\\lib\\site-packages (from langchain-community==0.3.0) (0.1.147)\n",
      "Requirement already satisfied: numpy<2.0.0,>=1.26.0 in c:\\users\\mikan\\documents\\python\\agent_book\\lib\\site-packages (from langchain-community==0.3.0) (1.26.4)\n",
      "Requirement already satisfied: pydantic-settings<3.0.0,>=2.4.0 in c:\\users\\mikan\\documents\\python\\agent_book\\lib\\site-packages (from langchain-community==0.3.0) (2.7.1)\n",
      "Requirement already satisfied: requests<3,>=2 in c:\\users\\mikan\\documents\\python\\agent_book\\lib\\site-packages (from langchain-community==0.3.0) (2.32.3)\n",
      "Requirement already satisfied: tenacity!=8.4.0,<9.0.0,>=8.1.0 in c:\\users\\mikan\\documents\\python\\agent_book\\lib\\site-packages (from langchain-community==0.3.0) (8.5.0)\n",
      "Requirement already satisfied: aiohappyeyeballs>=2.3.0 in c:\\users\\mikan\\documents\\python\\agent_book\\lib\\site-packages (from aiohttp<4.0.0,>=3.8.3->langchain-community==0.3.0) (2.4.4)\n",
      "Requirement already satisfied: aiosignal>=1.1.2 in c:\\users\\mikan\\documents\\python\\agent_book\\lib\\site-packages (from aiohttp<4.0.0,>=3.8.3->langchain-community==0.3.0) (1.3.2)\n",
      "Requirement already satisfied: attrs>=17.3.0 in c:\\users\\mikan\\documents\\python\\agent_book\\lib\\site-packages (from aiohttp<4.0.0,>=3.8.3->langchain-community==0.3.0) (24.3.0)\n",
      "Requirement already satisfied: frozenlist>=1.1.1 in c:\\users\\mikan\\documents\\python\\agent_book\\lib\\site-packages (from aiohttp<4.0.0,>=3.8.3->langchain-community==0.3.0) (1.5.0)\n",
      "Requirement already satisfied: multidict<7.0,>=4.5 in c:\\users\\mikan\\documents\\python\\agent_book\\lib\\site-packages (from aiohttp<4.0.0,>=3.8.3->langchain-community==0.3.0) (6.1.0)\n",
      "Requirement already satisfied: propcache>=0.2.0 in c:\\users\\mikan\\documents\\python\\agent_book\\lib\\site-packages (from aiohttp<4.0.0,>=3.8.3->langchain-community==0.3.0) (0.2.1)\n",
      "Requirement already satisfied: yarl<2.0,>=1.17.0 in c:\\users\\mikan\\documents\\python\\agent_book\\lib\\site-packages (from aiohttp<4.0.0,>=3.8.3->langchain-community==0.3.0) (1.18.3)\n",
      "Requirement already satisfied: marshmallow<4.0.0,>=3.18.0 in c:\\users\\mikan\\documents\\python\\agent_book\\lib\\site-packages (from dataclasses-json<0.7,>=0.5.7->langchain-community==0.3.0) (3.23.3)\n",
      "Requirement already satisfied: typing-inspect<1,>=0.4.0 in c:\\users\\mikan\\documents\\python\\agent_book\\lib\\site-packages (from dataclasses-json<0.7,>=0.5.7->langchain-community==0.3.0) (0.9.0)\n",
      "Collecting langchain-core<0.4.0,>=0.3.0 (from langchain-community==0.3.0)\n",
      "  Using cached langchain_core-0.3.29-py3-none-any.whl.metadata (6.3 kB)\n",
      "Requirement already satisfied: langchain-text-splitters<0.4.0,>=0.3.3 in c:\\users\\mikan\\documents\\python\\agent_book\\lib\\site-packages (from langchain<0.4.0,>=0.3.0->langchain-community==0.3.0) (0.3.4)\n",
      "Requirement already satisfied: pydantic<3.0.0,>=2.7.4 in c:\\users\\mikan\\documents\\python\\agent_book\\lib\\site-packages (from langchain<0.4.0,>=0.3.0->langchain-community==0.3.0) (2.10.4)\n",
      "Requirement already satisfied: jsonpatch<2.0,>=1.33 in c:\\users\\mikan\\documents\\python\\agent_book\\lib\\site-packages (from langchain-core<0.4.0,>=0.3.0->langchain-community==0.3.0) (1.33)\n",
      "Requirement already satisfied: packaging<25,>=23.2 in c:\\users\\mikan\\documents\\python\\agent_book\\lib\\site-packages (from langchain-core<0.4.0,>=0.3.0->langchain-community==0.3.0) (24.2)\n",
      "Requirement already satisfied: typing-extensions>=4.7 in c:\\users\\mikan\\documents\\python\\agent_book\\lib\\site-packages (from langchain-core<0.4.0,>=0.3.0->langchain-community==0.3.0) (4.12.2)\n",
      "Requirement already satisfied: httpx<1,>=0.23.0 in c:\\users\\mikan\\documents\\python\\agent_book\\lib\\site-packages (from langsmith<0.2.0,>=0.1.112->langchain-community==0.3.0) (0.28.1)\n",
      "Requirement already satisfied: orjson<4.0.0,>=3.9.14 in c:\\users\\mikan\\documents\\python\\agent_book\\lib\\site-packages (from langsmith<0.2.0,>=0.1.112->langchain-community==0.3.0) (3.10.13)\n",
      "Requirement already satisfied: requests-toolbelt<2.0.0,>=1.0.0 in c:\\users\\mikan\\documents\\python\\agent_book\\lib\\site-packages (from langsmith<0.2.0,>=0.1.112->langchain-community==0.3.0) (1.0.0)\n",
      "Requirement already satisfied: python-dotenv>=0.21.0 in c:\\users\\mikan\\documents\\python\\agent_book\\lib\\site-packages (from pydantic-settings<3.0.0,>=2.4.0->langchain-community==0.3.0) (1.0.1)\n",
      "Requirement already satisfied: charset-normalizer<4,>=2 in c:\\users\\mikan\\documents\\python\\agent_book\\lib\\site-packages (from requests<3,>=2->langchain-community==0.3.0) (3.4.1)\n",
      "Requirement already satisfied: idna<4,>=2.5 in c:\\users\\mikan\\documents\\python\\agent_book\\lib\\site-packages (from requests<3,>=2->langchain-community==0.3.0) (3.10)\n",
      "Requirement already satisfied: urllib3<3,>=1.21.1 in c:\\users\\mikan\\documents\\python\\agent_book\\lib\\site-packages (from requests<3,>=2->langchain-community==0.3.0) (2.3.0)\n",
      "Requirement already satisfied: certifi>=2017.4.17 in c:\\users\\mikan\\documents\\python\\agent_book\\lib\\site-packages (from requests<3,>=2->langchain-community==0.3.0) (2024.12.14)\n",
      "Requirement already satisfied: greenlet!=0.4.17 in c:\\users\\mikan\\documents\\python\\agent_book\\lib\\site-packages (from SQLAlchemy<3,>=1.4->langchain-community==0.3.0) (3.1.1)\n",
      "Requirement already satisfied: anyio in c:\\users\\mikan\\documents\\python\\agent_book\\lib\\site-packages (from httpx<1,>=0.23.0->langsmith<0.2.0,>=0.1.112->langchain-community==0.3.0) (4.7.0)\n",
      "Requirement already satisfied: httpcore==1.* in c:\\users\\mikan\\documents\\python\\agent_book\\lib\\site-packages (from httpx<1,>=0.23.0->langsmith<0.2.0,>=0.1.112->langchain-community==0.3.0) (1.0.7)\n",
      "Requirement already satisfied: h11<0.15,>=0.13 in c:\\users\\mikan\\documents\\python\\agent_book\\lib\\site-packages (from httpcore==1.*->httpx<1,>=0.23.0->langsmith<0.2.0,>=0.1.112->langchain-community==0.3.0) (0.14.0)\n",
      "Requirement already satisfied: jsonpointer>=1.9 in c:\\users\\mikan\\documents\\python\\agent_book\\lib\\site-packages (from jsonpatch<2.0,>=1.33->langchain-core<0.4.0,>=0.3.0->langchain-community==0.3.0) (3.0.0)\n",
      "Requirement already satisfied: annotated-types>=0.6.0 in c:\\users\\mikan\\documents\\python\\agent_book\\lib\\site-packages (from pydantic<3.0.0,>=2.7.4->langchain<0.4.0,>=0.3.0->langchain-community==0.3.0) (0.7.0)\n",
      "Requirement already satisfied: pydantic-core==2.27.2 in c:\\users\\mikan\\documents\\python\\agent_book\\lib\\site-packages (from pydantic<3.0.0,>=2.7.4->langchain<0.4.0,>=0.3.0->langchain-community==0.3.0) (2.27.2)\n",
      "Requirement already satisfied: mypy-extensions>=0.3.0 in c:\\users\\mikan\\documents\\python\\agent_book\\lib\\site-packages (from typing-inspect<1,>=0.4.0->dataclasses-json<0.7,>=0.5.7->langchain-community==0.3.0) (1.0.0)\n",
      "Requirement already satisfied: sniffio>=1.1 in c:\\users\\mikan\\documents\\python\\agent_book\\lib\\site-packages (from anyio->httpx<1,>=0.23.0->langsmith<0.2.0,>=0.1.112->langchain-community==0.3.0) (1.3.1)\n",
      "Using cached langchain_core-0.3.29-py3-none-any.whl (411 kB)\n",
      "Installing collected packages: langchain-core\n",
      "  Attempting uninstall: langchain-core\n",
      "    Found existing installation: langchain-core 0.3.0\n",
      "    Uninstalling langchain-core-0.3.0:\n",
      "      Successfully uninstalled langchain-core-0.3.0\n",
      "Successfully installed langchain-core-0.3.29\n"
     ]
    },
    {
     "name": "stderr",
     "output_type": "stream",
     "text": [
      "\n",
      "[notice] A new release of pip is available: 24.0 -> 24.3.1\n",
      "[notice] To update, run: python.exe -m pip install --upgrade pip\n"
     ]
    },
    {
     "name": "stdout",
     "output_type": "stream",
     "text": [
      "Requirement already satisfied: GitPython==3.1.43 in c:\\users\\mikan\\documents\\python\\agent_book\\lib\\site-packages (3.1.43)\n",
      "Requirement already satisfied: gitdb<5,>=4.0.1 in c:\\users\\mikan\\documents\\python\\agent_book\\lib\\site-packages (from GitPython==3.1.43) (4.0.12)\n",
      "Requirement already satisfied: smmap<6,>=3.0.1 in c:\\users\\mikan\\documents\\python\\agent_book\\lib\\site-packages (from gitdb<5,>=4.0.1->GitPython==3.1.43) (5.0.2)\n"
     ]
    },
    {
     "name": "stderr",
     "output_type": "stream",
     "text": [
      "\n",
      "[notice] A new release of pip is available: 24.0 -> 24.3.1\n",
      "[notice] To update, run: python.exe -m pip install --upgrade pip\n",
      "ERROR: Could not find a version that satisfies the requirement langchain-text-aplitters==0.3.0 (from versions: none)\n",
      "ERROR: No matching distribution found for langchain-text-aplitters==0.3.0\n",
      "\n",
      "[notice] A new release of pip is available: 24.0 -> 24.3.1\n",
      "[notice] To update, run: python.exe -m pip install --upgrade pip\n"
     ]
    },
    {
     "name": "stdout",
     "output_type": "stream",
     "text": [
      "Requirement already satisfied: langchain-chroma==0.1.4 in c:\\users\\mikan\\documents\\python\\agent_book\\lib\\site-packages (0.1.4)\n",
      "Requirement already satisfied: chromadb!=0.5.4,!=0.5.5,<0.6.0,>=0.4.0 in c:\\users\\mikan\\documents\\python\\agent_book\\lib\\site-packages (from langchain-chroma==0.1.4) (0.5.23)\n",
      "Requirement already satisfied: fastapi<1,>=0.95.2 in c:\\users\\mikan\\documents\\python\\agent_book\\lib\\site-packages (from langchain-chroma==0.1.4) (0.115.6)\n",
      "Requirement already satisfied: langchain-core<0.4,>=0.1.40 in c:\\users\\mikan\\documents\\python\\agent_book\\lib\\site-packages (from langchain-chroma==0.1.4) (0.3.29)\n",
      "Requirement already satisfied: numpy<2.0.0,>=1.26.0 in c:\\users\\mikan\\documents\\python\\agent_book\\lib\\site-packages (from langchain-chroma==0.1.4) (1.26.4)\n",
      "Requirement already satisfied: build>=1.0.3 in c:\\users\\mikan\\documents\\python\\agent_book\\lib\\site-packages (from chromadb!=0.5.4,!=0.5.5,<0.6.0,>=0.4.0->langchain-chroma==0.1.4) (1.2.2.post1)\n",
      "Requirement already satisfied: pydantic>=1.9 in c:\\users\\mikan\\documents\\python\\agent_book\\lib\\site-packages (from chromadb!=0.5.4,!=0.5.5,<0.6.0,>=0.4.0->langchain-chroma==0.1.4) (2.10.4)\n",
      "Requirement already satisfied: chroma-hnswlib==0.7.6 in c:\\users\\mikan\\documents\\python\\agent_book\\lib\\site-packages (from chromadb!=0.5.4,!=0.5.5,<0.6.0,>=0.4.0->langchain-chroma==0.1.4) (0.7.6)\n",
      "Requirement already satisfied: uvicorn>=0.18.3 in c:\\users\\mikan\\documents\\python\\agent_book\\lib\\site-packages (from uvicorn[standard]>=0.18.3->chromadb!=0.5.4,!=0.5.5,<0.6.0,>=0.4.0->langchain-chroma==0.1.4) (0.34.0)\n",
      "Requirement already satisfied: posthog>=2.4.0 in c:\\users\\mikan\\documents\\python\\agent_book\\lib\\site-packages (from chromadb!=0.5.4,!=0.5.5,<0.6.0,>=0.4.0->langchain-chroma==0.1.4) (3.7.5)\n",
      "Requirement already satisfied: typing_extensions>=4.5.0 in c:\\users\\mikan\\documents\\python\\agent_book\\lib\\site-packages (from chromadb!=0.5.4,!=0.5.5,<0.6.0,>=0.4.0->langchain-chroma==0.1.4) (4.12.2)\n",
      "Requirement already satisfied: onnxruntime>=1.14.1 in c:\\users\\mikan\\documents\\python\\agent_book\\lib\\site-packages (from chromadb!=0.5.4,!=0.5.5,<0.6.0,>=0.4.0->langchain-chroma==0.1.4) (1.20.1)\n",
      "Requirement already satisfied: opentelemetry-api>=1.2.0 in c:\\users\\mikan\\documents\\python\\agent_book\\lib\\site-packages (from chromadb!=0.5.4,!=0.5.5,<0.6.0,>=0.4.0->langchain-chroma==0.1.4) (1.29.0)\n",
      "Requirement already satisfied: opentelemetry-exporter-otlp-proto-grpc>=1.2.0 in c:\\users\\mikan\\documents\\python\\agent_book\\lib\\site-packages (from chromadb!=0.5.4,!=0.5.5,<0.6.0,>=0.4.0->langchain-chroma==0.1.4) (1.29.0)\n",
      "Requirement already satisfied: opentelemetry-instrumentation-fastapi>=0.41b0 in c:\\users\\mikan\\documents\\python\\agent_book\\lib\\site-packages (from chromadb!=0.5.4,!=0.5.5,<0.6.0,>=0.4.0->langchain-chroma==0.1.4) (0.50b0)\n",
      "Requirement already satisfied: opentelemetry-sdk>=1.2.0 in c:\\users\\mikan\\documents\\python\\agent_book\\lib\\site-packages (from chromadb!=0.5.4,!=0.5.5,<0.6.0,>=0.4.0->langchain-chroma==0.1.4) (1.29.0)\n",
      "Requirement already satisfied: tokenizers<=0.20.3,>=0.13.2 in c:\\users\\mikan\\documents\\python\\agent_book\\lib\\site-packages (from chromadb!=0.5.4,!=0.5.5,<0.6.0,>=0.4.0->langchain-chroma==0.1.4) (0.20.3)\n",
      "Requirement already satisfied: pypika>=0.48.9 in c:\\users\\mikan\\documents\\python\\agent_book\\lib\\site-packages (from chromadb!=0.5.4,!=0.5.5,<0.6.0,>=0.4.0->langchain-chroma==0.1.4) (0.48.9)\n",
      "Requirement already satisfied: tqdm>=4.65.0 in c:\\users\\mikan\\documents\\python\\agent_book\\lib\\site-packages (from chromadb!=0.5.4,!=0.5.5,<0.6.0,>=0.4.0->langchain-chroma==0.1.4) (4.67.1)\n",
      "Requirement already satisfied: overrides>=7.3.1 in c:\\users\\mikan\\documents\\python\\agent_book\\lib\\site-packages (from chromadb!=0.5.4,!=0.5.5,<0.6.0,>=0.4.0->langchain-chroma==0.1.4) (7.7.0)\n",
      "Requirement already satisfied: importlib-resources in c:\\users\\mikan\\documents\\python\\agent_book\\lib\\site-packages (from chromadb!=0.5.4,!=0.5.5,<0.6.0,>=0.4.0->langchain-chroma==0.1.4) (6.5.2)\n",
      "Requirement already satisfied: grpcio>=1.58.0 in c:\\users\\mikan\\documents\\python\\agent_book\\lib\\site-packages (from chromadb!=0.5.4,!=0.5.5,<0.6.0,>=0.4.0->langchain-chroma==0.1.4) (1.68.1)\n",
      "Requirement already satisfied: bcrypt>=4.0.1 in c:\\users\\mikan\\documents\\python\\agent_book\\lib\\site-packages (from chromadb!=0.5.4,!=0.5.5,<0.6.0,>=0.4.0->langchain-chroma==0.1.4) (4.2.1)\n",
      "Requirement already satisfied: typer>=0.9.0 in c:\\users\\mikan\\documents\\python\\agent_book\\lib\\site-packages (from chromadb!=0.5.4,!=0.5.5,<0.6.0,>=0.4.0->langchain-chroma==0.1.4) (0.15.1)\n",
      "Requirement already satisfied: kubernetes>=28.1.0 in c:\\users\\mikan\\documents\\python\\agent_book\\lib\\site-packages (from chromadb!=0.5.4,!=0.5.5,<0.6.0,>=0.4.0->langchain-chroma==0.1.4) (31.0.0)\n",
      "Requirement already satisfied: tenacity>=8.2.3 in c:\\users\\mikan\\documents\\python\\agent_book\\lib\\site-packages (from chromadb!=0.5.4,!=0.5.5,<0.6.0,>=0.4.0->langchain-chroma==0.1.4) (8.5.0)\n",
      "Requirement already satisfied: PyYAML>=6.0.0 in c:\\users\\mikan\\documents\\python\\agent_book\\lib\\site-packages (from chromadb!=0.5.4,!=0.5.5,<0.6.0,>=0.4.0->langchain-chroma==0.1.4) (6.0.2)\n",
      "Requirement already satisfied: mmh3>=4.0.1 in c:\\users\\mikan\\documents\\python\\agent_book\\lib\\site-packages (from chromadb!=0.5.4,!=0.5.5,<0.6.0,>=0.4.0->langchain-chroma==0.1.4) (5.0.1)\n",
      "Requirement already satisfied: orjson>=3.9.12 in c:\\users\\mikan\\documents\\python\\agent_book\\lib\\site-packages (from chromadb!=0.5.4,!=0.5.5,<0.6.0,>=0.4.0->langchain-chroma==0.1.4) (3.10.13)\n",
      "Requirement already satisfied: httpx>=0.27.0 in c:\\users\\mikan\\documents\\python\\agent_book\\lib\\site-packages (from chromadb!=0.5.4,!=0.5.5,<0.6.0,>=0.4.0->langchain-chroma==0.1.4) (0.28.1)\n",
      "Requirement already satisfied: rich>=10.11.0 in c:\\users\\mikan\\documents\\python\\agent_book\\lib\\site-packages (from chromadb!=0.5.4,!=0.5.5,<0.6.0,>=0.4.0->langchain-chroma==0.1.4) (13.9.4)\n",
      "Requirement already satisfied: starlette<0.42.0,>=0.40.0 in c:\\users\\mikan\\documents\\python\\agent_book\\lib\\site-packages (from fastapi<1,>=0.95.2->langchain-chroma==0.1.4) (0.41.3)\n",
      "Requirement already satisfied: jsonpatch<2.0,>=1.33 in c:\\users\\mikan\\documents\\python\\agent_book\\lib\\site-packages (from langchain-core<0.4,>=0.1.40->langchain-chroma==0.1.4) (1.33)\n",
      "Requirement already satisfied: langsmith<0.3,>=0.1.125 in c:\\users\\mikan\\documents\\python\\agent_book\\lib\\site-packages (from langchain-core<0.4,>=0.1.40->langchain-chroma==0.1.4) (0.1.147)\n",
      "Requirement already satisfied: packaging<25,>=23.2 in c:\\users\\mikan\\documents\\python\\agent_book\\lib\\site-packages (from langchain-core<0.4,>=0.1.40->langchain-chroma==0.1.4) (24.2)\n",
      "Requirement already satisfied: pyproject_hooks in c:\\users\\mikan\\documents\\python\\agent_book\\lib\\site-packages (from build>=1.0.3->chromadb!=0.5.4,!=0.5.5,<0.6.0,>=0.4.0->langchain-chroma==0.1.4) (1.2.0)\n",
      "Requirement already satisfied: colorama in c:\\users\\mikan\\documents\\python\\agent_book\\lib\\site-packages (from build>=1.0.3->chromadb!=0.5.4,!=0.5.5,<0.6.0,>=0.4.0->langchain-chroma==0.1.4) (0.4.6)\n",
      "Requirement already satisfied: anyio in c:\\users\\mikan\\documents\\python\\agent_book\\lib\\site-packages (from httpx>=0.27.0->chromadb!=0.5.4,!=0.5.5,<0.6.0,>=0.4.0->langchain-chroma==0.1.4) (4.7.0)\n",
      "Requirement already satisfied: certifi in c:\\users\\mikan\\documents\\python\\agent_book\\lib\\site-packages (from httpx>=0.27.0->chromadb!=0.5.4,!=0.5.5,<0.6.0,>=0.4.0->langchain-chroma==0.1.4) (2024.12.14)\n",
      "Requirement already satisfied: httpcore==1.* in c:\\users\\mikan\\documents\\python\\agent_book\\lib\\site-packages (from httpx>=0.27.0->chromadb!=0.5.4,!=0.5.5,<0.6.0,>=0.4.0->langchain-chroma==0.1.4) (1.0.7)\n",
      "Requirement already satisfied: idna in c:\\users\\mikan\\documents\\python\\agent_book\\lib\\site-packages (from httpx>=0.27.0->chromadb!=0.5.4,!=0.5.5,<0.6.0,>=0.4.0->langchain-chroma==0.1.4) (3.10)\n",
      "Requirement already satisfied: h11<0.15,>=0.13 in c:\\users\\mikan\\documents\\python\\agent_book\\lib\\site-packages (from httpcore==1.*->httpx>=0.27.0->chromadb!=0.5.4,!=0.5.5,<0.6.0,>=0.4.0->langchain-chroma==0.1.4) (0.14.0)\n",
      "Requirement already satisfied: jsonpointer>=1.9 in c:\\users\\mikan\\documents\\python\\agent_book\\lib\\site-packages (from jsonpatch<2.0,>=1.33->langchain-core<0.4,>=0.1.40->langchain-chroma==0.1.4) (3.0.0)\n",
      "Requirement already satisfied: six>=1.9.0 in c:\\users\\mikan\\documents\\python\\agent_book\\lib\\site-packages (from kubernetes>=28.1.0->chromadb!=0.5.4,!=0.5.5,<0.6.0,>=0.4.0->langchain-chroma==0.1.4) (1.17.0)\n",
      "Requirement already satisfied: python-dateutil>=2.5.3 in c:\\users\\mikan\\documents\\python\\agent_book\\lib\\site-packages (from kubernetes>=28.1.0->chromadb!=0.5.4,!=0.5.5,<0.6.0,>=0.4.0->langchain-chroma==0.1.4) (2.9.0.post0)\n",
      "Requirement already satisfied: google-auth>=1.0.1 in c:\\users\\mikan\\documents\\python\\agent_book\\lib\\site-packages (from kubernetes>=28.1.0->chromadb!=0.5.4,!=0.5.5,<0.6.0,>=0.4.0->langchain-chroma==0.1.4) (2.37.0)\n",
      "Requirement already satisfied: websocket-client!=0.40.0,!=0.41.*,!=0.42.*,>=0.32.0 in c:\\users\\mikan\\documents\\python\\agent_book\\lib\\site-packages (from kubernetes>=28.1.0->chromadb!=0.5.4,!=0.5.5,<0.6.0,>=0.4.0->langchain-chroma==0.1.4) (1.8.0)\n",
      "Requirement already satisfied: requests in c:\\users\\mikan\\documents\\python\\agent_book\\lib\\site-packages (from kubernetes>=28.1.0->chromadb!=0.5.4,!=0.5.5,<0.6.0,>=0.4.0->langchain-chroma==0.1.4) (2.32.3)\n",
      "Requirement already satisfied: requests-oauthlib in c:\\users\\mikan\\documents\\python\\agent_book\\lib\\site-packages (from kubernetes>=28.1.0->chromadb!=0.5.4,!=0.5.5,<0.6.0,>=0.4.0->langchain-chroma==0.1.4) (2.0.0)\n",
      "Requirement already satisfied: oauthlib>=3.2.2 in c:\\users\\mikan\\documents\\python\\agent_book\\lib\\site-packages (from kubernetes>=28.1.0->chromadb!=0.5.4,!=0.5.5,<0.6.0,>=0.4.0->langchain-chroma==0.1.4) (3.2.2)\n",
      "Requirement already satisfied: urllib3>=1.24.2 in c:\\users\\mikan\\documents\\python\\agent_book\\lib\\site-packages (from kubernetes>=28.1.0->chromadb!=0.5.4,!=0.5.5,<0.6.0,>=0.4.0->langchain-chroma==0.1.4) (2.3.0)\n",
      "Requirement already satisfied: durationpy>=0.7 in c:\\users\\mikan\\documents\\python\\agent_book\\lib\\site-packages (from kubernetes>=28.1.0->chromadb!=0.5.4,!=0.5.5,<0.6.0,>=0.4.0->langchain-chroma==0.1.4) (0.9)\n",
      "Requirement already satisfied: requests-toolbelt<2.0.0,>=1.0.0 in c:\\users\\mikan\\documents\\python\\agent_book\\lib\\site-packages (from langsmith<0.3,>=0.1.125->langchain-core<0.4,>=0.1.40->langchain-chroma==0.1.4) (1.0.0)\n",
      "Requirement already satisfied: coloredlogs in c:\\users\\mikan\\documents\\python\\agent_book\\lib\\site-packages (from onnxruntime>=1.14.1->chromadb!=0.5.4,!=0.5.5,<0.6.0,>=0.4.0->langchain-chroma==0.1.4) (15.0.1)\n",
      "Requirement already satisfied: flatbuffers in c:\\users\\mikan\\documents\\python\\agent_book\\lib\\site-packages (from onnxruntime>=1.14.1->chromadb!=0.5.4,!=0.5.5,<0.6.0,>=0.4.0->langchain-chroma==0.1.4) (24.12.23)\n",
      "Requirement already satisfied: protobuf in c:\\users\\mikan\\documents\\python\\agent_book\\lib\\site-packages (from onnxruntime>=1.14.1->chromadb!=0.5.4,!=0.5.5,<0.6.0,>=0.4.0->langchain-chroma==0.1.4) (5.29.2)\n",
      "Requirement already satisfied: sympy in c:\\users\\mikan\\documents\\python\\agent_book\\lib\\site-packages (from onnxruntime>=1.14.1->chromadb!=0.5.4,!=0.5.5,<0.6.0,>=0.4.0->langchain-chroma==0.1.4) (1.13.3)\n",
      "Requirement already satisfied: deprecated>=1.2.6 in c:\\users\\mikan\\documents\\python\\agent_book\\lib\\site-packages (from opentelemetry-api>=1.2.0->chromadb!=0.5.4,!=0.5.5,<0.6.0,>=0.4.0->langchain-chroma==0.1.4) (1.2.15)\n",
      "Requirement already satisfied: importlib-metadata<=8.5.0,>=6.0 in c:\\users\\mikan\\documents\\python\\agent_book\\lib\\site-packages (from opentelemetry-api>=1.2.0->chromadb!=0.5.4,!=0.5.5,<0.6.0,>=0.4.0->langchain-chroma==0.1.4) (8.5.0)\n",
      "Requirement already satisfied: googleapis-common-protos~=1.52 in c:\\users\\mikan\\documents\\python\\agent_book\\lib\\site-packages (from opentelemetry-exporter-otlp-proto-grpc>=1.2.0->chromadb!=0.5.4,!=0.5.5,<0.6.0,>=0.4.0->langchain-chroma==0.1.4) (1.66.0)\n",
      "Requirement already satisfied: opentelemetry-exporter-otlp-proto-common==1.29.0 in c:\\users\\mikan\\documents\\python\\agent_book\\lib\\site-packages (from opentelemetry-exporter-otlp-proto-grpc>=1.2.0->chromadb!=0.5.4,!=0.5.5,<0.6.0,>=0.4.0->langchain-chroma==0.1.4) (1.29.0)\n",
      "Requirement already satisfied: opentelemetry-proto==1.29.0 in c:\\users\\mikan\\documents\\python\\agent_book\\lib\\site-packages (from opentelemetry-exporter-otlp-proto-grpc>=1.2.0->chromadb!=0.5.4,!=0.5.5,<0.6.0,>=0.4.0->langchain-chroma==0.1.4) (1.29.0)\n",
      "Requirement already satisfied: opentelemetry-instrumentation-asgi==0.50b0 in c:\\users\\mikan\\documents\\python\\agent_book\\lib\\site-packages (from opentelemetry-instrumentation-fastapi>=0.41b0->chromadb!=0.5.4,!=0.5.5,<0.6.0,>=0.4.0->langchain-chroma==0.1.4) (0.50b0)\n",
      "Requirement already satisfied: opentelemetry-instrumentation==0.50b0 in c:\\users\\mikan\\documents\\python\\agent_book\\lib\\site-packages (from opentelemetry-instrumentation-fastapi>=0.41b0->chromadb!=0.5.4,!=0.5.5,<0.6.0,>=0.4.0->langchain-chroma==0.1.4) (0.50b0)\n",
      "Requirement already satisfied: opentelemetry-semantic-conventions==0.50b0 in c:\\users\\mikan\\documents\\python\\agent_book\\lib\\site-packages (from opentelemetry-instrumentation-fastapi>=0.41b0->chromadb!=0.5.4,!=0.5.5,<0.6.0,>=0.4.0->langchain-chroma==0.1.4) (0.50b0)\n",
      "Requirement already satisfied: opentelemetry-util-http==0.50b0 in c:\\users\\mikan\\documents\\python\\agent_book\\lib\\site-packages (from opentelemetry-instrumentation-fastapi>=0.41b0->chromadb!=0.5.4,!=0.5.5,<0.6.0,>=0.4.0->langchain-chroma==0.1.4) (0.50b0)\n",
      "Requirement already satisfied: wrapt<2.0.0,>=1.0.0 in c:\\users\\mikan\\documents\\python\\agent_book\\lib\\site-packages (from opentelemetry-instrumentation==0.50b0->opentelemetry-instrumentation-fastapi>=0.41b0->chromadb!=0.5.4,!=0.5.5,<0.6.0,>=0.4.0->langchain-chroma==0.1.4) (1.17.0)\n",
      "Requirement already satisfied: asgiref~=3.0 in c:\\users\\mikan\\documents\\python\\agent_book\\lib\\site-packages (from opentelemetry-instrumentation-asgi==0.50b0->opentelemetry-instrumentation-fastapi>=0.41b0->chromadb!=0.5.4,!=0.5.5,<0.6.0,>=0.4.0->langchain-chroma==0.1.4) (3.8.1)\n",
      "Requirement already satisfied: monotonic>=1.5 in c:\\users\\mikan\\documents\\python\\agent_book\\lib\\site-packages (from posthog>=2.4.0->chromadb!=0.5.4,!=0.5.5,<0.6.0,>=0.4.0->langchain-chroma==0.1.4) (1.6)\n",
      "Requirement already satisfied: backoff>=1.10.0 in c:\\users\\mikan\\documents\\python\\agent_book\\lib\\site-packages (from posthog>=2.4.0->chromadb!=0.5.4,!=0.5.5,<0.6.0,>=0.4.0->langchain-chroma==0.1.4) (2.2.1)\n",
      "Requirement already satisfied: annotated-types>=0.6.0 in c:\\users\\mikan\\documents\\python\\agent_book\\lib\\site-packages (from pydantic>=1.9->chromadb!=0.5.4,!=0.5.5,<0.6.0,>=0.4.0->langchain-chroma==0.1.4) (0.7.0)\n",
      "Requirement already satisfied: pydantic-core==2.27.2 in c:\\users\\mikan\\documents\\python\\agent_book\\lib\\site-packages (from pydantic>=1.9->chromadb!=0.5.4,!=0.5.5,<0.6.0,>=0.4.0->langchain-chroma==0.1.4) (2.27.2)\n",
      "Requirement already satisfied: markdown-it-py>=2.2.0 in c:\\users\\mikan\\documents\\python\\agent_book\\lib\\site-packages (from rich>=10.11.0->chromadb!=0.5.4,!=0.5.5,<0.6.0,>=0.4.0->langchain-chroma==0.1.4) (3.0.0)\n",
      "Requirement already satisfied: pygments<3.0.0,>=2.13.0 in c:\\users\\mikan\\documents\\python\\agent_book\\lib\\site-packages (from rich>=10.11.0->chromadb!=0.5.4,!=0.5.5,<0.6.0,>=0.4.0->langchain-chroma==0.1.4) (2.18.0)\n",
      "Requirement already satisfied: huggingface-hub<1.0,>=0.16.4 in c:\\users\\mikan\\documents\\python\\agent_book\\lib\\site-packages (from tokenizers<=0.20.3,>=0.13.2->chromadb!=0.5.4,!=0.5.5,<0.6.0,>=0.4.0->langchain-chroma==0.1.4) (0.27.0)\n",
      "Requirement already satisfied: click>=8.0.0 in c:\\users\\mikan\\documents\\python\\agent_book\\lib\\site-packages (from typer>=0.9.0->chromadb!=0.5.4,!=0.5.5,<0.6.0,>=0.4.0->langchain-chroma==0.1.4) (8.1.8)\n",
      "Requirement already satisfied: shellingham>=1.3.0 in c:\\users\\mikan\\documents\\python\\agent_book\\lib\\site-packages (from typer>=0.9.0->chromadb!=0.5.4,!=0.5.5,<0.6.0,>=0.4.0->langchain-chroma==0.1.4) (1.5.4)\n",
      "Requirement already satisfied: httptools>=0.6.3 in c:\\users\\mikan\\documents\\python\\agent_book\\lib\\site-packages (from uvicorn[standard]>=0.18.3->chromadb!=0.5.4,!=0.5.5,<0.6.0,>=0.4.0->langchain-chroma==0.1.4) (0.6.4)\n",
      "Requirement already satisfied: python-dotenv>=0.13 in c:\\users\\mikan\\documents\\python\\agent_book\\lib\\site-packages (from uvicorn[standard]>=0.18.3->chromadb!=0.5.4,!=0.5.5,<0.6.0,>=0.4.0->langchain-chroma==0.1.4) (1.0.1)\n",
      "Requirement already satisfied: watchfiles>=0.13 in c:\\users\\mikan\\documents\\python\\agent_book\\lib\\site-packages (from uvicorn[standard]>=0.18.3->chromadb!=0.5.4,!=0.5.5,<0.6.0,>=0.4.0->langchain-chroma==0.1.4) (1.0.3)\n",
      "Requirement already satisfied: websockets>=10.4 in c:\\users\\mikan\\documents\\python\\agent_book\\lib\\site-packages (from uvicorn[standard]>=0.18.3->chromadb!=0.5.4,!=0.5.5,<0.6.0,>=0.4.0->langchain-chroma==0.1.4) (14.1)\n",
      "Requirement already satisfied: sniffio>=1.1 in c:\\users\\mikan\\documents\\python\\agent_book\\lib\\site-packages (from anyio->httpx>=0.27.0->chromadb!=0.5.4,!=0.5.5,<0.6.0,>=0.4.0->langchain-chroma==0.1.4) (1.3.1)\n",
      "Requirement already satisfied: cachetools<6.0,>=2.0.0 in c:\\users\\mikan\\documents\\python\\agent_book\\lib\\site-packages (from google-auth>=1.0.1->kubernetes>=28.1.0->chromadb!=0.5.4,!=0.5.5,<0.6.0,>=0.4.0->langchain-chroma==0.1.4) (5.5.0)\n",
      "Requirement already satisfied: pyasn1-modules>=0.2.1 in c:\\users\\mikan\\documents\\python\\agent_book\\lib\\site-packages (from google-auth>=1.0.1->kubernetes>=28.1.0->chromadb!=0.5.4,!=0.5.5,<0.6.0,>=0.4.0->langchain-chroma==0.1.4) (0.4.1)\n",
      "Requirement already satisfied: rsa<5,>=3.1.4 in c:\\users\\mikan\\documents\\python\\agent_book\\lib\\site-packages (from google-auth>=1.0.1->kubernetes>=28.1.0->chromadb!=0.5.4,!=0.5.5,<0.6.0,>=0.4.0->langchain-chroma==0.1.4) (4.9)\n",
      "Requirement already satisfied: filelock in c:\\users\\mikan\\documents\\python\\agent_book\\lib\\site-packages (from huggingface-hub<1.0,>=0.16.4->tokenizers<=0.20.3,>=0.13.2->chromadb!=0.5.4,!=0.5.5,<0.6.0,>=0.4.0->langchain-chroma==0.1.4) (3.16.1)\n",
      "Requirement already satisfied: fsspec>=2023.5.0 in c:\\users\\mikan\\documents\\python\\agent_book\\lib\\site-packages (from huggingface-hub<1.0,>=0.16.4->tokenizers<=0.20.3,>=0.13.2->chromadb!=0.5.4,!=0.5.5,<0.6.0,>=0.4.0->langchain-chroma==0.1.4) (2024.12.0)\n",
      "Requirement already satisfied: zipp>=3.20 in c:\\users\\mikan\\documents\\python\\agent_book\\lib\\site-packages (from importlib-metadata<=8.5.0,>=6.0->opentelemetry-api>=1.2.0->chromadb!=0.5.4,!=0.5.5,<0.6.0,>=0.4.0->langchain-chroma==0.1.4) (3.21.0)\n",
      "Requirement already satisfied: mdurl~=0.1 in c:\\users\\mikan\\documents\\python\\agent_book\\lib\\site-packages (from markdown-it-py>=2.2.0->rich>=10.11.0->chromadb!=0.5.4,!=0.5.5,<0.6.0,>=0.4.0->langchain-chroma==0.1.4) (0.1.2)\n",
      "Requirement already satisfied: charset-normalizer<4,>=2 in c:\\users\\mikan\\documents\\python\\agent_book\\lib\\site-packages (from requests->kubernetes>=28.1.0->chromadb!=0.5.4,!=0.5.5,<0.6.0,>=0.4.0->langchain-chroma==0.1.4) (3.4.1)\n",
      "Requirement already satisfied: humanfriendly>=9.1 in c:\\users\\mikan\\documents\\python\\agent_book\\lib\\site-packages (from coloredlogs->onnxruntime>=1.14.1->chromadb!=0.5.4,!=0.5.5,<0.6.0,>=0.4.0->langchain-chroma==0.1.4) (10.0)\n",
      "Requirement already satisfied: mpmath<1.4,>=1.1.0 in c:\\users\\mikan\\documents\\python\\agent_book\\lib\\site-packages (from sympy->onnxruntime>=1.14.1->chromadb!=0.5.4,!=0.5.5,<0.6.0,>=0.4.0->langchain-chroma==0.1.4) (1.3.0)\n",
      "Requirement already satisfied: pyreadline3 in c:\\users\\mikan\\documents\\python\\agent_book\\lib\\site-packages (from humanfriendly>=9.1->coloredlogs->onnxruntime>=1.14.1->chromadb!=0.5.4,!=0.5.5,<0.6.0,>=0.4.0->langchain-chroma==0.1.4) (3.5.4)\n",
      "Requirement already satisfied: pyasn1<0.7.0,>=0.4.6 in c:\\users\\mikan\\documents\\python\\agent_book\\lib\\site-packages (from pyasn1-modules>=0.2.1->google-auth>=1.0.1->kubernetes>=28.1.0->chromadb!=0.5.4,!=0.5.5,<0.6.0,>=0.4.0->langchain-chroma==0.1.4) (0.6.1)\n"
     ]
    },
    {
     "name": "stderr",
     "output_type": "stream",
     "text": [
      "\n",
      "[notice] A new release of pip is available: 24.0 -> 24.3.1\n",
      "[notice] To update, run: python.exe -m pip install --upgrade pip\n"
     ]
    }
   ],
   "source": [
    "!pip install langchain-core==0.3.0\n",
    "!pip install langchain-openai==0.2.0\n",
    "!pip install langchain-community==0.3.0\n",
    "!pip install GitPython==3.1.43\n",
    "!pip install langchain-text-aplitters==0.3.0\n",
    "!pip install langchain-chroma==0.1.4"
   ]
  },
  {
   "cell_type": "markdown",
   "id": "58524691-333a-4f01-bcb6-cb2867cba386",
   "metadata": {},
   "source": [
    "## Chat model"
   ]
  },
  {
   "cell_type": "markdown",
   "id": "546585e4-c31b-401e-b392-3c3ad29f7b49",
   "metadata": {},
   "source": [
    "### 通常のチャット"
   ]
  },
  {
   "cell_type": "code",
   "execution_count": 3,
   "id": "98801db5-df88-4fff-8977-6ef4c2c41ad1",
   "metadata": {},
   "outputs": [],
   "source": [
    "from langchain_core.messages import AIMessage, HumanMessage, SystemMessage\n",
    "from langchain_openai import ChatOpenAI"
   ]
  },
  {
   "cell_type": "code",
   "execution_count": 4,
   "id": "368a33ae-1050-4ab6-b342-f97e7bf4a845",
   "metadata": {},
   "outputs": [],
   "source": [
    "model = ChatOpenAI(model=\"gpt-4o-mini\", temperature=0)"
   ]
  },
  {
   "cell_type": "code",
   "execution_count": 5,
   "id": "2486c164-0963-487a-acd8-3e657e74784b",
   "metadata": {},
   "outputs": [],
   "source": [
    "messages = [\n",
    "    SystemMessage(\"You are a helpful assistant.\"),\n",
    "    HumanMessage(\"こんにちは！私はジョンと言います！\"),\n",
    "    AIMessage(\"こんにちは、ジョンさん！お会いできて嬉しいです。今日はどんなことをお話ししましょうか？\"),\n",
    "    HumanMessage(\"私の名前が分かりますか？\"),\n",
    "]"
   ]
  },
  {
   "cell_type": "code",
   "execution_count": 6,
   "id": "e3e3781a-7dcc-4931-a83a-edbe1e047cfd",
   "metadata": {},
   "outputs": [
    {
     "name": "stdout",
     "output_type": "stream",
     "text": [
      "はい、あなたの名前はジョンさんです。何か特別なことについてお話ししたいことがありますか？\n"
     ]
    }
   ],
   "source": [
    "ai_message = model.invoke(messages)\n",
    "print(ai_message.content)"
   ]
  },
  {
   "cell_type": "markdown",
   "id": "8cdd5f59-ec84-468c-8c90-596f3052ae65",
   "metadata": {},
   "source": [
    "### ストリーミング応答"
   ]
  },
  {
   "cell_type": "code",
   "execution_count": 7,
   "id": "d48f9364-57a2-4459-b991-2f1c1a25fffe",
   "metadata": {},
   "outputs": [
    {
     "name": "stdout",
     "output_type": "stream",
     "text": [
      "はい、あなたの名前はジョンさんです。何か特別なことについてお話ししたいことがありますか？"
     ]
    }
   ],
   "source": [
    "for chunk in model.stream(messages):\n",
    "    print(chunk.content, end=\"\", flush=True)\n",
    "    time.sleep(0.1) # 本来不要だが、挙動確認のために追加"
   ]
  },
  {
   "cell_type": "markdown",
   "id": "50674664-d531-44b5-a5b1-63fabf1d712d",
   "metadata": {},
   "source": [
    "## ChatPromptTemplate"
   ]
  },
  {
   "cell_type": "code",
   "execution_count": 8,
   "id": "f4d4b474-9ecb-49e3-acf4-bf5f62c63fb3",
   "metadata": {},
   "outputs": [],
   "source": [
    "from langchain_core.prompts import ChatPromptTemplate"
   ]
  },
  {
   "cell_type": "code",
   "execution_count": 9,
   "id": "2b398e52-777b-4213-ab44-36ae5b41cc6f",
   "metadata": {},
   "outputs": [],
   "source": [
    "prompt = ChatPromptTemplate.from_messages(\n",
    "    [\n",
    "        (\"system\", \"ユーザが入力した料理のレシピを教えてください。\"),\n",
    "        (\"human\", \"{dish}\"),\n",
    "    ]\n",
    ")       "
   ]
  },
  {
   "cell_type": "code",
   "execution_count": 10,
   "id": "89e70a8c-e209-41db-ba3e-0cfd83bed8c0",
   "metadata": {},
   "outputs": [
    {
     "name": "stdout",
     "output_type": "stream",
     "text": [
      "messages=[SystemMessage(content='ユーザが入力した料理のレシピを教えてください。', additional_kwargs={}, response_metadata={}), HumanMessage(content='カレー', additional_kwargs={}, response_metadata={})]\n"
     ]
    }
   ],
   "source": [
    "prompt_value = prompt.invoke({\"dish\": \"カレー\"})\n",
    "print(prompt_value)"
   ]
  },
  {
   "cell_type": "code",
   "execution_count": 11,
   "id": "0587788b-5c3b-4db0-94df-e3c852e83dcc",
   "metadata": {},
   "outputs": [
    {
     "name": "stdout",
     "output_type": "stream",
     "text": [
      "カレーの基本的なレシピをご紹介します。以下は、一般的なチキンカレーの作り方です。\n",
      "\n",
      "### 材料\n",
      "- 鶏肉（もも肉または胸肉）: 500g\n",
      "- 玉ねぎ: 2個\n",
      "- にんにく: 2片\n",
      "- 生姜: 1片\n",
      "- トマト: 1個（またはトマト缶）\n",
      "- カレーパウダー: 大さじ2\n",
      "- 塩: 適量\n",
      "- 胡椒: 適量\n",
      "- サラダ油: 大さじ2\n",
      "- 水: 500ml\n",
      "- お好みで野菜（じゃがいも、にんじん、ピーマンなど）\n",
      "\n",
      "### 作り方\n",
      "1. **下ごしらえ**:\n",
      "   - 鶏肉は一口大に切り、塩と胡椒を振っておきます。\n",
      "   - 玉ねぎは薄切り、にんにくと生姜はみじん切りにします。\n",
      "   - トマトはざく切りにします。\n",
      "\n",
      "2. **炒める**:\n",
      "   - 鍋にサラダ油を熱し、玉ねぎを加えて中火で炒めます。玉ねぎが透明になるまで炒めます。\n",
      "   - にんにくと生姜を加え、香りが立つまでさらに炒めます。\n",
      "\n",
      "3. **鶏肉を加える**:\n",
      "   - 鶏肉を鍋に加え、表面が白くなるまで炒めます。\n",
      "\n",
      "4. **スパイスを加える**:\n",
      "   - カレーパウダーを加え、全体に絡めるように炒めます。\n",
      "\n",
      "5. **トマトと水を加える**:\n",
      "   - トマトを加え、全体を混ぜたら、水を加えます。沸騰したら、アクを取り除きます。\n",
      "\n",
      "6. **煮込む**:\n",
      "   - 蓋をして弱火で約20〜30分煮込みます。お好みで野菜を加える場合は、このタイミングで入れます。\n",
      "\n",
      "7. **味を調える**:\n",
      "   - 最後に塩で味を調整し、必要に応じてさらに煮込んでください。\n",
      "\n",
      "8. **盛り付け**:\n",
      "   - ご飯と一緒に盛り付けて、お好みでパセリやヨーグルトを添えて完成です。\n",
      "\n",
      "### お好みで\n",
      "- 辛さを調整したい場合は、チリパウダーやカイエンペッパーを加えてください。\n",
      "- ココナッツミルクを加えると、まろやかな味わいになります。\n",
      "\n",
      "ぜひお試しください！\n"
     ]
    }
   ],
   "source": [
    "ai_message = model.invoke(prompt_value)\n",
    "print(ai_message.content)"
   ]
  },
  {
   "cell_type": "markdown",
   "id": "0afd1f00-416c-4d57-9f01-b913d3bb1875",
   "metadata": {},
   "source": [
    "## OutPutParser"
   ]
  },
  {
   "cell_type": "markdown",
   "id": "a8a78f38-ef60-409a-8b74-c355a104c40a",
   "metadata": {},
   "source": [
    "### PydanticOutputParser"
   ]
  },
  {
   "cell_type": "code",
   "execution_count": 12,
   "id": "2398453d-5f3f-4f28-b086-3aeae1fbf7c9",
   "metadata": {},
   "outputs": [],
   "source": [
    "from pydantic import BaseModel, Field"
   ]
  },
  {
   "cell_type": "code",
   "execution_count": 13,
   "id": "48f75270-7a61-4524-a6c5-53bf6c13eb67",
   "metadata": {},
   "outputs": [],
   "source": [
    "# 得たい出力形式をPydanticで定義\n",
    "class Recipe(BaseModel):\n",
    "    ingredients: list[str] = Field(description=\"料理の材料\")\n",
    "    steps: list[str] = Field(description=\"料理の手順\")"
   ]
  },
  {
   "cell_type": "code",
   "execution_count": 14,
   "id": "cad27d0b-26cd-464a-bf5d-0fdd77a0920d",
   "metadata": {},
   "outputs": [],
   "source": [
    "from langchain_core.output_parsers import PydanticOutputParser"
   ]
  },
  {
   "cell_type": "code",
   "execution_count": 15,
   "id": "d93bcf17-d8a8-450b-aad3-ac49f8af099a",
   "metadata": {},
   "outputs": [],
   "source": [
    "# 定義したClassからPydanticOutputParserを作成\n",
    "output_parser = PydanticOutputParser(pydantic_object=Recipe)"
   ]
  },
  {
   "cell_type": "code",
   "execution_count": 16,
   "id": "b5404ff0-5a2a-410a-9505-77bd394a7a93",
   "metadata": {},
   "outputs": [
    {
     "name": "stdout",
     "output_type": "stream",
     "text": [
      "The output should be formatted as a JSON instance that conforms to the JSON schema below.\n",
      "\n",
      "As an example, for the schema {\"properties\": {\"foo\": {\"title\": \"Foo\", \"description\": \"a list of strings\", \"type\": \"array\", \"items\": {\"type\": \"string\"}}}, \"required\": [\"foo\"]}\n",
      "the object {\"foo\": [\"bar\", \"baz\"]} is a well-formatted instance of the schema. The object {\"properties\": {\"foo\": [\"bar\", \"baz\"]}} is not well-formatted.\n",
      "\n",
      "Here is the output schema:\n",
      "```\n",
      "{\"properties\": {\"ingredients\": {\"description\": \"料理の材料\", \"items\": {\"type\": \"string\"}, \"title\": \"Ingredients\", \"type\": \"array\"}, \"steps\": {\"description\": \"料理の手順\", \"items\": {\"type\": \"string\"}, \"title\": \"Steps\", \"type\": \"array\"}}, \"required\": [\"ingredients\", \"steps\"]}\n",
      "```\n"
     ]
    }
   ],
   "source": [
    "# 作成したPydanticOutputParserに準拠するように指示するプロンプト\n",
    "format_instructions = output_parser.get_format_instructions()\n",
    "print(format_instructions)"
   ]
  },
  {
   "cell_type": "code",
   "execution_count": 17,
   "id": "c8ae4779-33da-4dff-b490-be3810599fd2",
   "metadata": {},
   "outputs": [],
   "source": [
    "prompt = ChatPromptTemplate.from_messages(\n",
    "    [\n",
    "        (\n",
    "            \"system\",\n",
    "            \"ユーザが入力した料理のレシピを教えてください。\\n\\n\"\n",
    "            \"{format_instructions}\",\n",
    "        ),\n",
    "        (\n",
    "            \"human\",\n",
    "            \"{dish}\",\n",
    "        )\n",
    "    ]\n",
    ")"
   ]
  },
  {
   "cell_type": "code",
   "execution_count": 18,
   "id": "0a8746a6-d8cb-48d6-a4fd-7173e84beec0",
   "metadata": {},
   "outputs": [
    {
     "name": "stdout",
     "output_type": "stream",
     "text": [
      "messages=[SystemMessage(content='ユーザが入力した料理のレシピを教えてください。\\n\\nThe output should be formatted as a JSON instance that conforms to the JSON schema below.\\n\\nAs an example, for the schema {\"properties\": {\"foo\": {\"title\": \"Foo\", \"description\": \"a list of strings\", \"type\": \"array\", \"items\": {\"type\": \"string\"}}}, \"required\": [\"foo\"]}\\nthe object {\"foo\": [\"bar\", \"baz\"]} is a well-formatted instance of the schema. The object {\"properties\": {\"foo\": [\"bar\", \"baz\"]}} is not well-formatted.\\n\\nHere is the output schema:\\n```\\n{\"properties\": {\"ingredients\": {\"description\": \"料理の材料\", \"items\": {\"type\": \"string\"}, \"title\": \"Ingredients\", \"type\": \"array\"}, \"steps\": {\"description\": \"料理の手順\", \"items\": {\"type\": \"string\"}, \"title\": \"Steps\", \"type\": \"array\"}}, \"required\": [\"ingredients\", \"steps\"]}\\n```', additional_kwargs={}, response_metadata={}), HumanMessage(content='カレー', additional_kwargs={}, response_metadata={})]\n"
     ]
    }
   ],
   "source": [
    "prompt_value = prompt.invoke(\n",
    "    {\n",
    "        \"format_instructions\": format_instructions,\n",
    "        \"dish\": \"カレー\",\n",
    "    }\n",
    ")\n",
    "print(prompt_value)"
   ]
  },
  {
   "cell_type": "code",
   "execution_count": 19,
   "id": "4b40a491-d60f-4ef3-922c-c38e42d91716",
   "metadata": {},
   "outputs": [
    {
     "name": "stdout",
     "output_type": "stream",
     "text": [
      "{\n",
      "  \"ingredients\": [\n",
      "    \"鶏肉 500g\",\n",
      "    \"玉ねぎ 2個\",\n",
      "    \"にんじん 1本\",\n",
      "    \"じゃがいも 2個\",\n",
      "    \"カレールー 1箱\",\n",
      "    \"水 800ml\",\n",
      "    \"サラダ油 大さじ2\",\n",
      "    \"塩 適量\",\n",
      "    \"こしょう 適量\"\n",
      "  ],\n",
      "  \"steps\": [\n",
      "    \"鶏肉は一口大に切り、塩とこしょうをふる。\",\n",
      "    \"玉ねぎは薄切り、にんじんとじゃがいもは一口大に切る。\",\n",
      "    \"鍋にサラダ油を熱し、玉ねぎを炒めて透明になるまで炒める。\",\n",
      "    \"鶏肉を加え、表面が白くなるまで炒める。\",\n",
      "    \"にんじんとじゃがいもを加え、全体をよく混ぜる。\",\n",
      "    \"水を加え、沸騰したらアクを取り、弱火で20分煮る。\",\n",
      "    \"カレールーを加え、よく溶かしてさらに10分煮込む。\",\n",
      "    \"味を見て、必要に応じて塩で調整する。\",\n",
      "    \"ご飯と一緒に盛り付けて完成。\"\n",
      "  ]\n",
      "}\n"
     ]
    }
   ],
   "source": [
    "ai_message = model.invoke(prompt_value)\n",
    "print(ai_message.content)"
   ]
  },
  {
   "cell_type": "code",
   "execution_count": 20,
   "id": "84e95f6b-edc6-42c7-a756-5580562a27e8",
   "metadata": {},
   "outputs": [
    {
     "data": {
      "text/plain": [
       "Recipe(ingredients=['鶏肉 500g', '玉ねぎ 2個', 'にんじん 1本', 'じゃがいも 2個', 'カレールー 1箱', '水 800ml', 'サラダ油 大さじ2', '塩 適量', 'こしょう 適量'], steps=['鶏肉は一口大に切り、塩とこしょうをふる。', '玉ねぎは薄切り、にんじんとじゃがいもは一口大に切る。', '鍋にサラダ油を熱し、玉ねぎを炒めて透明になるまで炒める。', '鶏肉を加え、表面が白くなるまで炒める。', 'にんじんとじゃがいもを加え、全体をよく混ぜる。', '水を加え、沸騰したらアクを取り、弱火で20分煮る。', 'カレールーを加え、よく溶かしてさらに10分煮込む。', '味を見て、必要に応じて塩で調整する。', 'ご飯と一緒に盛り付けて完成。'])"
      ]
     },
     "execution_count": 20,
     "metadata": {},
     "output_type": "execute_result"
    }
   ],
   "source": [
    "# 出力からインスタンスを作成\n",
    "recipe = output_parser.invoke(ai_message)\n",
    "recipe"
   ]
  },
  {
   "cell_type": "markdown",
   "id": "242d1126-abae-46ea-bc31-3fda8582611c",
   "metadata": {},
   "source": [
    "### StrOutputParser"
   ]
  },
  {
   "cell_type": "code",
   "execution_count": 21,
   "id": "94c219f5-1b53-4241-8cab-99faef0ea135",
   "metadata": {},
   "outputs": [],
   "source": [
    "from langchain_core.output_parsers import StrOutputParser"
   ]
  },
  {
   "cell_type": "code",
   "execution_count": 22,
   "id": "0c95e3bc-ad14-4fc8-8a2d-6687b27d0af1",
   "metadata": {},
   "outputs": [],
   "source": [
    "output_parser = StrOutputParser()"
   ]
  },
  {
   "cell_type": "code",
   "execution_count": 23,
   "id": "6e82aa64-34de-49ca-9ec2-61acc1370fde",
   "metadata": {},
   "outputs": [
    {
     "name": "stdout",
     "output_type": "stream",
     "text": [
      "こんにちは、私はAIアシスタントです。\n"
     ]
    }
   ],
   "source": [
    "ai_message = AIMessage(content=\"こんにちは、私はAIアシスタントです。\")\n",
    "output = output_parser.invoke(ai_message)\n",
    "print(output)"
   ]
  },
  {
   "cell_type": "markdown",
   "id": "ff5ca3a7-ff91-4329-a347-c57974b8a9c4",
   "metadata": {},
   "source": [
    "## LCELによるChain"
   ]
  },
  {
   "cell_type": "code",
   "execution_count": 24,
   "id": "022348b1-3f40-4bbb-b107-dd639bce4ef1",
   "metadata": {},
   "outputs": [],
   "source": [
    "prompt = ChatPromptTemplate.from_messages(\n",
    "    [\n",
    "        (\"system\", \"ユーザが入力した料理のレシピを教えてください。\"),\n",
    "        (\"human\", \"{dish}\"),\n",
    "    ]\n",
    ")\n",
    "\n",
    "model = ChatOpenAI(model_name=\"gpt-4o-mini\", temperature=0)"
   ]
  },
  {
   "cell_type": "code",
   "execution_count": 25,
   "id": "4ac1204d-2c1c-40e2-b269-85c1755cae82",
   "metadata": {},
   "outputs": [],
   "source": [
    "chain = prompt | model | StrOutputParser()"
   ]
  },
  {
   "cell_type": "code",
   "execution_count": 26,
   "id": "40b23dfe-bd18-47f0-84a5-dbb6dfb30fbc",
   "metadata": {},
   "outputs": [
    {
     "name": "stdout",
     "output_type": "stream",
     "text": [
      "カレーの基本的なレシピをご紹介します。以下は、一般的なチキンカレーの作り方です。\n",
      "\n",
      "### 材料（4人分）\n",
      "- 鶏肉（もも肉または胸肉）: 400g\n",
      "- 玉ねぎ: 2個\n",
      "- にんにく: 2片\n",
      "- 生姜: 1片\n",
      "- トマト: 1個（またはトマト缶）\n",
      "- カレーパウダー: 大さじ2\n",
      "- 塩: 適量\n",
      "- 胡椒: 適量\n",
      "- サラダ油: 大さじ2\n",
      "- 水: 400ml\n",
      "- お好みで野菜（じゃがいも、にんじん、ピーマンなど）\n",
      "\n",
      "### 作り方\n",
      "1. **下ごしらえ**:\n",
      "   - 鶏肉は一口大に切り、塩と胡椒を振っておきます。\n",
      "   - 玉ねぎは薄切り、にんにくと生姜はみじん切りにします。\n",
      "   - トマトはざく切りにします。\n",
      "\n",
      "2. **炒める**:\n",
      "   - 鍋にサラダ油を熱し、玉ねぎを加えて中火で炒めます。玉ねぎが透明になるまで炒めます。\n",
      "   - にんにくと生姜を加え、香りが立つまでさらに炒めます。\n",
      "\n",
      "3. **鶏肉を加える**:\n",
      "   - 鶏肉を鍋に加え、表面が白くなるまで炒めます。\n",
      "\n",
      "4. **スパイスを加える**:\n",
      "   - カレーパウダーを加え、全体に絡めるように炒めます。\n",
      "\n",
      "5. **トマトと水を加える**:\n",
      "   - トマトを加え、全体を混ぜたら、水を加えます。沸騰したら、アクを取り除きます。\n",
      "\n",
      "6. **煮込む**:\n",
      "   - 蓋をして弱火で約20分煮込みます。お好みで、じゃがいもやにんじんなどの野菜をこのタイミングで加えると良いでしょう。\n",
      "\n",
      "7. **味を調える**:\n",
      "   - 最後に塩で味を調整し、必要に応じてさらに煮込んでください。\n",
      "\n",
      "8. **盛り付け**:\n",
      "   - ご飯と一緒に盛り付けて、お好みでパセリやヨーグルトを添えて完成です。\n",
      "\n",
      "### お好みで\n",
      "- ココナッツミルクを加えると、まろやかな味わいになります。\n",
      "- 辛さを調整したい場合は、チリパウダーやハラペーニョを加えてください。\n",
      "\n",
      "ぜひお試しください！\n"
     ]
    }
   ],
   "source": [
    "ai_message = chain.invoke({\"dish\": \"カレー\"})\n",
    "print(ai_message)"
   ]
  },
  {
   "cell_type": "markdown",
   "id": "4ba2b917-9e68-4065-bebc-3c65ec6673c0",
   "metadata": {},
   "source": [
    "### RAG"
   ]
  },
  {
   "cell_type": "markdown",
   "id": "b50dc31f-6755-4bee-a396-4b1b838edfc4",
   "metadata": {},
   "source": [
    "### Document loader（データの読み込み）"
   ]
  },
  {
   "cell_type": "code",
   "execution_count": 27,
   "id": "45dff711-67db-4589-acee-a013ffae6751",
   "metadata": {},
   "outputs": [],
   "source": [
    "from langchain_community.document_loaders import GitLoader"
   ]
  },
  {
   "cell_type": "code",
   "execution_count": 28,
   "id": "74ad1921-9089-4964-a1d9-7cb285973574",
   "metadata": {},
   "outputs": [],
   "source": [
    "def file_filter(file_path: str) -> bool:\n",
    "    return file_path.endswith(\".mdx\")\n",
    "\n",
    "# Langchainでは様々なDocument loaderが提供されているが、ここではGitLoaderを例として利用\n",
    "loader = GitLoader(\n",
    "    clone_url=\"https://github.com/langchain-ai/langchain\",\n",
    "    repo_path=\"./langchain\",\n",
    "    branch=\"master\",\n",
    "    file_filter=file_filter,\n",
    ")"
   ]
  },
  {
   "cell_type": "code",
   "execution_count": 29,
   "id": "97e4cef9-f34a-4e45-8e75-84207a3b7294",
   "metadata": {},
   "outputs": [],
   "source": [
    "raw_docs = loader.load()"
   ]
  },
  {
   "cell_type": "code",
   "execution_count": 30,
   "id": "347ef9e0-4d39-4668-885b-bd53a2a8571b",
   "metadata": {},
   "outputs": [
    {
     "name": "stdout",
     "output_type": "stream",
     "text": [
      "385\n"
     ]
    }
   ],
   "source": [
    "# .mdxファイルの個数\n",
    "print(len(raw_docs))"
   ]
  },
  {
   "cell_type": "markdown",
   "id": "70da61a4-1609-4c18-9c02-78dd6fe16c13",
   "metadata": {},
   "source": [
    "### Document transformer（データの変換）"
   ]
  },
  {
   "cell_type": "markdown",
   "id": "e28da6ba-b644-4b5e-941e-92b09ee4d7e9",
   "metadata": {},
   "source": [
    "#### チャンク分割"
   ]
  },
  {
   "cell_type": "code",
   "execution_count": 31,
   "id": "117dd74c-2d2b-4b4f-9496-c1e7a226a9ac",
   "metadata": {},
   "outputs": [],
   "source": [
    "from langchain_text_splitters import CharacterTextSplitter"
   ]
  },
  {
   "cell_type": "code",
   "execution_count": 32,
   "id": "01c8a7f5-a034-4fc6-8d22-5f3a816cd0d0",
   "metadata": {},
   "outputs": [],
   "source": [
    "# チャンク分割の設定\n",
    "text_splitter = CharacterTextSplitter(chunk_size=1000, chunk_overlap=0)"
   ]
  },
  {
   "cell_type": "code",
   "execution_count": 33,
   "id": "38d7e8f3-9047-4320-99fc-5bc0fc857c3c",
   "metadata": {},
   "outputs": [
    {
     "name": "stderr",
     "output_type": "stream",
     "text": [
      "Created a chunk of size 6803, which is longer than the specified 1000\n",
      "Created a chunk of size 3302, which is longer than the specified 1000\n",
      "Created a chunk of size 1851, which is longer than the specified 1000\n",
      "Created a chunk of size 1639, which is longer than the specified 1000\n",
      "Created a chunk of size 9269, which is longer than the specified 1000\n",
      "Created a chunk of size 2579, which is longer than the specified 1000\n",
      "Created a chunk of size 17814, which is longer than the specified 1000\n",
      "Created a chunk of size 1700, which is longer than the specified 1000\n",
      "Created a chunk of size 1135, which is longer than the specified 1000\n",
      "Created a chunk of size 1126, which is longer than the specified 1000\n",
      "Created a chunk of size 1098, which is longer than the specified 1000\n",
      "Created a chunk of size 1433, which is longer than the specified 1000\n",
      "Created a chunk of size 1300, which is longer than the specified 1000\n",
      "Created a chunk of size 1166, which is longer than the specified 1000\n",
      "Created a chunk of size 1351, which is longer than the specified 1000\n",
      "Created a chunk of size 1756, which is longer than the specified 1000\n",
      "Created a chunk of size 1643, which is longer than the specified 1000\n",
      "Created a chunk of size 1091, which is longer than the specified 1000\n",
      "Created a chunk of size 1313, which is longer than the specified 1000\n",
      "Created a chunk of size 1422, which is longer than the specified 1000\n",
      "Created a chunk of size 1662, which is longer than the specified 1000\n",
      "Created a chunk of size 1123, which is longer than the specified 1000\n",
      "Created a chunk of size 1174, which is longer than the specified 1000\n",
      "Created a chunk of size 1936, which is longer than the specified 1000\n",
      "Created a chunk of size 1441, which is longer than the specified 1000\n",
      "Created a chunk of size 1498, which is longer than the specified 1000\n",
      "Created a chunk of size 1046, which is longer than the specified 1000\n",
      "Created a chunk of size 1057, which is longer than the specified 1000\n",
      "Created a chunk of size 1363, which is longer than the specified 1000\n",
      "Created a chunk of size 1432, which is longer than the specified 1000\n",
      "Created a chunk of size 1662, which is longer than the specified 1000\n",
      "Created a chunk of size 1281, which is longer than the specified 1000\n",
      "Created a chunk of size 1752, which is longer than the specified 1000\n",
      "Created a chunk of size 1705, which is longer than the specified 1000\n",
      "Created a chunk of size 1266, which is longer than the specified 1000\n",
      "Created a chunk of size 1764, which is longer than the specified 1000\n",
      "Created a chunk of size 1378, which is longer than the specified 1000\n",
      "Created a chunk of size 1596, which is longer than the specified 1000\n",
      "Created a chunk of size 1063, which is longer than the specified 1000\n",
      "Created a chunk of size 1540, which is longer than the specified 1000\n",
      "Created a chunk of size 1888, which is longer than the specified 1000\n",
      "Created a chunk of size 1739, which is longer than the specified 1000\n",
      "Created a chunk of size 42090, which is longer than the specified 1000\n",
      "Created a chunk of size 1147, which is longer than the specified 1000\n",
      "Created a chunk of size 5835, which is longer than the specified 1000\n",
      "Created a chunk of size 1819, which is longer than the specified 1000\n",
      "Created a chunk of size 1182, which is longer than the specified 1000\n",
      "Created a chunk of size 3563, which is longer than the specified 1000\n",
      "Created a chunk of size 1053, which is longer than the specified 1000\n",
      "Created a chunk of size 1140, which is longer than the specified 1000\n",
      "Created a chunk of size 5053, which is longer than the specified 1000\n",
      "Created a chunk of size 1006, which is longer than the specified 1000\n",
      "Created a chunk of size 1651, which is longer than the specified 1000\n",
      "Created a chunk of size 2096, which is longer than the specified 1000\n",
      "Created a chunk of size 8258, which is longer than the specified 1000\n",
      "Created a chunk of size 2933, which is longer than the specified 1000\n",
      "Created a chunk of size 2134, which is longer than the specified 1000\n",
      "Created a chunk of size 1915, which is longer than the specified 1000\n",
      "Created a chunk of size 1129, which is longer than the specified 1000\n",
      "Created a chunk of size 1021, which is longer than the specified 1000\n",
      "Created a chunk of size 1393, which is longer than the specified 1000\n",
      "Created a chunk of size 2357, which is longer than the specified 1000\n",
      "Created a chunk of size 2373, which is longer than the specified 1000\n",
      "Created a chunk of size 2989, which is longer than the specified 1000\n",
      "Created a chunk of size 2736, which is longer than the specified 1000\n",
      "Created a chunk of size 1123, which is longer than the specified 1000\n",
      "Created a chunk of size 1048, which is longer than the specified 1000\n",
      "Created a chunk of size 1083, which is longer than the specified 1000\n",
      "Created a chunk of size 1014, which is longer than the specified 1000\n",
      "Created a chunk of size 1044, which is longer than the specified 1000\n",
      "Created a chunk of size 1012, which is longer than the specified 1000\n",
      "Created a chunk of size 1438, which is longer than the specified 1000\n",
      "Created a chunk of size 1141, which is longer than the specified 1000\n",
      "Created a chunk of size 1036, which is longer than the specified 1000\n",
      "Created a chunk of size 1113, which is longer than the specified 1000\n",
      "Created a chunk of size 1337, which is longer than the specified 1000\n",
      "Created a chunk of size 1162, which is longer than the specified 1000\n",
      "Created a chunk of size 1158, which is longer than the specified 1000\n",
      "Created a chunk of size 3603, which is longer than the specified 1000\n",
      "Created a chunk of size 1330, which is longer than the specified 1000\n",
      "Created a chunk of size 1188, which is longer than the specified 1000\n",
      "Created a chunk of size 1170, which is longer than the specified 1000\n",
      "Created a chunk of size 1443, which is longer than the specified 1000\n",
      "Created a chunk of size 3138, which is longer than the specified 1000\n",
      "Created a chunk of size 1121, which is longer than the specified 1000\n",
      "Created a chunk of size 1076, which is longer than the specified 1000\n",
      "Created a chunk of size 1487, which is longer than the specified 1000\n",
      "Created a chunk of size 1045, which is longer than the specified 1000\n"
     ]
    }
   ],
   "source": [
    "# チャンク分割の実行\n",
    "docs = text_splitter.split_documents(raw_docs)"
   ]
  },
  {
   "cell_type": "code",
   "execution_count": 34,
   "id": "46414390-1921-41da-b47a-f37b234d24a3",
   "metadata": {},
   "outputs": [
    {
     "name": "stdout",
     "output_type": "stream",
     "text": [
      "1351\n"
     ]
    }
   ],
   "source": [
    "# チャンク分割された個数\n",
    "print(len(docs))"
   ]
  },
  {
   "cell_type": "markdown",
   "id": "70e3f204-ebca-43dd-9ec2-b018147e9a44",
   "metadata": {},
   "source": [
    "Document transformerとしては、HTMLをプレーンテキストに変換したり、ドキュメントを翻訳する機能などが存在する"
   ]
  },
  {
   "cell_type": "markdown",
   "id": "6ee84fda-0be8-40fb-ab53-3de81b114c64",
   "metadata": {},
   "source": [
    "### Embedding model（ベクトル変換）"
   ]
  },
  {
   "cell_type": "code",
   "execution_count": 35,
   "id": "8a7173b1-f532-4e89-bb7b-2381b7025346",
   "metadata": {},
   "outputs": [],
   "source": [
    "from langchain_openai import OpenAIEmbeddings"
   ]
  },
  {
   "cell_type": "code",
   "execution_count": 36,
   "id": "3cd80840-9591-4b6b-8f51-a54fe1fc4263",
   "metadata": {},
   "outputs": [],
   "source": [
    "embeddings = OpenAIEmbeddings(model=\"text-embedding-3-small\")"
   ]
  },
  {
   "cell_type": "markdown",
   "id": "0683dea1-018e-4206-8342-cab248e48d36",
   "metadata": {},
   "source": [
    "### Vector store（ベクトル保存）"
   ]
  },
  {
   "cell_type": "code",
   "execution_count": 37,
   "id": "ed814718-be51-4cf2-8b40-e59719ff485a",
   "metadata": {},
   "outputs": [],
   "source": [
    "from langchain_chroma import Chroma"
   ]
  },
  {
   "cell_type": "code",
   "execution_count": 38,
   "id": "cdce813a-40bc-4558-b4be-458162d34b2b",
   "metadata": {},
   "outputs": [],
   "source": [
    "db = Chroma.from_documents(docs, embeddings)"
   ]
  },
  {
   "cell_type": "markdown",
   "id": "6b243b70-7ad7-4293-9e81-2c7bfd3eadf8",
   "metadata": {},
   "source": [
    "### Retriever（検索インタフェース）"
   ]
  },
  {
   "cell_type": "code",
   "execution_count": 39,
   "id": "f6aa099a-03db-44c1-aa90-f85f3b096c52",
   "metadata": {},
   "outputs": [],
   "source": [
    "retriever = db.as_retriever()"
   ]
  },
  {
   "cell_type": "markdown",
   "id": "570d491f-8491-4f6f-b610-379a76d71878",
   "metadata": {},
   "source": [
    "### LCELでRAGを実行"
   ]
  },
  {
   "cell_type": "code",
   "execution_count": 40,
   "id": "55d1e2c3-6d3c-4d32-8f12-e7b951416d80",
   "metadata": {},
   "outputs": [],
   "source": [
    "from langchain_core.runnables import RunnablePassthrough"
   ]
  },
  {
   "cell_type": "code",
   "execution_count": 41,
   "id": "bc2c3609-dc56-4f4c-a9c3-09386fd36e29",
   "metadata": {},
   "outputs": [],
   "source": [
    "prompt = ChatPromptTemplate.from_template(\n",
    "    \"\"\"\n",
    "    以下の文脈だけを踏まえ、質問に回答してください。\n",
    "\n",
    "    文脈: ###\n",
    "    {context}\n",
    "    ###\n",
    "\n",
    "    質問: ###\n",
    "    {question}\n",
    "    ###\n",
    "    \"\"\"\n",
    ")\n",
    "\n",
    "model = ChatOpenAI(model_name=\"gpt-4o-mini\", temperature=0)"
   ]
  },
  {
   "cell_type": "code",
   "execution_count": 42,
   "id": "101536be-1f37-4cf9-adc6-3a07eb7ee41d",
   "metadata": {},
   "outputs": [],
   "source": [
    "chain = (\n",
    "    {\"context\": retriever, \"question\": RunnablePassthrough()}\n",
    "    | prompt\n",
    "    | model\n",
    "    | StrOutputParser()\n",
    ")"
   ]
  },
  {
   "cell_type": "code",
   "execution_count": 43,
   "id": "ee06762c-5de0-4a0f-a585-510dc60d39d8",
   "metadata": {},
   "outputs": [
    {
     "name": "stdout",
     "output_type": "stream",
     "text": [
      "はい、AWSのS3からデータを読み込むためのDocument loaderとして、`S3DirectoryLoader`と`S3FileLoader`があります。これらを使用することで、S3のディレクトリやファイルからデータを読み込むことができます。\n"
     ]
    }
   ],
   "source": [
    "ai_message = chain.invoke(\"AWSのS3からデータを読み込むためのDocument loaderはありますか。\")\n",
    "print(ai_message)"
   ]
  }
 ],
 "metadata": {
  "kernelspec": {
   "display_name": "Python 3 (ipykernel)",
   "language": "python",
   "name": "python3"
  },
  "language_info": {
   "codemirror_mode": {
    "name": "ipython",
    "version": 3
   },
   "file_extension": ".py",
   "mimetype": "text/x-python",
   "name": "python",
   "nbconvert_exporter": "python",
   "pygments_lexer": "ipython3",
   "version": "3.12.4"
  }
 },
 "nbformat": 4,
 "nbformat_minor": 5
}
