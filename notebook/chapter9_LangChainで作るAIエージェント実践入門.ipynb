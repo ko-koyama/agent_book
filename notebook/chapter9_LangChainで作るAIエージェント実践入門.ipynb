{
 "cells": [
  {
   "cell_type": "markdown",
   "id": "f80199b8-ba6b-4e20-aa45-77b39ab53b86",
   "metadata": {},
   "source": [
    "# 第9章 LangChainで作るAIエージェント実践入門"
   ]
  },
  {
   "cell_type": "markdown",
   "id": "eb028a45-42c6-4d90-8de5-626a4270d5ee",
   "metadata": {},
   "source": [
    "## 設定"
   ]
  },
  {
   "cell_type": "code",
   "execution_count": 1,
   "id": "49db6819-05c0-4683-9c4f-1e05958c469a",
   "metadata": {},
   "outputs": [
    {
     "data": {
      "text/plain": [
       "True"
      ]
     },
     "execution_count": 1,
     "metadata": {},
     "output_type": "execute_result"
    }
   ],
   "source": [
    "import json\n",
    "import os\n",
    "import time\n",
    "\n",
    "from dotenv import load_dotenv\n",
    "dotenv_path = \"../.env\"\n",
    "load_dotenv(dotenv_path)"
   ]
  },
  {
   "cell_type": "code",
   "execution_count": 2,
   "id": "b1c19e3a-4f95-4654-b781-8f06df3fbe9b",
   "metadata": {
    "scrolled": true
   },
   "outputs": [
    {
     "name": "stdout",
     "output_type": "stream",
     "text": [
      "Requirement already satisfied: langchain-core==0.3.0 in c:\\users\\mikan\\documents\\python\\agent_book\\lib\\site-packages (0.3.0)\n",
      "Requirement already satisfied: PyYAML>=5.3 in c:\\users\\mikan\\documents\\python\\agent_book\\lib\\site-packages (from langchain-core==0.3.0) (6.0.2)\n",
      "Requirement already satisfied: jsonpatch<2.0,>=1.33 in c:\\users\\mikan\\documents\\python\\agent_book\\lib\\site-packages (from langchain-core==0.3.0) (1.33)\n",
      "Requirement already satisfied: langsmith<0.2.0,>=0.1.117 in c:\\users\\mikan\\documents\\python\\agent_book\\lib\\site-packages (from langchain-core==0.3.0) (0.1.147)\n",
      "Requirement already satisfied: packaging<25,>=23.2 in c:\\users\\mikan\\documents\\python\\agent_book\\lib\\site-packages (from langchain-core==0.3.0) (24.2)\n",
      "Requirement already satisfied: pydantic<3.0.0,>=2.7.4 in c:\\users\\mikan\\documents\\python\\agent_book\\lib\\site-packages (from langchain-core==0.3.0) (2.10.4)\n",
      "Requirement already satisfied: tenacity!=8.4.0,<9.0.0,>=8.1.0 in c:\\users\\mikan\\documents\\python\\agent_book\\lib\\site-packages (from langchain-core==0.3.0) (8.5.0)\n",
      "Requirement already satisfied: typing-extensions>=4.7 in c:\\users\\mikan\\documents\\python\\agent_book\\lib\\site-packages (from langchain-core==0.3.0) (4.12.2)\n",
      "Requirement already satisfied: jsonpointer>=1.9 in c:\\users\\mikan\\documents\\python\\agent_book\\lib\\site-packages (from jsonpatch<2.0,>=1.33->langchain-core==0.3.0) (3.0.0)\n",
      "Requirement already satisfied: httpx<1,>=0.23.0 in c:\\users\\mikan\\documents\\python\\agent_book\\lib\\site-packages (from langsmith<0.2.0,>=0.1.117->langchain-core==0.3.0) (0.28.1)\n",
      "Requirement already satisfied: orjson<4.0.0,>=3.9.14 in c:\\users\\mikan\\documents\\python\\agent_book\\lib\\site-packages (from langsmith<0.2.0,>=0.1.117->langchain-core==0.3.0) (3.10.13)\n",
      "Requirement already satisfied: requests<3,>=2 in c:\\users\\mikan\\documents\\python\\agent_book\\lib\\site-packages (from langsmith<0.2.0,>=0.1.117->langchain-core==0.3.0) (2.32.3)\n",
      "Requirement already satisfied: requests-toolbelt<2.0.0,>=1.0.0 in c:\\users\\mikan\\documents\\python\\agent_book\\lib\\site-packages (from langsmith<0.2.0,>=0.1.117->langchain-core==0.3.0) (1.0.0)\n",
      "Requirement already satisfied: annotated-types>=0.6.0 in c:\\users\\mikan\\documents\\python\\agent_book\\lib\\site-packages (from pydantic<3.0.0,>=2.7.4->langchain-core==0.3.0) (0.7.0)\n",
      "Requirement already satisfied: pydantic-core==2.27.2 in c:\\users\\mikan\\documents\\python\\agent_book\\lib\\site-packages (from pydantic<3.0.0,>=2.7.4->langchain-core==0.3.0) (2.27.2)\n",
      "Requirement already satisfied: anyio in c:\\users\\mikan\\documents\\python\\agent_book\\lib\\site-packages (from httpx<1,>=0.23.0->langsmith<0.2.0,>=0.1.117->langchain-core==0.3.0) (4.7.0)\n",
      "Requirement already satisfied: certifi in c:\\users\\mikan\\documents\\python\\agent_book\\lib\\site-packages (from httpx<1,>=0.23.0->langsmith<0.2.0,>=0.1.117->langchain-core==0.3.0) (2024.12.14)\n",
      "Requirement already satisfied: httpcore==1.* in c:\\users\\mikan\\documents\\python\\agent_book\\lib\\site-packages (from httpx<1,>=0.23.0->langsmith<0.2.0,>=0.1.117->langchain-core==0.3.0) (1.0.7)\n",
      "Requirement already satisfied: idna in c:\\users\\mikan\\documents\\python\\agent_book\\lib\\site-packages (from httpx<1,>=0.23.0->langsmith<0.2.0,>=0.1.117->langchain-core==0.3.0) (3.10)\n",
      "Requirement already satisfied: h11<0.15,>=0.13 in c:\\users\\mikan\\documents\\python\\agent_book\\lib\\site-packages (from httpcore==1.*->httpx<1,>=0.23.0->langsmith<0.2.0,>=0.1.117->langchain-core==0.3.0) (0.14.0)\n",
      "Requirement already satisfied: charset-normalizer<4,>=2 in c:\\users\\mikan\\documents\\python\\agent_book\\lib\\site-packages (from requests<3,>=2->langsmith<0.2.0,>=0.1.117->langchain-core==0.3.0) (3.4.1)\n",
      "Requirement already satisfied: urllib3<3,>=1.21.1 in c:\\users\\mikan\\documents\\python\\agent_book\\lib\\site-packages (from requests<3,>=2->langsmith<0.2.0,>=0.1.117->langchain-core==0.3.0) (2.3.0)\n",
      "Requirement already satisfied: sniffio>=1.1 in c:\\users\\mikan\\documents\\python\\agent_book\\lib\\site-packages (from anyio->httpx<1,>=0.23.0->langsmith<0.2.0,>=0.1.117->langchain-core==0.3.0) (1.3.1)\n"
     ]
    },
    {
     "name": "stderr",
     "output_type": "stream",
     "text": [
      "\n",
      "[notice] A new release of pip is available: 24.0 -> 24.3.1\n",
      "[notice] To update, run: python.exe -m pip install --upgrade pip\n"
     ]
    },
    {
     "name": "stdout",
     "output_type": "stream",
     "text": [
      "Requirement already satisfied: langchain-openai==0.2.0 in c:\\users\\mikan\\documents\\python\\agent_book\\lib\\site-packages (0.2.0)\n",
      "Requirement already satisfied: langchain-core<0.4,>=0.3 in c:\\users\\mikan\\documents\\python\\agent_book\\lib\\site-packages (from langchain-openai==0.2.0) (0.3.0)\n",
      "Requirement already satisfied: openai<2.0.0,>=1.40.0 in c:\\users\\mikan\\documents\\python\\agent_book\\lib\\site-packages (from langchain-openai==0.2.0) (1.59.3)\n",
      "Requirement already satisfied: tiktoken<1,>=0.7 in c:\\users\\mikan\\documents\\python\\agent_book\\lib\\site-packages (from langchain-openai==0.2.0) (0.8.0)\n",
      "Requirement already satisfied: PyYAML>=5.3 in c:\\users\\mikan\\documents\\python\\agent_book\\lib\\site-packages (from langchain-core<0.4,>=0.3->langchain-openai==0.2.0) (6.0.2)\n",
      "Requirement already satisfied: jsonpatch<2.0,>=1.33 in c:\\users\\mikan\\documents\\python\\agent_book\\lib\\site-packages (from langchain-core<0.4,>=0.3->langchain-openai==0.2.0) (1.33)\n",
      "Requirement already satisfied: langsmith<0.2.0,>=0.1.117 in c:\\users\\mikan\\documents\\python\\agent_book\\lib\\site-packages (from langchain-core<0.4,>=0.3->langchain-openai==0.2.0) (0.1.147)\n",
      "Requirement already satisfied: packaging<25,>=23.2 in c:\\users\\mikan\\documents\\python\\agent_book\\lib\\site-packages (from langchain-core<0.4,>=0.3->langchain-openai==0.2.0) (24.2)\n",
      "Requirement already satisfied: pydantic<3.0.0,>=2.7.4 in c:\\users\\mikan\\documents\\python\\agent_book\\lib\\site-packages (from langchain-core<0.4,>=0.3->langchain-openai==0.2.0) (2.10.4)\n",
      "Requirement already satisfied: tenacity!=8.4.0,<9.0.0,>=8.1.0 in c:\\users\\mikan\\documents\\python\\agent_book\\lib\\site-packages (from langchain-core<0.4,>=0.3->langchain-openai==0.2.0) (8.5.0)\n",
      "Requirement already satisfied: typing-extensions>=4.7 in c:\\users\\mikan\\documents\\python\\agent_book\\lib\\site-packages (from langchain-core<0.4,>=0.3->langchain-openai==0.2.0) (4.12.2)\n",
      "Requirement already satisfied: anyio<5,>=3.5.0 in c:\\users\\mikan\\documents\\python\\agent_book\\lib\\site-packages (from openai<2.0.0,>=1.40.0->langchain-openai==0.2.0) (4.7.0)\n",
      "Requirement already satisfied: distro<2,>=1.7.0 in c:\\users\\mikan\\documents\\python\\agent_book\\lib\\site-packages (from openai<2.0.0,>=1.40.0->langchain-openai==0.2.0) (1.9.0)\n",
      "Requirement already satisfied: httpx<1,>=0.23.0 in c:\\users\\mikan\\documents\\python\\agent_book\\lib\\site-packages (from openai<2.0.0,>=1.40.0->langchain-openai==0.2.0) (0.28.1)\n",
      "Requirement already satisfied: jiter<1,>=0.4.0 in c:\\users\\mikan\\documents\\python\\agent_book\\lib\\site-packages (from openai<2.0.0,>=1.40.0->langchain-openai==0.2.0) (0.8.2)\n",
      "Requirement already satisfied: sniffio in c:\\users\\mikan\\documents\\python\\agent_book\\lib\\site-packages (from openai<2.0.0,>=1.40.0->langchain-openai==0.2.0) (1.3.1)\n",
      "Requirement already satisfied: tqdm>4 in c:\\users\\mikan\\documents\\python\\agent_book\\lib\\site-packages (from openai<2.0.0,>=1.40.0->langchain-openai==0.2.0) (4.67.1)\n",
      "Requirement already satisfied: regex>=2022.1.18 in c:\\users\\mikan\\documents\\python\\agent_book\\lib\\site-packages (from tiktoken<1,>=0.7->langchain-openai==0.2.0) (2024.11.6)\n",
      "Requirement already satisfied: requests>=2.26.0 in c:\\users\\mikan\\documents\\python\\agent_book\\lib\\site-packages (from tiktoken<1,>=0.7->langchain-openai==0.2.0) (2.32.3)\n",
      "Requirement already satisfied: idna>=2.8 in c:\\users\\mikan\\documents\\python\\agent_book\\lib\\site-packages (from anyio<5,>=3.5.0->openai<2.0.0,>=1.40.0->langchain-openai==0.2.0) (3.10)\n",
      "Requirement already satisfied: certifi in c:\\users\\mikan\\documents\\python\\agent_book\\lib\\site-packages (from httpx<1,>=0.23.0->openai<2.0.0,>=1.40.0->langchain-openai==0.2.0) (2024.12.14)\n",
      "Requirement already satisfied: httpcore==1.* in c:\\users\\mikan\\documents\\python\\agent_book\\lib\\site-packages (from httpx<1,>=0.23.0->openai<2.0.0,>=1.40.0->langchain-openai==0.2.0) (1.0.7)\n",
      "Requirement already satisfied: h11<0.15,>=0.13 in c:\\users\\mikan\\documents\\python\\agent_book\\lib\\site-packages (from httpcore==1.*->httpx<1,>=0.23.0->openai<2.0.0,>=1.40.0->langchain-openai==0.2.0) (0.14.0)\n",
      "Requirement already satisfied: jsonpointer>=1.9 in c:\\users\\mikan\\documents\\python\\agent_book\\lib\\site-packages (from jsonpatch<2.0,>=1.33->langchain-core<0.4,>=0.3->langchain-openai==0.2.0) (3.0.0)\n",
      "Requirement already satisfied: orjson<4.0.0,>=3.9.14 in c:\\users\\mikan\\documents\\python\\agent_book\\lib\\site-packages (from langsmith<0.2.0,>=0.1.117->langchain-core<0.4,>=0.3->langchain-openai==0.2.0) (3.10.13)\n",
      "Requirement already satisfied: requests-toolbelt<2.0.0,>=1.0.0 in c:\\users\\mikan\\documents\\python\\agent_book\\lib\\site-packages (from langsmith<0.2.0,>=0.1.117->langchain-core<0.4,>=0.3->langchain-openai==0.2.0) (1.0.0)\n",
      "Requirement already satisfied: annotated-types>=0.6.0 in c:\\users\\mikan\\documents\\python\\agent_book\\lib\\site-packages (from pydantic<3.0.0,>=2.7.4->langchain-core<0.4,>=0.3->langchain-openai==0.2.0) (0.7.0)\n",
      "Requirement already satisfied: pydantic-core==2.27.2 in c:\\users\\mikan\\documents\\python\\agent_book\\lib\\site-packages (from pydantic<3.0.0,>=2.7.4->langchain-core<0.4,>=0.3->langchain-openai==0.2.0) (2.27.2)\n",
      "Requirement already satisfied: charset-normalizer<4,>=2 in c:\\users\\mikan\\documents\\python\\agent_book\\lib\\site-packages (from requests>=2.26.0->tiktoken<1,>=0.7->langchain-openai==0.2.0) (3.4.1)\n",
      "Requirement already satisfied: urllib3<3,>=1.21.1 in c:\\users\\mikan\\documents\\python\\agent_book\\lib\\site-packages (from requests>=2.26.0->tiktoken<1,>=0.7->langchain-openai==0.2.0) (2.3.0)\n",
      "Requirement already satisfied: colorama in c:\\users\\mikan\\documents\\python\\agent_book\\lib\\site-packages (from tqdm>4->openai<2.0.0,>=1.40.0->langchain-openai==0.2.0) (0.4.6)\n"
     ]
    },
    {
     "name": "stderr",
     "output_type": "stream",
     "text": [
      "\n",
      "[notice] A new release of pip is available: 24.0 -> 24.3.1\n",
      "[notice] To update, run: python.exe -m pip install --upgrade pip\n"
     ]
    },
    {
     "name": "stdout",
     "output_type": "stream",
     "text": [
      "Requirement already satisfied: langgraph==0.2.22 in c:\\users\\mikan\\documents\\python\\agent_book\\lib\\site-packages (0.2.22)\n",
      "Requirement already satisfied: langchain-core<0.4,>=0.2.39 in c:\\users\\mikan\\documents\\python\\agent_book\\lib\\site-packages (from langgraph==0.2.22) (0.3.0)\n",
      "Requirement already satisfied: langgraph-checkpoint<2.0.0,>=1.0.2 in c:\\users\\mikan\\documents\\python\\agent_book\\lib\\site-packages (from langgraph==0.2.22) (1.0.12)\n",
      "Requirement already satisfied: PyYAML>=5.3 in c:\\users\\mikan\\documents\\python\\agent_book\\lib\\site-packages (from langchain-core<0.4,>=0.2.39->langgraph==0.2.22) (6.0.2)\n",
      "Requirement already satisfied: jsonpatch<2.0,>=1.33 in c:\\users\\mikan\\documents\\python\\agent_book\\lib\\site-packages (from langchain-core<0.4,>=0.2.39->langgraph==0.2.22) (1.33)\n",
      "Requirement already satisfied: langsmith<0.2.0,>=0.1.117 in c:\\users\\mikan\\documents\\python\\agent_book\\lib\\site-packages (from langchain-core<0.4,>=0.2.39->langgraph==0.2.22) (0.1.147)\n",
      "Requirement already satisfied: packaging<25,>=23.2 in c:\\users\\mikan\\documents\\python\\agent_book\\lib\\site-packages (from langchain-core<0.4,>=0.2.39->langgraph==0.2.22) (24.2)\n",
      "Requirement already satisfied: pydantic<3.0.0,>=2.7.4 in c:\\users\\mikan\\documents\\python\\agent_book\\lib\\site-packages (from langchain-core<0.4,>=0.2.39->langgraph==0.2.22) (2.10.4)\n",
      "Requirement already satisfied: tenacity!=8.4.0,<9.0.0,>=8.1.0 in c:\\users\\mikan\\documents\\python\\agent_book\\lib\\site-packages (from langchain-core<0.4,>=0.2.39->langgraph==0.2.22) (8.5.0)\n",
      "Requirement already satisfied: typing-extensions>=4.7 in c:\\users\\mikan\\documents\\python\\agent_book\\lib\\site-packages (from langchain-core<0.4,>=0.2.39->langgraph==0.2.22) (4.12.2)\n",
      "Requirement already satisfied: msgpack<2.0.0,>=1.1.0 in c:\\users\\mikan\\documents\\python\\agent_book\\lib\\site-packages (from langgraph-checkpoint<2.0.0,>=1.0.2->langgraph==0.2.22) (1.1.0)\n",
      "Requirement already satisfied: jsonpointer>=1.9 in c:\\users\\mikan\\documents\\python\\agent_book\\lib\\site-packages (from jsonpatch<2.0,>=1.33->langchain-core<0.4,>=0.2.39->langgraph==0.2.22) (3.0.0)\n",
      "Requirement already satisfied: httpx<1,>=0.23.0 in c:\\users\\mikan\\documents\\python\\agent_book\\lib\\site-packages (from langsmith<0.2.0,>=0.1.117->langchain-core<0.4,>=0.2.39->langgraph==0.2.22) (0.28.1)\n",
      "Requirement already satisfied: orjson<4.0.0,>=3.9.14 in c:\\users\\mikan\\documents\\python\\agent_book\\lib\\site-packages (from langsmith<0.2.0,>=0.1.117->langchain-core<0.4,>=0.2.39->langgraph==0.2.22) (3.10.13)\n",
      "Requirement already satisfied: requests<3,>=2 in c:\\users\\mikan\\documents\\python\\agent_book\\lib\\site-packages (from langsmith<0.2.0,>=0.1.117->langchain-core<0.4,>=0.2.39->langgraph==0.2.22) (2.32.3)\n",
      "Requirement already satisfied: requests-toolbelt<2.0.0,>=1.0.0 in c:\\users\\mikan\\documents\\python\\agent_book\\lib\\site-packages (from langsmith<0.2.0,>=0.1.117->langchain-core<0.4,>=0.2.39->langgraph==0.2.22) (1.0.0)\n",
      "Requirement already satisfied: annotated-types>=0.6.0 in c:\\users\\mikan\\documents\\python\\agent_book\\lib\\site-packages (from pydantic<3.0.0,>=2.7.4->langchain-core<0.4,>=0.2.39->langgraph==0.2.22) (0.7.0)\n",
      "Requirement already satisfied: pydantic-core==2.27.2 in c:\\users\\mikan\\documents\\python\\agent_book\\lib\\site-packages (from pydantic<3.0.0,>=2.7.4->langchain-core<0.4,>=0.2.39->langgraph==0.2.22) (2.27.2)\n",
      "Requirement already satisfied: anyio in c:\\users\\mikan\\documents\\python\\agent_book\\lib\\site-packages (from httpx<1,>=0.23.0->langsmith<0.2.0,>=0.1.117->langchain-core<0.4,>=0.2.39->langgraph==0.2.22) (4.7.0)\n",
      "Requirement already satisfied: certifi in c:\\users\\mikan\\documents\\python\\agent_book\\lib\\site-packages (from httpx<1,>=0.23.0->langsmith<0.2.0,>=0.1.117->langchain-core<0.4,>=0.2.39->langgraph==0.2.22) (2024.12.14)\n",
      "Requirement already satisfied: httpcore==1.* in c:\\users\\mikan\\documents\\python\\agent_book\\lib\\site-packages (from httpx<1,>=0.23.0->langsmith<0.2.0,>=0.1.117->langchain-core<0.4,>=0.2.39->langgraph==0.2.22) (1.0.7)\n",
      "Requirement already satisfied: idna in c:\\users\\mikan\\documents\\python\\agent_book\\lib\\site-packages (from httpx<1,>=0.23.0->langsmith<0.2.0,>=0.1.117->langchain-core<0.4,>=0.2.39->langgraph==0.2.22) (3.10)\n",
      "Requirement already satisfied: h11<0.15,>=0.13 in c:\\users\\mikan\\documents\\python\\agent_book\\lib\\site-packages (from httpcore==1.*->httpx<1,>=0.23.0->langsmith<0.2.0,>=0.1.117->langchain-core<0.4,>=0.2.39->langgraph==0.2.22) (0.14.0)\n",
      "Requirement already satisfied: charset-normalizer<4,>=2 in c:\\users\\mikan\\documents\\python\\agent_book\\lib\\site-packages (from requests<3,>=2->langsmith<0.2.0,>=0.1.117->langchain-core<0.4,>=0.2.39->langgraph==0.2.22) (3.4.1)\n",
      "Requirement already satisfied: urllib3<3,>=1.21.1 in c:\\users\\mikan\\documents\\python\\agent_book\\lib\\site-packages (from requests<3,>=2->langsmith<0.2.0,>=0.1.117->langchain-core<0.4,>=0.2.39->langgraph==0.2.22) (2.3.0)\n",
      "Requirement already satisfied: sniffio>=1.1 in c:\\users\\mikan\\documents\\python\\agent_book\\lib\\site-packages (from anyio->httpx<1,>=0.23.0->langsmith<0.2.0,>=0.1.117->langchain-core<0.4,>=0.2.39->langgraph==0.2.22) (1.3.1)\n"
     ]
    },
    {
     "name": "stderr",
     "output_type": "stream",
     "text": [
      "\n",
      "[notice] A new release of pip is available: 24.0 -> 24.3.1\n",
      "[notice] To update, run: python.exe -m pip install --upgrade pip\n"
     ]
    },
    {
     "name": "stdout",
     "output_type": "stream",
     "text": [
      "Requirement already satisfied: grandalf in c:\\users\\mikan\\documents\\python\\agent_book\\lib\\site-packages (0.8)\n",
      "Requirement already satisfied: pyparsing in c:\\users\\mikan\\documents\\python\\agent_book\\lib\\site-packages (from grandalf) (3.2.1)\n"
     ]
    },
    {
     "name": "stderr",
     "output_type": "stream",
     "text": [
      "\n",
      "[notice] A new release of pip is available: 24.0 -> 24.3.1\n",
      "[notice] To update, run: python.exe -m pip install --upgrade pip\n"
     ]
    }
   ],
   "source": [
    "!pip install langchain-core==0.3.0\n",
    "!pip install langchain-openai==0.2.0\n",
    "!pip install langgraph==0.2.22\n",
    "!pip install grandalf"
   ]
  },
  {
   "cell_type": "markdown",
   "id": "414ec467-9ac3-4300-9fd0-825962aa830b",
   "metadata": {},
   "source": [
    "## Q&Aエージェント"
   ]
  },
  {
   "cell_type": "markdown",
   "id": "e04bdc15-2870-4232-aca7-82f82dd8cec2",
   "metadata": {},
   "source": [
    "* ユーザからの質問に応じて、LLMに適切なロールを設定した上で質問に回答する\n",
    "* 生成した回答が妥当かを判定し、妥当でない場合は回答を再生成する"
   ]
  },
  {
   "cell_type": "markdown",
   "id": "ca46ca79-32d9-4651-9863-b352ba4cef8e",
   "metadata": {},
   "source": [
    "### 回答ロールの定義"
   ]
  },
  {
   "cell_type": "markdown",
   "id": "ca54a89c-65d1-49f4-994e-ec55db6aeddc",
   "metadata": {},
   "source": [
    "* 本アプリケーション固有のものなので、LangGraphとは直接関係がない"
   ]
  },
  {
   "cell_type": "code",
   "execution_count": 3,
   "id": "397f3d4c-76fc-458b-b0e3-c93541280d21",
   "metadata": {},
   "outputs": [],
   "source": [
    "ROLES = {\n",
    "    \"1\": {\n",
    "        \"name\": \"一般知識エキスパート\",\n",
    "        \"description\": \"幅広い分野の一般的な質問に答える\",\n",
    "        \"details\": \"幅広い分野の一般的な質問に対して、正確で分かりやすい回答を提供してください。\"\n",
    "    },\n",
    "    \"2\": {\n",
    "        \"name\": \"生成AI製品エキスパート\",\n",
    "        \"description\": \"生成AIや関連製品、技術に関する専門的な質問に答える\",\n",
    "        \"details\": \"生成AIや関連製品、技術に関する専門的な質問に対して、最新の情報と深い洞察を提供してください。\"\n",
    "    },\n",
    "    \"3\": {\n",
    "        \"name\": \"カウンセラー\",\n",
    "        \"description\": \"個人的な悩みや心理的な問題に対してサポートを提供する\",\n",
    "        \"details\": \"個人的な悩みや心理的な問題に対して、共感的で支援的な回答を提供し、可能であれば適切なアドバイスも行ってください。\"\n",
    "    }\n",
    "}"
   ]
  },
  {
   "cell_type": "markdown",
   "id": "5aec9079-8432-4293-9fa7-80d4237a54da",
   "metadata": {},
   "source": [
    "## stateの定義"
   ]
  },
  {
   "cell_type": "markdown",
   "id": "9a7a5c78-368d-403b-8aab-d2f79fa57a4b",
   "metadata": {},
   "source": [
    "* LangGraphで実装を進める際には、始めにデータ構造（state）を設計する"
   ]
  },
  {
   "cell_type": "code",
   "execution_count": 4,
   "id": "2a07f5ce-22ad-4f49-ae0d-6611a742cb51",
   "metadata": {},
   "outputs": [
    {
     "name": "stderr",
     "output_type": "stream",
     "text": [
      "C:\\Users\\MikAn\\Documents\\Python\\agent_book\\Lib\\site-packages\\IPython\\core\\interactiveshell.py:3577: LangChainDeprecationWarning: As of langchain-core 0.3.0, LangChain uses pydantic v2 internally. The langchain_core.pydantic_v1 module was a compatibility shim for pydantic v1, and should no longer be used. Please update the code to import from Pydantic directly.\n",
      "\n",
      "For example, replace imports like: `from langchain_core.pydantic_v1 import BaseModel`\n",
      "with: `from pydantic import BaseModel`\n",
      "or the v1 compatibility namespace if you are working in a code base that has not been fully upgraded to pydantic 2 yet. \tfrom pydantic.v1 import BaseModel\n",
      "\n",
      "  exec(code_obj, self.user_global_ns, self.user_ns)\n"
     ]
    }
   ],
   "source": [
    "import operator\n",
    "from typing import Annotated\n",
    "\n",
    "from langchain_core.pydantic_v1 import BaseModel, Field"
   ]
  },
  {
   "cell_type": "code",
   "execution_count": 5,
   "id": "98801db5-df88-4fff-8977-6ef4c2c41ad1",
   "metadata": {},
   "outputs": [],
   "source": [
    "class State(BaseModel):\n",
    "    query: str = Field(\n",
    "        ..., # 必須のフィールドであることを明示\n",
    "        description=\"ユーザからの質問\"\n",
    "    )\n",
    "\n",
    "    current_role: str = Field(\n",
    "        default=\"\",\n",
    "        description=\"選択された回答ロール\",\n",
    "    )\n",
    "\n",
    "    # フィールド更新時は通常値が上書きされる\n",
    "    # Annotatedで明示的に更新方法を定義可能\n",
    "    # この例ではListに値を追加するように定義\n",
    "    messages: Annotated[list[str], operator.add] = Field(\n",
    "        default=[],\n",
    "        description=\"回答履歴\",\n",
    "    )\n",
    "\n",
    "    current_judge: bool = Field(\n",
    "        default=False,\n",
    "        description=\"品質チェックの結果\",\n",
    "    )\n",
    "\n",
    "    judgement_reason: str = Field(\n",
    "        default=\"\",\n",
    "        description=\"品質チェックの判定理由\",\n",
    "    )"
   ]
  },
  {
   "cell_type": "markdown",
   "id": "5625c0fe-1518-4cf9-9413-a2ff99fdcd1b",
   "metadata": {},
   "source": [
    "### nodeの定義"
   ]
  },
  {
   "cell_type": "markdown",
   "id": "5c989e30-08d1-4936-a9ab-004f2c6f44ed",
   "metadata": {},
   "source": [
    "* nodeはstateを引数に受け取り、stateを更新するためのdictを返す関数として定義する"
   ]
  },
  {
   "cell_type": "code",
   "execution_count": 6,
   "id": "ba81916b-e02f-4f2d-8b10-23ca6e028c24",
   "metadata": {},
   "outputs": [],
   "source": [
    "from langchain_openai import ChatOpenAI"
   ]
  },
  {
   "cell_type": "code",
   "execution_count": 7,
   "id": "cf5d9544-2335-4899-8a4b-611953e8d893",
   "metadata": {},
   "outputs": [],
   "source": [
    "model = ChatOpenAI(model=\"gpt-4o-mini\", temperature=0.0)"
   ]
  },
  {
   "cell_type": "code",
   "execution_count": 8,
   "id": "814af22b-f435-4163-a7c9-b7045af1aebe",
   "metadata": {},
   "outputs": [],
   "source": [
    "from typing import Any\n",
    "\n",
    "from langchain_core.prompts import ChatPromptTemplate\n",
    "from langchain_core.output_parsers import StrOutputParser"
   ]
  },
  {
   "cell_type": "code",
   "execution_count": 9,
   "id": "6379b09c-8625-4cdd-9700-556e66f10ff8",
   "metadata": {},
   "outputs": [],
   "source": [
    "# ユーザからの質問に応じて、LLMに割り当てる適切なロールを選択\n",
    "def selection_node(state: State) -> dict[str, Any]:\n",
    "    query = state.query\n",
    "    \n",
    "    prompt = ChatPromptTemplate.from_messages(\n",
    "        [\n",
    "            (\n",
    "                \"system\",\n",
    "                \"質問を分析し、最も適切な回答担当ロールを選択してください。\\n\"\n",
    "                \"回答は選択肢の番号（1、2、または3）のみ返してください。\\n\\n\"\n",
    "                \"1. 一般知識エキスパート: 幅広い分野の一般的な質問に答える\\n\"\n",
    "                \"2. 生成AI製品エキスパート: 生成AIや関連製品、技術に関する専門的な質問に答える\\n\"\n",
    "                \"3. カウンセラー: 個人的な悩みや心理的な問題に対してサポートを提供する\\n\"\n",
    "            ),\n",
    "            (\n",
    "                \"human\",\n",
    "                \"{query}\",\n",
    "            ),\n",
    "        ]\n",
    "    )\n",
    "\n",
    "    chain = prompt | model | StrOutputParser()\n",
    "\n",
    "    role_number = chain.invoke({\"query\": query})\n",
    "    selected_role = ROLES[role_number.strip()][\"name\"]\n",
    "\n",
    "    return {\"current_role\": selected_role}"
   ]
  },
  {
   "cell_type": "code",
   "execution_count": 10,
   "id": "549b2659-7251-47cb-86b4-93748aa4ff71",
   "metadata": {},
   "outputs": [],
   "source": [
    "# 割り当てられたロールになりきり、ユーザからの質問に回答する\n",
    "def answering_node(state: State) -> dict[str, Any]:\n",
    "    query = state.query\n",
    "    role = state.current_role\n",
    "\n",
    "    prompt = ChatPromptTemplate.from_messages(\n",
    "        [\n",
    "            (\n",
    "                \"system\",\n",
    "                \"あなたは{role}として回答してください。\\n\"\n",
    "                \"ユーザからの質問に基づいた適切な価値王を提供してください。\\n\\n\"\n",
    "                \"役割の詳細:\\n\"\n",
    "                \"1. 一般知識エキスパート: 幅広い分野の一般的な質問に答える\\n\"\n",
    "                \"2. 生成AI製品エキスパート: 生成AIや関連製品、技術に関する専門的な質問に答える\\n\"\n",
    "                \"3. カウンセラー: 個人的な悩みや心理的な問題に対してサポートを提供する\\n\"\n",
    "            ),\n",
    "            (\n",
    "                \"human\",\n",
    "                \"{query}\",\n",
    "            ),\n",
    "        ]\n",
    "    )\n",
    "\n",
    "    chain = prompt | model | StrOutputParser()\n",
    "\n",
    "    answer = chain.invoke({\"role\": role, \"query\": query})\n",
    "\n",
    "    return {\"messages\": [answer]}"
   ]
  },
  {
   "cell_type": "code",
   "execution_count": 11,
   "id": "c82f2838-4c2d-401d-825a-d9fc978737b9",
   "metadata": {},
   "outputs": [],
   "source": [
    "# 生成した回答が妥当かを判定した結果を格納するクラス\n",
    "class Judgement(BaseModel):\n",
    "    reason: str = Field(default=\"\", description=\"判定理由\")\n",
    "    judge: bool = Field(default=False, description=\"判定結果\")\n",
    "\n",
    "# 生成した回答が妥当かを判定する\n",
    "def check_node(state: State) -> dict[str, Any]:\n",
    "    query = state.query\n",
    "    answer = state.messages[-1]\n",
    "    \n",
    "    prompt = ChatPromptTemplate.from_messages(\n",
    "        [\n",
    "            (\n",
    "                \"system\",\n",
    "                \"ユーザから与えられる質問と回答を踏まえ、回答の品質をチェックしてください。\\n\"\n",
    "                \"問題がある場合は'False'、問題がない場合は'True'を回答してください。\"\n",
    "                \"また、その判定理由も説明してください。\"\n",
    "            ),\n",
    "            (\n",
    "                \"human\",\n",
    "                \"質問: {query}\\n\"\n",
    "                \"回答: {answer}\"\n",
    "            )\n",
    "        ]\n",
    "    )\n",
    "\n",
    "    chain = prompt | model.with_structured_output(Judgement) # 出力をJudgement型にParse\n",
    "\n",
    "    result = chain.invoke({\"query\": query, \"answer\": answer})\n",
    "\n",
    "    return {\n",
    "        \"current_judge\": result.judge,\n",
    "        \"judgement_reason\": result.reason\n",
    "    } "
   ]
  },
  {
   "cell_type": "markdown",
   "id": "6817a0bf-a5bb-4628-ad49-761540ddde5e",
   "metadata": {},
   "source": [
    "### グラフの定義"
   ]
  },
  {
   "cell_type": "markdown",
   "id": "5fff58d5-0c12-4960-9e84-d5a8af692a44",
   "metadata": {},
   "source": [
    "### グラフの定義"
   ]
  },
  {
   "cell_type": "markdown",
   "id": "680fc330-b8fb-4855-aad9-5f719924af7b",
   "metadata": {},
   "source": [
    "* stateをもとにworkflowを作成し、そこにnodeを追加し、edgeを張る\n",
    "* 作成したグラフはコンパイルして実行可能な状態になる"
   ]
  },
  {
   "cell_type": "code",
   "execution_count": 12,
   "id": "5f8c8729-517b-46ab-974b-d16a4bc293a0",
   "metadata": {},
   "outputs": [],
   "source": [
    "from langgraph.graph import StateGraph"
   ]
  },
  {
   "cell_type": "code",
   "execution_count": 13,
   "id": "24a33ec8-1432-453a-9bf4-1c9cdf5d91f4",
   "metadata": {},
   "outputs": [],
   "source": [
    "# StateGraphで空のworkflowを作成\n",
    "workflow = StateGraph(State)"
   ]
  },
  {
   "cell_type": "code",
   "execution_count": 14,
   "id": "1554ea9a-c38b-4dc9-871f-5612aa011a86",
   "metadata": {},
   "outputs": [],
   "source": [
    "# workflowにnodeを追加\n",
    "workflow.add_node(\"selection\", selection_node)\n",
    "workflow.add_node(\"answering\", answering_node)\n",
    "workflow.add_node(\"check\", check_node)"
   ]
  },
  {
   "cell_type": "code",
   "execution_count": 15,
   "id": "3ab403ea-7bb2-41e3-b908-62da5fee5f14",
   "metadata": {},
   "outputs": [],
   "source": [
    "from langgraph.graph import END"
   ]
  },
  {
   "cell_type": "code",
   "execution_count": 16,
   "id": "6b28e493-0d2c-4224-a355-f82fad4485c1",
   "metadata": {},
   "outputs": [],
   "source": [
    "# edgeを張る\n",
    "workflow.set_entry_point(\"selection\") # エントリーポイントを定義\n",
    "workflow.add_edge(\"selection\", \"answering\") # selection -> answering\n",
    "workflow.add_edge(\"answering\", \"check\") # answering -> check\n",
    "workflow.add_conditional_edges( # check -> END or selectionの条件付きedge\n",
    "    \"check\",\n",
    "    lambda state: state.current_judge,\n",
    "    {True: END, False:\"selection\"}\n",
    ")"
   ]
  },
  {
   "cell_type": "code",
   "execution_count": 17,
   "id": "09fcaf0b-92ba-45c0-bf6e-ace4ed771a6f",
   "metadata": {},
   "outputs": [],
   "source": [
    "# コンパイル\n",
    "compiled = workflow.compile()"
   ]
  },
  {
   "cell_type": "code",
   "execution_count": 18,
   "id": "c8a25af4-233e-4b84-abab-35c23ac3bf61",
   "metadata": {},
   "outputs": [
    {
     "name": "stdout",
     "output_type": "stream",
     "text": [
      "           +-----------+      \n",
      "           | __start__ |      \n",
      "           +-----------+      \n",
      "                  *           \n",
      "                  *           \n",
      "                  *           \n",
      "           +-----------+      \n",
      "           | selection |      \n",
      "           +-----------+      \n",
      "           ***        ..      \n",
      "          *             ..    \n",
      "        **                ..  \n",
      "+-----------+               . \n",
      "| answering |             ..  \n",
      "+-----------+           ..    \n",
      "           ***        ..      \n",
      "              *     ..        \n",
      "               **  .          \n",
      "             +-------+        \n",
      "             | check |        \n",
      "             +-------+        \n",
      "                  .           \n",
      "                  .           \n",
      "                  .           \n",
      "            +---------+       \n",
      "            | __end__ |       \n",
      "            +---------+       \n"
     ]
    }
   ],
   "source": [
    "# グラフをASCII文字で可視化\n",
    "compiled.get_graph().print_ascii()"
   ]
  },
  {
   "cell_type": "markdown",
   "id": "ce978a90-8f96-42c7-a30e-3ec2ff9bd574",
   "metadata": {},
   "source": [
    "### エージェントの実行"
   ]
  },
  {
   "cell_type": "markdown",
   "id": "0efee34c-c916-4677-9131-02e879040c5c",
   "metadata": {},
   "source": [
    "実行例1"
   ]
  },
  {
   "cell_type": "code",
   "execution_count": 19,
   "id": "a2f412f7-3cf5-4676-accc-3cd8786686eb",
   "metadata": {},
   "outputs": [],
   "source": [
    "# エントリーポイントに入力するstateを作成\n",
    "initial_state = State(query=\"生成AIについて教えてください\")"
   ]
  },
  {
   "cell_type": "code",
   "execution_count": 20,
   "id": "717b8f10-96e5-4326-b634-4852c2326a18",
   "metadata": {},
   "outputs": [
    {
     "name": "stdout",
     "output_type": "stream",
     "text": [
      "生成AI（Generative AI）とは、データを基に新しいコンテンツを生成する人工知能の一種です。テキスト、画像、音声、動画など、さまざまな形式のコンテンツを作成する能力があります。以下に、生成AIの主な特徴と応用例を紹介します。\n",
      "\n",
      "### 特徴\n",
      "1. **学習能力**: 大量のデータを学習し、そのパターンを理解することで新しいコンテンツを生成します。\n",
      "2. **創造性**: 既存の情報を基に新しいアイデアや作品を生み出すことができます。\n",
      "3. **多様性**: 同じ入力に対して異なる出力を生成することができ、さまざまなスタイルやトーンでコンテンツを作成できます。\n",
      "\n",
      "### 主な応用例\n",
      "1. **テキスト生成**: 自然言語処理を用いて、記事、ストーリー、詩などを自動生成します。例えば、ChatGPTやGPT-3などのモデルがあります。\n",
      "2. **画像生成**: DALL-EやMidjourneyなどのツールを使用して、テキストから画像を生成することができます。\n",
      "3. **音声生成**: 音声合成技術を用いて、リアルな音声を生成したり、特定の声を模倣したりすることが可能です。\n",
      "4. **動画生成**: AIを用いて短い動画やアニメーションを生成する技術も進化しています。\n",
      "\n",
      "### 利点と課題\n",
      "- **利点**: コンテンツ制作の効率化、コスト削減、クリエイティブなアイデアの提供など。\n",
      "- **課題**: 偽情報の生成、著作権の問題、倫理的な懸念などが存在します。\n",
      "\n",
      "生成AIは、さまざまな業界での活用が期待されており、今後も技術の進化が続くでしょう。興味がある特定の分野や技術についてさらに詳しく知りたい場合は、お知らせください。\n"
     ]
    }
   ],
   "source": [
    "# コンパイルされたグラフを実行\n",
    "result = compiled.invoke(initial_state)\n",
    "print(result[\"messages\"][-1])"
   ]
  },
  {
   "cell_type": "code",
   "execution_count": 21,
   "id": "ffcfa9eb-6215-4d1b-b2e6-3fc43ffcc763",
   "metadata": {},
   "outputs": [
    {
     "data": {
      "text/plain": [
       "{'query': '生成AIについて教えてください',\n",
       " 'current_role': '生成AI製品エキスパート',\n",
       " 'messages': ['生成AI（Generative AI）とは、データを基に新しいコンテンツを生成する人工知能の一種です。テキスト、画像、音声、動画など、さまざまな形式のコンテンツを作成する能力があります。以下に、生成AIの主な特徴と応用例を紹介します。\\n\\n### 特徴\\n1. **学習能力**: 大量のデータを学習し、そのパターンを理解することで新しいコンテンツを生成します。\\n2. **創造性**: 既存の情報を基に新しいアイデアや作品を生み出すことができます。\\n3. **多様性**: 同じ入力に対して異なる出力を生成することができ、さまざまなスタイルやトーンでコンテンツを作成できます。\\n\\n### 主な応用例\\n1. **テキスト生成**: 自然言語処理を用いて、記事、ストーリー、詩などを自動生成します。例えば、ChatGPTやGPT-3などのモデルがあります。\\n2. **画像生成**: DALL-EやMidjourneyなどのツールを使用して、テキストから画像を生成することができます。\\n3. **音声生成**: 音声合成技術を用いて、リアルな音声を生成したり、特定の声を模倣したりすることが可能です。\\n4. **動画生成**: AIを用いて短い動画やアニメーションを生成する技術も進化しています。\\n\\n### 利点と課題\\n- **利点**: コンテンツ制作の効率化、コスト削減、クリエイティブなアイデアの提供など。\\n- **課題**: 偽情報の生成、著作権の問題、倫理的な懸念などが存在します。\\n\\n生成AIは、さまざまな業界での活用が期待されており、今後も技術の進化が続くでしょう。興味がある特定の分野や技術についてさらに詳しく知りたい場合は、お知らせください。'],\n",
       " 'current_judge': True,\n",
       " 'judgement_reason': '回答は生成AIについての基本的な定義、特徴、応用例、利点と課題を包括的に説明しており、情報が正確で関連性が高い。特に、具体的な例を挙げている点が良い。'}"
      ]
     },
     "execution_count": 21,
     "metadata": {},
     "output_type": "execute_result"
    }
   ],
   "source": [
    "result"
   ]
  },
  {
   "cell_type": "markdown",
   "id": "ca0e720f-bcb0-4902-a496-ae46a30a381e",
   "metadata": {},
   "source": [
    "実行例2"
   ]
  },
  {
   "cell_type": "code",
   "execution_count": 22,
   "id": "d4157663-3c78-4ab3-bfad-c39317401877",
   "metadata": {},
   "outputs": [],
   "source": [
    "# エントリーポイントに入力するstateを作成\n",
    "initial_state = State(query=\"親しい友人が失恋して落ち込んでいます、励ましてあげたいです\")"
   ]
  },
  {
   "cell_type": "code",
   "execution_count": 23,
   "id": "69802676-7a59-40ae-a1c4-84b3a898e036",
   "metadata": {},
   "outputs": [
    {
     "name": "stdout",
     "output_type": "stream",
     "text": [
      "友人が失恋して落ち込んでいるとき、あなたのサポートがとても大切です。以下のような方法で励ましてあげると良いでしょう。\n",
      "\n",
      "1. **話を聞く**: 友人がどんな気持ちを抱えているのか、じっくりと話を聞いてあげてください。感情を表現することは、癒しの第一歩です。\n",
      "\n",
      "2. **共感を示す**: 友人の気持ちに共感し、「それは辛いよね」といった言葉をかけることで、理解していることを伝えましょう。\n",
      "\n",
      "3. **ポジティブな面を見つける**: 失恋は辛い経験ですが、新しい出会いや成長の機会でもあります。「これから新しいことに挑戦できるかもしれないね」といった前向きな視点を提供してみてください。\n",
      "\n",
      "4. **一緒に過ごす**: 友人が気分転換できるように、一緒に映画を見たり、散歩をしたりする時間を作ると良いでしょう。気分が少しでも楽になるかもしれません。\n",
      "\n",
      "5. **時間をかけることを理解する**: 失恋から立ち直るには時間がかかることを理解し、焦らずにサポートし続ける姿勢を持ちましょう。\n",
      "\n",
      "友人に寄り添い、支えてあげることで、少しでも心の負担を軽くしてあげられると良いですね。\n"
     ]
    }
   ],
   "source": [
    "# コンパイルされたグラフを実行\n",
    "result = compiled.invoke(initial_state)\n",
    "print(result[\"messages\"][-1])"
   ]
  },
  {
   "cell_type": "code",
   "execution_count": 24,
   "id": "cc796968-1fe7-4911-9367-55cd9603fdf2",
   "metadata": {},
   "outputs": [
    {
     "data": {
      "text/plain": [
       "{'query': '親しい友人が失恋して落ち込んでいます、励ましてあげたいです',\n",
       " 'current_role': 'カウンセラー',\n",
       " 'messages': ['友人が失恋して落ち込んでいるとき、あなたのサポートがとても大切です。以下のような方法で励ましてあげると良いでしょう。\\n\\n1. **話を聞く**: 友人がどんな気持ちを抱えているのか、じっくりと話を聞いてあげてください。感情を表現することは、癒しの第一歩です。\\n\\n2. **共感を示す**: 友人の気持ちに共感し、「それは辛いよね」といった言葉をかけることで、理解していることを伝えましょう。\\n\\n3. **ポジティブな面を見つける**: 失恋は辛い経験ですが、新しい出会いや成長の機会でもあります。「これから新しいことに挑戦できるかもしれないね」といった前向きな視点を提供してみてください。\\n\\n4. **一緒に過ごす**: 友人が気分転換できるように、一緒に映画を見たり、散歩をしたりする時間を作ると良いでしょう。気分が少しでも楽になるかもしれません。\\n\\n5. **時間をかけることを理解する**: 失恋から立ち直るには時間がかかることを理解し、焦らずにサポートし続ける姿勢を持ちましょう。\\n\\n友人に寄り添い、支えてあげることで、少しでも心の負担を軽くしてあげられると良いですね。'],\n",
       " 'current_judge': True,\n",
       " 'judgement_reason': '回答は友人を励ますための具体的な方法を提供しており、感情的なサポートの重要性を強調しています。また、共感やポジティブな視点を持つこと、友人と一緒に過ごすこと、時間をかけることの理解など、実践的で思いやりのあるアドバイスが含まれています。全体的に、回答は質が高く、質問に対して適切に応じています。'}"
      ]
     },
     "execution_count": 24,
     "metadata": {},
     "output_type": "execute_result"
    }
   ],
   "source": [
    "result"
   ]
  },
  {
   "cell_type": "code",
   "execution_count": 25,
   "id": "beb5970c-00f2-4f4c-9afa-d23b18a6bc36",
   "metadata": {},
   "outputs": [
    {
     "ename": "NameError",
     "evalue": "name 'prompt' is not defined",
     "output_type": "error",
     "traceback": [
      "\u001b[1;31m---------------------------------------------------------------------------\u001b[0m",
      "\u001b[1;31mNameError\u001b[0m                                 Traceback (most recent call last)",
      "Cell \u001b[1;32mIn[25], line 1\u001b[0m\n\u001b[1;32m----> 1\u001b[0m chain \u001b[38;5;241m=\u001b[39m \u001b[43mprompt\u001b[49m \u001b[38;5;241m|\u001b[39m model \u001b[38;5;241m|\u001b[39m output_parser\n\u001b[0;32m      2\u001b[0m output \u001b[38;5;241m=\u001b[39m chain\u001b[38;5;241m.\u001b[39minvoke({\u001b[38;5;124m\"\u001b[39m\u001b[38;5;124mdish\u001b[39m\u001b[38;5;124m\"\u001b[39m: \u001b[38;5;124m\"\u001b[39m\u001b[38;5;124mカレー\u001b[39m\u001b[38;5;124m\"\u001b[39m})\n\u001b[0;32m      3\u001b[0m \u001b[38;5;28mprint\u001b[39m(output)\n",
      "\u001b[1;31mNameError\u001b[0m: name 'prompt' is not defined"
     ]
    }
   ],
   "source": [
    "chain = prompt | model | output_parser\n",
    "output = chain.invoke({\"dish\": \"カレー\"})\n",
    "print(output)"
   ]
  },
  {
   "cell_type": "markdown",
   "id": "a57b8182-1a89-43c1-ad66-2d307c39483c",
   "metadata": {},
   "source": [
    "**LCELでは各Runnable前後の型の整合性に注意！**  \n",
    "* (dict) -> prompt -> (ChatPromptValue)\n",
    "* (ChatPromptValue) -> model -> (AIMessage)\n",
    "* (AIMessage) -> output_parser -> (string)"
   ]
  },
  {
   "cell_type": "code",
   "execution_count": null,
   "id": "cb690fc9-0374-4538-9d17-372f64320040",
   "metadata": {},
   "outputs": [],
   "source": [
    "prompt = ChatPromptTemplate.from_messages(\n",
    "    [\n",
    "        (\"system\", \"You are a helpful assistant.\"),\n",
    "        (\"human\", \"{input}\"),\n",
    "    ]\n",
    ")\n",
    "\n",
    "model = ChatOpenAI(model=\"gpt-4o-mini\", temperature=0)\n",
    "\n",
    "output_parser = StrOutputParser()"
   ]
  },
  {
   "cell_type": "code",
   "execution_count": null,
   "id": "8d92983a-4431-4d1e-ba1f-659aa3d637c8",
   "metadata": {},
   "outputs": [],
   "source": [
    "# 小文字を大文字化する関数\n",
    "def upper(text: str) -> str:\n",
    "    return text.upper()"
   ]
  },
  {
   "cell_type": "code",
   "execution_count": null,
   "id": "f060501c-176a-446a-a5e2-dfa6eec74b2b",
   "metadata": {},
   "outputs": [],
   "source": [
    "# 明示的に宣言せずとも、自動的にRunnable化する\n",
    "chain = prompt | model | output_parser | upper\n",
    "output = chain.invoke({\"input\": \"Hello\"})\n",
    "print(output)"
   ]
  },
  {
   "cell_type": "markdown",
   "id": "e92b2944-9813-4cbf-b223-42ee5c2a330f",
   "metadata": {},
   "source": [
    "* (dict) -> prompt -> (ChatPromptValue)\n",
    "* (ChatPromptValue) -> model -> (AIMessage)\n",
    "* (AIMessage) -> output_parser -> (string)\n",
    "* (string) -> upper -> (string)"
   ]
  }
 ],
 "metadata": {
  "kernelspec": {
   "display_name": "Python 3 (ipykernel)",
   "language": "python",
   "name": "python3"
  },
  "language_info": {
   "codemirror_mode": {
    "name": "ipython",
    "version": 3
   },
   "file_extension": ".py",
   "mimetype": "text/x-python",
   "name": "python",
   "nbconvert_exporter": "python",
   "pygments_lexer": "ipython3",
   "version": "3.12.4"
  }
 },
 "nbformat": 4,
 "nbformat_minor": 5
}
