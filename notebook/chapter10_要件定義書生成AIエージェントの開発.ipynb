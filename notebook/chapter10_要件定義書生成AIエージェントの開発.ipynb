{
 "cells": [
  {
   "cell_type": "markdown",
   "id": "f80199b8-ba6b-4e20-aa45-77b39ab53b86",
   "metadata": {},
   "source": [
    "# 第10章 要件定義書生成AIエージェントの開発"
   ]
  },
  {
   "cell_type": "markdown",
   "id": "eb028a45-42c6-4d90-8de5-626a4270d5ee",
   "metadata": {},
   "source": [
    "## 設定"
   ]
  },
  {
   "cell_type": "code",
   "execution_count": 1,
   "id": "49db6819-05c0-4683-9c4f-1e05958c469a",
   "metadata": {},
   "outputs": [
    {
     "data": {
      "text/plain": [
       "True"
      ]
     },
     "execution_count": 1,
     "metadata": {},
     "output_type": "execute_result"
    }
   ],
   "source": [
    "import json\n",
    "import os\n",
    "import time\n",
    "\n",
    "from dotenv import load_dotenv\n",
    "dotenv_path = \"../.env\"\n",
    "load_dotenv(dotenv_path)"
   ]
  },
  {
   "cell_type": "code",
   "execution_count": 2,
   "id": "b1c19e3a-4f95-4654-b781-8f06df3fbe9b",
   "metadata": {
    "scrolled": true
   },
   "outputs": [
    {
     "name": "stdout",
     "output_type": "stream",
     "text": [
      "Requirement already satisfied: langchain-core==0.3.0 in c:\\users\\mikan\\documents\\python\\agent_book\\lib\\site-packages (0.3.0)\n",
      "Requirement already satisfied: PyYAML>=5.3 in c:\\users\\mikan\\documents\\python\\agent_book\\lib\\site-packages (from langchain-core==0.3.0) (6.0.2)\n",
      "Requirement already satisfied: jsonpatch<2.0,>=1.33 in c:\\users\\mikan\\documents\\python\\agent_book\\lib\\site-packages (from langchain-core==0.3.0) (1.33)\n",
      "Requirement already satisfied: langsmith<0.2.0,>=0.1.117 in c:\\users\\mikan\\documents\\python\\agent_book\\lib\\site-packages (from langchain-core==0.3.0) (0.1.147)\n",
      "Requirement already satisfied: packaging<25,>=23.2 in c:\\users\\mikan\\documents\\python\\agent_book\\lib\\site-packages (from langchain-core==0.3.0) (24.2)\n",
      "Requirement already satisfied: pydantic<3.0.0,>=2.7.4 in c:\\users\\mikan\\documents\\python\\agent_book\\lib\\site-packages (from langchain-core==0.3.0) (2.10.4)\n",
      "Requirement already satisfied: tenacity!=8.4.0,<9.0.0,>=8.1.0 in c:\\users\\mikan\\documents\\python\\agent_book\\lib\\site-packages (from langchain-core==0.3.0) (8.5.0)\n",
      "Requirement already satisfied: typing-extensions>=4.7 in c:\\users\\mikan\\documents\\python\\agent_book\\lib\\site-packages (from langchain-core==0.3.0) (4.12.2)\n",
      "Requirement already satisfied: jsonpointer>=1.9 in c:\\users\\mikan\\documents\\python\\agent_book\\lib\\site-packages (from jsonpatch<2.0,>=1.33->langchain-core==0.3.0) (3.0.0)\n",
      "Requirement already satisfied: httpx<1,>=0.23.0 in c:\\users\\mikan\\documents\\python\\agent_book\\lib\\site-packages (from langsmith<0.2.0,>=0.1.117->langchain-core==0.3.0) (0.28.1)\n",
      "Requirement already satisfied: orjson<4.0.0,>=3.9.14 in c:\\users\\mikan\\documents\\python\\agent_book\\lib\\site-packages (from langsmith<0.2.0,>=0.1.117->langchain-core==0.3.0) (3.10.13)\n",
      "Requirement already satisfied: requests<3,>=2 in c:\\users\\mikan\\documents\\python\\agent_book\\lib\\site-packages (from langsmith<0.2.0,>=0.1.117->langchain-core==0.3.0) (2.32.3)\n",
      "Requirement already satisfied: requests-toolbelt<2.0.0,>=1.0.0 in c:\\users\\mikan\\documents\\python\\agent_book\\lib\\site-packages (from langsmith<0.2.0,>=0.1.117->langchain-core==0.3.0) (1.0.0)\n",
      "Requirement already satisfied: annotated-types>=0.6.0 in c:\\users\\mikan\\documents\\python\\agent_book\\lib\\site-packages (from pydantic<3.0.0,>=2.7.4->langchain-core==0.3.0) (0.7.0)\n",
      "Requirement already satisfied: pydantic-core==2.27.2 in c:\\users\\mikan\\documents\\python\\agent_book\\lib\\site-packages (from pydantic<3.0.0,>=2.7.4->langchain-core==0.3.0) (2.27.2)\n",
      "Requirement already satisfied: anyio in c:\\users\\mikan\\documents\\python\\agent_book\\lib\\site-packages (from httpx<1,>=0.23.0->langsmith<0.2.0,>=0.1.117->langchain-core==0.3.0) (4.7.0)\n",
      "Requirement already satisfied: certifi in c:\\users\\mikan\\documents\\python\\agent_book\\lib\\site-packages (from httpx<1,>=0.23.0->langsmith<0.2.0,>=0.1.117->langchain-core==0.3.0) (2024.12.14)\n",
      "Requirement already satisfied: httpcore==1.* in c:\\users\\mikan\\documents\\python\\agent_book\\lib\\site-packages (from httpx<1,>=0.23.0->langsmith<0.2.0,>=0.1.117->langchain-core==0.3.0) (1.0.7)\n",
      "Requirement already satisfied: idna in c:\\users\\mikan\\documents\\python\\agent_book\\lib\\site-packages (from httpx<1,>=0.23.0->langsmith<0.2.0,>=0.1.117->langchain-core==0.3.0) (3.10)\n",
      "Requirement already satisfied: h11<0.15,>=0.13 in c:\\users\\mikan\\documents\\python\\agent_book\\lib\\site-packages (from httpcore==1.*->httpx<1,>=0.23.0->langsmith<0.2.0,>=0.1.117->langchain-core==0.3.0) (0.14.0)\n",
      "Requirement already satisfied: charset-normalizer<4,>=2 in c:\\users\\mikan\\documents\\python\\agent_book\\lib\\site-packages (from requests<3,>=2->langsmith<0.2.0,>=0.1.117->langchain-core==0.3.0) (3.4.1)\n",
      "Requirement already satisfied: urllib3<3,>=1.21.1 in c:\\users\\mikan\\documents\\python\\agent_book\\lib\\site-packages (from requests<3,>=2->langsmith<0.2.0,>=0.1.117->langchain-core==0.3.0) (2.3.0)\n",
      "Requirement already satisfied: sniffio>=1.1 in c:\\users\\mikan\\documents\\python\\agent_book\\lib\\site-packages (from anyio->httpx<1,>=0.23.0->langsmith<0.2.0,>=0.1.117->langchain-core==0.3.0) (1.3.1)\n"
     ]
    },
    {
     "name": "stderr",
     "output_type": "stream",
     "text": [
      "\n",
      "[notice] A new release of pip is available: 24.0 -> 24.3.1\n",
      "[notice] To update, run: python.exe -m pip install --upgrade pip\n"
     ]
    },
    {
     "name": "stdout",
     "output_type": "stream",
     "text": [
      "Requirement already satisfied: langchain-openai==0.2.0 in c:\\users\\mikan\\documents\\python\\agent_book\\lib\\site-packages (0.2.0)\n",
      "Requirement already satisfied: langchain-core<0.4,>=0.3 in c:\\users\\mikan\\documents\\python\\agent_book\\lib\\site-packages (from langchain-openai==0.2.0) (0.3.0)\n",
      "Requirement already satisfied: openai<2.0.0,>=1.40.0 in c:\\users\\mikan\\documents\\python\\agent_book\\lib\\site-packages (from langchain-openai==0.2.0) (1.59.3)\n",
      "Requirement already satisfied: tiktoken<1,>=0.7 in c:\\users\\mikan\\documents\\python\\agent_book\\lib\\site-packages (from langchain-openai==0.2.0) (0.8.0)\n",
      "Requirement already satisfied: PyYAML>=5.3 in c:\\users\\mikan\\documents\\python\\agent_book\\lib\\site-packages (from langchain-core<0.4,>=0.3->langchain-openai==0.2.0) (6.0.2)\n",
      "Requirement already satisfied: jsonpatch<2.0,>=1.33 in c:\\users\\mikan\\documents\\python\\agent_book\\lib\\site-packages (from langchain-core<0.4,>=0.3->langchain-openai==0.2.0) (1.33)\n",
      "Requirement already satisfied: langsmith<0.2.0,>=0.1.117 in c:\\users\\mikan\\documents\\python\\agent_book\\lib\\site-packages (from langchain-core<0.4,>=0.3->langchain-openai==0.2.0) (0.1.147)\n",
      "Requirement already satisfied: packaging<25,>=23.2 in c:\\users\\mikan\\documents\\python\\agent_book\\lib\\site-packages (from langchain-core<0.4,>=0.3->langchain-openai==0.2.0) (24.2)\n",
      "Requirement already satisfied: pydantic<3.0.0,>=2.7.4 in c:\\users\\mikan\\documents\\python\\agent_book\\lib\\site-packages (from langchain-core<0.4,>=0.3->langchain-openai==0.2.0) (2.10.4)\n",
      "Requirement already satisfied: tenacity!=8.4.0,<9.0.0,>=8.1.0 in c:\\users\\mikan\\documents\\python\\agent_book\\lib\\site-packages (from langchain-core<0.4,>=0.3->langchain-openai==0.2.0) (8.5.0)\n",
      "Requirement already satisfied: typing-extensions>=4.7 in c:\\users\\mikan\\documents\\python\\agent_book\\lib\\site-packages (from langchain-core<0.4,>=0.3->langchain-openai==0.2.0) (4.12.2)\n",
      "Requirement already satisfied: anyio<5,>=3.5.0 in c:\\users\\mikan\\documents\\python\\agent_book\\lib\\site-packages (from openai<2.0.0,>=1.40.0->langchain-openai==0.2.0) (4.7.0)\n",
      "Requirement already satisfied: distro<2,>=1.7.0 in c:\\users\\mikan\\documents\\python\\agent_book\\lib\\site-packages (from openai<2.0.0,>=1.40.0->langchain-openai==0.2.0) (1.9.0)\n",
      "Requirement already satisfied: httpx<1,>=0.23.0 in c:\\users\\mikan\\documents\\python\\agent_book\\lib\\site-packages (from openai<2.0.0,>=1.40.0->langchain-openai==0.2.0) (0.28.1)\n",
      "Requirement already satisfied: jiter<1,>=0.4.0 in c:\\users\\mikan\\documents\\python\\agent_book\\lib\\site-packages (from openai<2.0.0,>=1.40.0->langchain-openai==0.2.0) (0.8.2)\n",
      "Requirement already satisfied: sniffio in c:\\users\\mikan\\documents\\python\\agent_book\\lib\\site-packages (from openai<2.0.0,>=1.40.0->langchain-openai==0.2.0) (1.3.1)\n",
      "Requirement already satisfied: tqdm>4 in c:\\users\\mikan\\documents\\python\\agent_book\\lib\\site-packages (from openai<2.0.0,>=1.40.0->langchain-openai==0.2.0) (4.67.1)\n",
      "Requirement already satisfied: regex>=2022.1.18 in c:\\users\\mikan\\documents\\python\\agent_book\\lib\\site-packages (from tiktoken<1,>=0.7->langchain-openai==0.2.0) (2024.11.6)\n",
      "Requirement already satisfied: requests>=2.26.0 in c:\\users\\mikan\\documents\\python\\agent_book\\lib\\site-packages (from tiktoken<1,>=0.7->langchain-openai==0.2.0) (2.32.3)\n",
      "Requirement already satisfied: idna>=2.8 in c:\\users\\mikan\\documents\\python\\agent_book\\lib\\site-packages (from anyio<5,>=3.5.0->openai<2.0.0,>=1.40.0->langchain-openai==0.2.0) (3.10)\n",
      "Requirement already satisfied: certifi in c:\\users\\mikan\\documents\\python\\agent_book\\lib\\site-packages (from httpx<1,>=0.23.0->openai<2.0.0,>=1.40.0->langchain-openai==0.2.0) (2024.12.14)\n",
      "Requirement already satisfied: httpcore==1.* in c:\\users\\mikan\\documents\\python\\agent_book\\lib\\site-packages (from httpx<1,>=0.23.0->openai<2.0.0,>=1.40.0->langchain-openai==0.2.0) (1.0.7)\n",
      "Requirement already satisfied: h11<0.15,>=0.13 in c:\\users\\mikan\\documents\\python\\agent_book\\lib\\site-packages (from httpcore==1.*->httpx<1,>=0.23.0->openai<2.0.0,>=1.40.0->langchain-openai==0.2.0) (0.14.0)\n",
      "Requirement already satisfied: jsonpointer>=1.9 in c:\\users\\mikan\\documents\\python\\agent_book\\lib\\site-packages (from jsonpatch<2.0,>=1.33->langchain-core<0.4,>=0.3->langchain-openai==0.2.0) (3.0.0)\n",
      "Requirement already satisfied: orjson<4.0.0,>=3.9.14 in c:\\users\\mikan\\documents\\python\\agent_book\\lib\\site-packages (from langsmith<0.2.0,>=0.1.117->langchain-core<0.4,>=0.3->langchain-openai==0.2.0) (3.10.13)\n",
      "Requirement already satisfied: requests-toolbelt<2.0.0,>=1.0.0 in c:\\users\\mikan\\documents\\python\\agent_book\\lib\\site-packages (from langsmith<0.2.0,>=0.1.117->langchain-core<0.4,>=0.3->langchain-openai==0.2.0) (1.0.0)\n",
      "Requirement already satisfied: annotated-types>=0.6.0 in c:\\users\\mikan\\documents\\python\\agent_book\\lib\\site-packages (from pydantic<3.0.0,>=2.7.4->langchain-core<0.4,>=0.3->langchain-openai==0.2.0) (0.7.0)\n",
      "Requirement already satisfied: pydantic-core==2.27.2 in c:\\users\\mikan\\documents\\python\\agent_book\\lib\\site-packages (from pydantic<3.0.0,>=2.7.4->langchain-core<0.4,>=0.3->langchain-openai==0.2.0) (2.27.2)\n",
      "Requirement already satisfied: charset-normalizer<4,>=2 in c:\\users\\mikan\\documents\\python\\agent_book\\lib\\site-packages (from requests>=2.26.0->tiktoken<1,>=0.7->langchain-openai==0.2.0) (3.4.1)\n",
      "Requirement already satisfied: urllib3<3,>=1.21.1 in c:\\users\\mikan\\documents\\python\\agent_book\\lib\\site-packages (from requests>=2.26.0->tiktoken<1,>=0.7->langchain-openai==0.2.0) (2.3.0)\n",
      "Requirement already satisfied: colorama in c:\\users\\mikan\\documents\\python\\agent_book\\lib\\site-packages (from tqdm>4->openai<2.0.0,>=1.40.0->langchain-openai==0.2.0) (0.4.6)\n"
     ]
    },
    {
     "name": "stderr",
     "output_type": "stream",
     "text": [
      "\n",
      "[notice] A new release of pip is available: 24.0 -> 24.3.1\n",
      "[notice] To update, run: python.exe -m pip install --upgrade pip\n"
     ]
    },
    {
     "name": "stdout",
     "output_type": "stream",
     "text": [
      "Requirement already satisfied: langgraph==0.2.22 in c:\\users\\mikan\\documents\\python\\agent_book\\lib\\site-packages (0.2.22)\n",
      "Requirement already satisfied: langchain-core<0.4,>=0.2.39 in c:\\users\\mikan\\documents\\python\\agent_book\\lib\\site-packages (from langgraph==0.2.22) (0.3.0)\n",
      "Requirement already satisfied: langgraph-checkpoint<2.0.0,>=1.0.2 in c:\\users\\mikan\\documents\\python\\agent_book\\lib\\site-packages (from langgraph==0.2.22) (1.0.12)\n",
      "Requirement already satisfied: PyYAML>=5.3 in c:\\users\\mikan\\documents\\python\\agent_book\\lib\\site-packages (from langchain-core<0.4,>=0.2.39->langgraph==0.2.22) (6.0.2)\n",
      "Requirement already satisfied: jsonpatch<2.0,>=1.33 in c:\\users\\mikan\\documents\\python\\agent_book\\lib\\site-packages (from langchain-core<0.4,>=0.2.39->langgraph==0.2.22) (1.33)\n",
      "Requirement already satisfied: langsmith<0.2.0,>=0.1.117 in c:\\users\\mikan\\documents\\python\\agent_book\\lib\\site-packages (from langchain-core<0.4,>=0.2.39->langgraph==0.2.22) (0.1.147)\n",
      "Requirement already satisfied: packaging<25,>=23.2 in c:\\users\\mikan\\documents\\python\\agent_book\\lib\\site-packages (from langchain-core<0.4,>=0.2.39->langgraph==0.2.22) (24.2)\n",
      "Requirement already satisfied: pydantic<3.0.0,>=2.7.4 in c:\\users\\mikan\\documents\\python\\agent_book\\lib\\site-packages (from langchain-core<0.4,>=0.2.39->langgraph==0.2.22) (2.10.4)\n",
      "Requirement already satisfied: tenacity!=8.4.0,<9.0.0,>=8.1.0 in c:\\users\\mikan\\documents\\python\\agent_book\\lib\\site-packages (from langchain-core<0.4,>=0.2.39->langgraph==0.2.22) (8.5.0)\n",
      "Requirement already satisfied: typing-extensions>=4.7 in c:\\users\\mikan\\documents\\python\\agent_book\\lib\\site-packages (from langchain-core<0.4,>=0.2.39->langgraph==0.2.22) (4.12.2)\n",
      "Requirement already satisfied: msgpack<2.0.0,>=1.1.0 in c:\\users\\mikan\\documents\\python\\agent_book\\lib\\site-packages (from langgraph-checkpoint<2.0.0,>=1.0.2->langgraph==0.2.22) (1.1.0)\n",
      "Requirement already satisfied: jsonpointer>=1.9 in c:\\users\\mikan\\documents\\python\\agent_book\\lib\\site-packages (from jsonpatch<2.0,>=1.33->langchain-core<0.4,>=0.2.39->langgraph==0.2.22) (3.0.0)\n",
      "Requirement already satisfied: httpx<1,>=0.23.0 in c:\\users\\mikan\\documents\\python\\agent_book\\lib\\site-packages (from langsmith<0.2.0,>=0.1.117->langchain-core<0.4,>=0.2.39->langgraph==0.2.22) (0.28.1)\n",
      "Requirement already satisfied: orjson<4.0.0,>=3.9.14 in c:\\users\\mikan\\documents\\python\\agent_book\\lib\\site-packages (from langsmith<0.2.0,>=0.1.117->langchain-core<0.4,>=0.2.39->langgraph==0.2.22) (3.10.13)\n",
      "Requirement already satisfied: requests<3,>=2 in c:\\users\\mikan\\documents\\python\\agent_book\\lib\\site-packages (from langsmith<0.2.0,>=0.1.117->langchain-core<0.4,>=0.2.39->langgraph==0.2.22) (2.32.3)\n",
      "Requirement already satisfied: requests-toolbelt<2.0.0,>=1.0.0 in c:\\users\\mikan\\documents\\python\\agent_book\\lib\\site-packages (from langsmith<0.2.0,>=0.1.117->langchain-core<0.4,>=0.2.39->langgraph==0.2.22) (1.0.0)\n",
      "Requirement already satisfied: annotated-types>=0.6.0 in c:\\users\\mikan\\documents\\python\\agent_book\\lib\\site-packages (from pydantic<3.0.0,>=2.7.4->langchain-core<0.4,>=0.2.39->langgraph==0.2.22) (0.7.0)\n",
      "Requirement already satisfied: pydantic-core==2.27.2 in c:\\users\\mikan\\documents\\python\\agent_book\\lib\\site-packages (from pydantic<3.0.0,>=2.7.4->langchain-core<0.4,>=0.2.39->langgraph==0.2.22) (2.27.2)\n",
      "Requirement already satisfied: anyio in c:\\users\\mikan\\documents\\python\\agent_book\\lib\\site-packages (from httpx<1,>=0.23.0->langsmith<0.2.0,>=0.1.117->langchain-core<0.4,>=0.2.39->langgraph==0.2.22) (4.7.0)\n",
      "Requirement already satisfied: certifi in c:\\users\\mikan\\documents\\python\\agent_book\\lib\\site-packages (from httpx<1,>=0.23.0->langsmith<0.2.0,>=0.1.117->langchain-core<0.4,>=0.2.39->langgraph==0.2.22) (2024.12.14)\n",
      "Requirement already satisfied: httpcore==1.* in c:\\users\\mikan\\documents\\python\\agent_book\\lib\\site-packages (from httpx<1,>=0.23.0->langsmith<0.2.0,>=0.1.117->langchain-core<0.4,>=0.2.39->langgraph==0.2.22) (1.0.7)\n",
      "Requirement already satisfied: idna in c:\\users\\mikan\\documents\\python\\agent_book\\lib\\site-packages (from httpx<1,>=0.23.0->langsmith<0.2.0,>=0.1.117->langchain-core<0.4,>=0.2.39->langgraph==0.2.22) (3.10)\n",
      "Requirement already satisfied: h11<0.15,>=0.13 in c:\\users\\mikan\\documents\\python\\agent_book\\lib\\site-packages (from httpcore==1.*->httpx<1,>=0.23.0->langsmith<0.2.0,>=0.1.117->langchain-core<0.4,>=0.2.39->langgraph==0.2.22) (0.14.0)\n",
      "Requirement already satisfied: charset-normalizer<4,>=2 in c:\\users\\mikan\\documents\\python\\agent_book\\lib\\site-packages (from requests<3,>=2->langsmith<0.2.0,>=0.1.117->langchain-core<0.4,>=0.2.39->langgraph==0.2.22) (3.4.1)\n",
      "Requirement already satisfied: urllib3<3,>=1.21.1 in c:\\users\\mikan\\documents\\python\\agent_book\\lib\\site-packages (from requests<3,>=2->langsmith<0.2.0,>=0.1.117->langchain-core<0.4,>=0.2.39->langgraph==0.2.22) (2.3.0)\n",
      "Requirement already satisfied: sniffio>=1.1 in c:\\users\\mikan\\documents\\python\\agent_book\\lib\\site-packages (from anyio->httpx<1,>=0.23.0->langsmith<0.2.0,>=0.1.117->langchain-core<0.4,>=0.2.39->langgraph==0.2.22) (1.3.1)\n"
     ]
    },
    {
     "name": "stderr",
     "output_type": "stream",
     "text": [
      "\n",
      "[notice] A new release of pip is available: 24.0 -> 24.3.1\n",
      "[notice] To update, run: python.exe -m pip install --upgrade pip\n"
     ]
    },
    {
     "name": "stdout",
     "output_type": "stream",
     "text": [
      "Requirement already satisfied: grandalf in c:\\users\\mikan\\documents\\python\\agent_book\\lib\\site-packages (0.8)\n",
      "Requirement already satisfied: pyparsing in c:\\users\\mikan\\documents\\python\\agent_book\\lib\\site-packages (from grandalf) (3.2.1)\n"
     ]
    },
    {
     "name": "stderr",
     "output_type": "stream",
     "text": [
      "\n",
      "[notice] A new release of pip is available: 24.0 -> 24.3.1\n",
      "[notice] To update, run: python.exe -m pip install --upgrade pip\n"
     ]
    }
   ],
   "source": [
    "!pip install langchain-core==0.3.0\n",
    "!pip install langchain-openai==0.2.0\n",
    "!pip install langgraph==0.2.22\n",
    "!pip install grandalf"
   ]
  },
  {
   "cell_type": "markdown",
   "id": "ca46ca79-32d9-4651-9863-b352ba4cef8e",
   "metadata": {},
   "source": [
    "## データ構造定義"
   ]
  },
  {
   "cell_type": "code",
   "execution_count": 3,
   "id": "1a0435be-2e12-4800-93b7-b376d94c2d5b",
   "metadata": {},
   "outputs": [
    {
     "name": "stderr",
     "output_type": "stream",
     "text": [
      "C:\\Users\\MikAn\\Documents\\Python\\agent_book\\Lib\\site-packages\\IPython\\core\\interactiveshell.py:3577: LangChainDeprecationWarning: As of langchain-core 0.3.0, LangChain uses pydantic v2 internally. The langchain_core.pydantic_v1 module was a compatibility shim for pydantic v1, and should no longer be used. Please update the code to import from Pydantic directly.\n",
      "\n",
      "For example, replace imports like: `from langchain_core.pydantic_v1 import BaseModel`\n",
      "with: `from pydantic import BaseModel`\n",
      "or the v1 compatibility namespace if you are working in a code base that has not been fully upgraded to pydantic 2 yet. \tfrom pydantic.v1 import BaseModel\n",
      "\n",
      "  exec(code_obj, self.user_global_ns, self.user_ns)\n"
     ]
    }
   ],
   "source": [
    "from langchain_core.pydantic_v1 import BaseModel, Field"
   ]
  },
  {
   "cell_type": "code",
   "execution_count": 4,
   "id": "453677e4-32fc-4e4c-880a-79e6444bbe9e",
   "metadata": {},
   "outputs": [],
   "source": [
    "# ペルソナを表すデータモデル\n",
    "class Persona(BaseModel):\n",
    "    name: str = Field(\n",
    "        ...,\n",
    "        description=\"ペルソナの名前\",\n",
    "    )\n",
    "    background: str = Field(\n",
    "        ...,\n",
    "        description=\"ペルソナの持つ背景\",\n",
    "    )"
   ]
  },
  {
   "cell_type": "code",
   "execution_count": 5,
   "id": "7aaabc0b-2d6a-413d-89f5-98cde3fac2e4",
   "metadata": {},
   "outputs": [],
   "source": [
    "# ペルソナのリストを表すデータモデル\n",
    "class Personas(BaseModel):\n",
    "    personas: list[Persona] = Field(\n",
    "        default_factory=list, # Listをフィールドに定義するときに必要\n",
    "        description=\"ペルソナのリスト\",\n",
    "    )"
   ]
  },
  {
   "cell_type": "code",
   "execution_count": 6,
   "id": "ab3e17e6-2c6d-4683-8115-83c77f0d5636",
   "metadata": {},
   "outputs": [],
   "source": [
    "# インタビュー内容を表すデータモデル\n",
    "class Interview(BaseModel):\n",
    "    persona: Persona = Field(\n",
    "        ...,\n",
    "        description=\"インタビュー対象のペルソナ\",\n",
    "    )\n",
    "    question: str = Field(\n",
    "        ...,\n",
    "        description=\"インタビューでの質問\"\n",
    "    )\n",
    "    answer: str = Field(\n",
    "        ...,\n",
    "        description=\"インタビューの回答\"\n",
    "    )"
   ]
  },
  {
   "cell_type": "code",
   "execution_count": 7,
   "id": "aeda223f-4b72-46e1-90ad-937f480a2d86",
   "metadata": {},
   "outputs": [],
   "source": [
    "# インタビュー結果のリストを表すデータモデル\n",
    "class InterviewResult(BaseModel):\n",
    "    interviews: list[Interview] = Field(\n",
    "        default_factory=list,\n",
    "        description=\"インタビュー結果のリスト\",\n",
    "    )"
   ]
  },
  {
   "cell_type": "code",
   "execution_count": 8,
   "id": "726434a5-be18-4dd6-8c53-5f892caa7f9e",
   "metadata": {},
   "outputs": [],
   "source": [
    "# インタビュー結果の評価を表すデータモデル\n",
    "class EvaluationResult(BaseModel):\n",
    "    reason: str = Field(\n",
    "        ...,\n",
    "        description=\"判断の理由\",\n",
    "    )\n",
    "    is_sufficient: bool = Field(\n",
    "        ...,\n",
    "        description=\"情報が十分に足りているか\",\n",
    "    )"
   ]
  },
  {
   "cell_type": "markdown",
   "id": "f315a51d-72b0-4482-8fb1-d817ad9c6809",
   "metadata": {},
   "source": [
    "## stateの定義"
   ]
  },
  {
   "cell_type": "code",
   "execution_count": 9,
   "id": "9696dbb0-afa4-4949-8b4c-5ec8b86641ac",
   "metadata": {},
   "outputs": [],
   "source": [
    "import operator\n",
    "from typing import Annotated"
   ]
  },
  {
   "cell_type": "code",
   "execution_count": 10,
   "id": "1525a111-6ac5-45d6-af93-2c6dbe3f3c3b",
   "metadata": {},
   "outputs": [],
   "source": [
    "class InterviewState(BaseModel):\n",
    "    user_request: str = Field(\n",
    "        ...,\n",
    "        description=\"ユーザからのリクエスト\",\n",
    "    )\n",
    "    personas: Annotated[list[Persona], operator.add] = Field(\n",
    "        default=[],\n",
    "        description=\"生成されたペルソナのリスト\",\n",
    "    )\n",
    "    interviews: Annotated[list[Interview], operator.add] = Field(\n",
    "        default=[],\n",
    "        description=\"実施されたインタビュー結果のリスト\",\n",
    "    )\n",
    "    requirements_doc: str = Field(\n",
    "        default=\"\",\n",
    "        description=\"生成された要件定義\",\n",
    "    )\n",
    "    iteration: int = Field(\n",
    "        default=0,\n",
    "        description=\"ペルソナ生成とインタビューの反復回数\",\n",
    "    )\n",
    "    is_information_sufficient: bool = Field(\n",
    "        default=False,\n",
    "        description=\"情報が十分に足りているか\",\n",
    "    )\n",
    "    evaluation_reason: str =Field(\n",
    "        default=\"\",\n",
    "        description=\"情報が十分に足りているか判断した理由\"\n",
    "    )"
   ]
  },
  {
   "cell_type": "markdown",
   "id": "6fb615ab-f72c-420d-be71-fa773a807f81",
   "metadata": {},
   "source": [
    "## nodeの実処理定義"
   ]
  },
  {
   "cell_type": "code",
   "execution_count": 11,
   "id": "fbb7fa54-df6b-4b07-b5d5-48644892041c",
   "metadata": {},
   "outputs": [],
   "source": [
    "from langchain_openai import ChatOpenAI\n",
    "from langchain_core.prompts import ChatPromptTemplate\n",
    "from langchain_core.output_parsers import StrOutputParser"
   ]
  },
  {
   "cell_type": "code",
   "execution_count": 12,
   "id": "604146ac-9f87-42b7-aeb9-47e2b1556653",
   "metadata": {},
   "outputs": [],
   "source": [
    "# ペルソナ生成\n",
    "class PersonaGenerator:\n",
    "    def __init__(self, model: ChatOpenAI, k: int = 5):\n",
    "        self.model = model.with_structured_output(Personas)\n",
    "        self.k = k\n",
    "\n",
    "    def run(self, user_request: str) -> Personas:\n",
    "        prompt = ChatPromptTemplate.from_messages(\n",
    "            [\n",
    "                (\n",
    "                    \"system\",\n",
    "                    \"あなたはユーザインタビュー用の多様なペルソナを作成する専門家です。\",\n",
    "                ),\n",
    "                (\n",
    "                    \"human\",\n",
    "                    \"以下のユーザリクエストに関するインタビュー用に、{k}任の多様なペルソナを生成してください。\\n\\n\"\n",
    "                    \"ユーザリクエスト: {user_request}\\n\\n\"\n",
    "                    \"各ペルソナには名前と簡単な背景を含めてください。\\n\"\n",
    "                    \"年齢、性別、職業において多様性を確保してください。\"\n",
    "                ),\n",
    "            ]\n",
    "        )\n",
    "        chain = prompt | self.model\n",
    "        personas = chain.invoke({\"k\": self.k, \"user_request\": user_request})\n",
    "\n",
    "        return personas"
   ]
  },
  {
   "cell_type": "code",
   "execution_count": 13,
   "id": "50ffe7d1-63bb-4bd6-83c2-2791ca2c1143",
   "metadata": {},
   "outputs": [],
   "source": [
    "# インタビュー実施\n",
    "class InterviewConductor:\n",
    "    def __init__(self, model: ChatOpenAI):\n",
    "        self.model = model\n",
    "\n",
    "    def run(self, user_request: str, personas: list[Persona]) -> InterviewResult:\n",
    "        list_interview = []\n",
    "        for p in personas:\n",
    "            # 質問作成\n",
    "            question = self._generate_question(user_request, p)\n",
    "\n",
    "            # 回答作成\n",
    "            answer = self._generate_answer(user_request, p, question)\n",
    "\n",
    "            # インタビュー結果作成\n",
    "            interview = Interview(persona=p, question=question, answer=answer)\n",
    "            list_interview.append(interview)\n",
    "\n",
    "        interview_result = InterviewResult(interviews = list_interview)\n",
    "\n",
    "        return interview_result\n",
    "            \n",
    "\n",
    "    # 質問作成\n",
    "    def _generate_question(self, user_request: str, persona: Persona) -> str:\n",
    "        prompt = ChatPromptTemplate.from_messages(\n",
    "            [\n",
    "                (\n",
    "                    \"system\",\n",
    "                    \"あなたはユーザ要件に基づいて、適切な質問を生成する専門家です。\",\n",
    "                ),\n",
    "                (\n",
    "                    \"human\",\n",
    "                    \"以下のペルソナに関連するユーザリクエストについて、1つの質問を生成してください。\\n\"\n",
    "                    \"質問は具体的で、ペルソナの視点から重要な情報を引き出すように設計してください。\\n\\n\"\n",
    "                    \"ユーザリクエスト: {user_request}\\n\"\n",
    "                    \"ペルソナ: {persona_name} - {persona_background}\"\n",
    "                ),\n",
    "                    \n",
    "            ]\n",
    "        )\n",
    "        chain = prompt | self.model | StrOutputParser()\n",
    "        question = chain.invoke({\n",
    "            \"user_request\": user_request,\n",
    "            \"persona_name\": persona.name,\n",
    "            \"persona_background\": persona.background,\n",
    "        })\n",
    "\n",
    "        return question\n",
    "\n",
    "    # 回答作成\n",
    "    def _generate_answer(self, user_request: str, persona: Persona, question: str) -> str:\n",
    "        prompt = ChatPromptTemplate.from_messages(\n",
    "            [\n",
    "                (\n",
    "                    \"system\",\n",
    "                    \"あなたは以下のペルソナとして回答しています: {persona_name} - {persona_background}\",\n",
    "                ),\n",
    "                (\n",
    "                    \"human\",\n",
    "                    \"質問: {question}\",\n",
    "                ),    \n",
    "            ]\n",
    "        )\n",
    "        chain = prompt | self.model | StrOutputParser()\n",
    "        answer = chain.invoke({\n",
    "            \"persona_name\": persona.name,\n",
    "            \"persona_background\": persona.background,\n",
    "            \"question\": question,\n",
    "        })\n",
    "\n",
    "        return answer"
   ]
  },
  {
   "cell_type": "code",
   "execution_count": 14,
   "id": "988fa3a5-7976-400d-9708-9b046dc45603",
   "metadata": {},
   "outputs": [],
   "source": [
    "# 情報が十分に足りているか判断\n",
    "class InformationEvaluator:\n",
    "    def __init__(self, model: ChatOpenAI):\n",
    "        self.model = model.with_structured_output(EvaluationResult)\n",
    "\n",
    "    def run(self, user_request: str, interviews: list[Interview]) -> EvaluationResult:\n",
    "        prompt = ChatPromptTemplate.from_messages(\n",
    "            [\n",
    "                (\n",
    "                    \"system\",\n",
    "                    \"あなたは包括的な要件文書を作成するための情報の十分性を評価する専門家です。\",\n",
    "                ),\n",
    "                (\n",
    "                    \"human\",\n",
    "                    \"以下のユーザリクエストとインタビュー結果に基づいて、\"\n",
    "                    \"包括的な要件文書を作成するのに十分な情報が集まったかどうかを判断してください。\\n\\n\"\n",
    "                    \"ユーザリクエスト: {user_request}\\n\\n\"\n",
    "                    \"インタビュー結果: \\n{interview_results}\"\n",
    "                ),\n",
    "            ]\n",
    "        )\n",
    "        chain = prompt | self.model\n",
    "        \n",
    "        evaluation_result = chain.invoke({\n",
    "            \"user_request\": user_request,\n",
    "            \"interview_results\": \"\\n\".join(\n",
    "                f\"ペルソナ: {i.persona.name} - {i.persona.background}\\n\"\n",
    "                f\"質問: {i.question}\\n\"\n",
    "                f\"回答: {i.answer}\\n\"\n",
    "                for i in interviews\n",
    "            )\n",
    "        })\n",
    "\n",
    "        return evaluation_result"
   ]
  },
  {
   "cell_type": "code",
   "execution_count": 15,
   "id": "ab59a3c0-2bb1-4c46-95db-b7fce2133602",
   "metadata": {},
   "outputs": [],
   "source": [
    "# 要件定義書生成\n",
    "class RequirementsDocumentGenerator:\n",
    "    def __init__(self, model: ChatOpenAI):\n",
    "        self.model = model\n",
    "\n",
    "    def run(self, user_request: str, interviews: list[Interview]) -> str:\n",
    "        prompt = ChatPromptTemplate.from_messages(\n",
    "            [\n",
    "                (\n",
    "                    \"system\",\n",
    "                    \"あなたは収集した情報に基づいて要件文書を作成する専門家です。\",\n",
    "                ),\n",
    "                (\n",
    "                    \"human\",\n",
    "                    \"以下のユーザリクエストと複数のペルソナからのインタビュー結果に基づいて、要件文書を作成してください\\n\"\n",
    "                    \"要件文書には以下のセクションを含めてください:\\n\"\n",
    "                    \"1. プロジェクト概要\\n\"\n",
    "                    \"2. 主要機能\\n\"\n",
    "                    \"3. 非機能要件\\n\"\n",
    "                    \"4. ターゲットユーザ\\n\"\n",
    "                    \"5. リスト区と軽減策\\n\\n\"\n",
    "                    \"ユーザリクエスト: {user_request}\\n\\n\"\n",
    "                    \"インタビュー結果: \\n{interview_results}\\n\\n\"\n",
    "                    \"要件定義書:\",\n",
    "                ),\n",
    "            ]\n",
    "        )\n",
    "        chain = prompt | self.model | StrOutputParser()\n",
    "        \n",
    "        requirements_doc = chain.invoke({\n",
    "            \"user_request\": user_request,\n",
    "            \"interview_results\": \"\\n\".join(\n",
    "                f\"ペルソナ: {i.persona.name} - {i.persona.background}\\n\"\n",
    "                f\"質問: {i.question}\\n\"\n",
    "                f\"回答: {i.answer}\\n\"\n",
    "                for i in interviews\n",
    "            )\n",
    "        })\n",
    "\n",
    "        return requirements_doc"
   ]
  },
  {
   "cell_type": "markdown",
   "id": "2bf97919-cf02-45ee-adff-5448cd6ba35d",
   "metadata": {},
   "source": [
    "## graphの定義"
   ]
  },
  {
   "cell_type": "code",
   "execution_count": 16,
   "id": "d3940de4-3c15-43c1-ad91-a27a57ba45cd",
   "metadata": {},
   "outputs": [],
   "source": [
    "from langgraph.graph import END, StateGraph\n",
    "from typing import Any"
   ]
  },
  {
   "cell_type": "code",
   "execution_count": 17,
   "id": "038186bb-f08e-414e-95c7-52e543bdeaa3",
   "metadata": {},
   "outputs": [],
   "source": [
    "class DocumentationAgent:\n",
    "    def __init__(self, model: ChatOpenAI, k: int = None):\n",
    "        # nodeの実処理を定義したインスタンスを初期化\n",
    "        self.persona_generator = PersonaGenerator(model=model, k=k)\n",
    "        self.interview_conductor = InterviewConductor(model=model)\n",
    "        self.information_evaluator = InformationEvaluator(model=model)\n",
    "        self.requirements_generator = RequirementsDocumentGenerator(model=model)\n",
    "\n",
    "        self.graph = self._create_graph()\n",
    "\n",
    "    def run(self, user_request: str) -> str:\n",
    "        # 初期state\n",
    "        initial_state = InterviewState(user_request=user_request)\n",
    "\n",
    "        # グラフ実行\n",
    "        final_state = self.graph.invoke(initial_state)\n",
    "\n",
    "        return final_state\n",
    "\n",
    "    # nodeを定義\n",
    "    def _generate_personas_node(self, state: InterviewState) -> dict[str, Any]:\n",
    "        user_request = state.user_request\n",
    "        iteration = state.iteration\n",
    "    \n",
    "        personas = self.persona_generator.run(user_request)\n",
    "        iteration += 1\n",
    "\n",
    "        return {\n",
    "            \"personas\": personas.personas,\n",
    "            \"iteration\": iteration,\n",
    "        }\n",
    "\n",
    "    def _conduct_interview_node(self, state: InterviewState) -> dict[str, Any]:\n",
    "        user_request = state.user_request\n",
    "        personas = state.personas[-5:] # 本来はkで動的に値を変えるべき\n",
    "    \n",
    "        interview_rusult = self.interview_conductor.run(user_request, personas)\n",
    "\n",
    "        return {\n",
    "            \"interviews\": interview_rusult.interviews\n",
    "        }\n",
    "\n",
    "    def _evaluate_information_node(self, state: InterviewState) -> dict[str, Any]:\n",
    "        user_request = state.user_request\n",
    "        interviews = state.interviews[-5:] # 本来はkで動的に値を変えるべき\n",
    "    \n",
    "        evaluation_result = self.information_evaluator.run(user_request, interviews)\n",
    "\n",
    "        return {\n",
    "            \"is_information_sufficient\": evaluation_result.is_sufficient,\n",
    "            \"evaluation_reason\": evaluation_result.reason,\n",
    "        }\n",
    "\n",
    "    def _generate_requirements_node(self, state: InterviewState) -> dict[str, Any]:\n",
    "        user_request = state.user_request\n",
    "        interviews = state.interviews[-5:] # 本来はkで動的に値を変えるべき\n",
    "    \n",
    "        requirements_doc: str = self.requirements_generator.run(user_request, interviews)\n",
    "\n",
    "        return {\n",
    "            \"requirements_doc\": requirements_doc,\n",
    "        }\n",
    "    \n",
    "    # graphを定義\n",
    "    def _create_graph(self) -> StateGraph:\n",
    "\n",
    "        # graphの初期化\n",
    "        workflow = StateGraph(InterviewState)\n",
    "\n",
    "        # nodeを追加\n",
    "        workflow.add_node(\"generate_personas\", self._generate_personas_node)\n",
    "        workflow.add_node(\"conduct_interview\", self._conduct_interview_node)\n",
    "        workflow.add_node(\"evaluate_information\", self._evaluate_information_node)\n",
    "        workflow.add_node(\"generate_requirements\", self._generate_requirements_node)\n",
    "        \n",
    "        # entry nodeを設定\n",
    "        workflow.set_entry_point(\"generate_personas\")\n",
    "\n",
    "        #　edgeを設定\n",
    "        workflow.add_edge(\"generate_personas\", \"conduct_interview\")\n",
    "        workflow.add_edge(\"conduct_interview\", \"evaluate_information\")\n",
    "        workflow.add_edge(\"evaluate_information\", \"generate_requirements\")\n",
    "        workflow.add_edge(\"generate_requirements\", END)\n",
    "\n",
    "        compiled = workflow.compile()\n",
    "\n",
    "        return compiled"
   ]
  },
  {
   "cell_type": "markdown",
   "id": "7d89a153-df22-4bbc-8d02-93c1634fe2e4",
   "metadata": {},
   "source": [
    "## 実行"
   ]
  },
  {
   "cell_type": "code",
   "execution_count": 18,
   "id": "d62225e8-9149-4f21-a264-dfcdc1fbb1a1",
   "metadata": {
    "scrolled": true
   },
   "outputs": [],
   "source": [
    "model = ChatOpenAI(model=\"gpt-4o-mini\", temperature=0.0)\n",
    "query = \"健康管理をするアプリを開発したい。\"\n",
    "dg = DocumentationAgent(model=model, k=5)\n",
    "state = dg.run(query)"
   ]
  },
  {
   "cell_type": "code",
   "execution_count": 19,
   "id": "a89212d4-6b8f-47f4-bb87-d0a12f3e0511",
   "metadata": {},
   "outputs": [
    {
     "data": {
      "text/plain": [
       "{'user_request': '健康管理をするアプリを開発したい。',\n",
       " 'personas': [Persona(name='佐藤健一', background='35歳の男性。IT企業でエンジニアとして働いている。健康に気を使い始めたが、忙しい仕事の合間に運動や食事管理が難しいと感じている。'),\n",
       "  Persona(name='山田美咲', background='28歳の女性。フリーランスのデザイナーで、在宅勤務が多い。健康的なライフスタイルを目指しているが、ストレスや不規則な生活が影響している。'),\n",
       "  Persona(name='鈴木太郎', background='50歳の男性。中小企業の経営者。最近健康診断で高血圧と診断され、生活習慣を見直す必要があると感じている。忙しい日々の中で簡単に健康管理ができる方法を探している。'),\n",
       "  Persona(name='田中花子', background='22歳の女性。大学生で、友人と一緒にフィットネスに通っている。健康に興味があり、アプリを使ってトレーニングや食事の記録をしたいと思っている。'),\n",
       "  Persona(name='中村健二', background='45歳の男性。公務員で、家族を持つ。健康維持のために運動を始めたいが、時間が取れずにいる。家族全員で使える健康管理アプリを求めている。')],\n",
       " 'interviews': [Interview(persona=Persona(name='佐藤健一', background='35歳の男性。IT企業でエンジニアとして働いている。健康に気を使い始めたが、忙しい仕事の合間に運動や食事管理が難しいと感じている。'), question='佐藤健一さんのような忙しいエンジニアにとって、健康管理アプリに求める最も重要な機能は何ですか？例えば、運動のスケジュール管理や食事の簡単な記録機能など、具体的にどのようなサポートがあれば日常生活に取り入れやすいと感じますか？', answer='忙しいエンジニアとして、健康管理アプリに求める最も重要な機能はいくつかありますが、特に以下の点が重要だと感じます。\\n\\n1. **簡単な食事記録機能**: 食事を記録するのが手間にならないように、バーコードスキャンやお気に入りの食事を登録できる機能があると便利です。忙しい時でもサッと記録できると続けやすいです。\\n\\n2. **運動のスケジュール管理**: 自分のスケジュールに合わせて運動を計画できる機能が必要です。リマインダー機能があれば、運動を忘れずに行えるので助かります。\\n\\n3. **短時間でできるエクササイズの提案**: 忙しい合間にできる短時間のエクササイズやストレッチの提案があると、気軽に運動を取り入れやすいです。\\n\\n4. **進捗の可視化**: 自分の健康状態や運動の進捗をグラフやチャートで視覚的に確認できる機能があると、モチベーションが上がります。\\n\\n5. **食事の栄養分析**: 食事の栄養バランスを簡単にチェックできる機能があれば、健康的な食事を意識しやすくなります。\\n\\n6. **コミュニティ機能**: 他のユーザーと情報交換や励まし合いができるコミュニティ機能があれば、孤独感を感じずに健康管理を続けられます。\\n\\nこれらの機能があれば、忙しい日常の中でも健康管理を取り入れやすくなると思います。'),\n",
       "  Interview(persona=Persona(name='山田美咲', background='28歳の女性。フリーランスのデザイナーで、在宅勤務が多い。健康的なライフスタイルを目指しているが、ストレスや不規則な生活が影響している。'), question='山田美咲さんが健康管理アプリに求める機能やサポートは何ですか？特に、ストレス管理や生活リズムの改善に役立つ具体的な機能について教えてください。', answer='私が健康管理アプリに求める機能やサポートは、特にストレス管理や生活リズムの改善に役立つものが多いです。具体的には以下のような機能があると嬉しいです。\\n\\n1. **ストレストラッキング**: 日々のストレスレベルを記録できる機能。簡単な質問に答えることで、ストレスの原因やパターンを把握できると良いです。\\n\\n2. **マインドフルネスや瞑想のガイド**: ストレスを軽減するための瞑想や呼吸法のセッションが用意されていると、気軽にリラックスできる時間を持てます。\\n\\n3. **生活リズムの分析**: 睡眠時間や食事のタイミング、運動量を記録し、生活リズムの改善点を提案してくれる機能。特に、在宅勤務が多いので、規則正しい生活をサポートしてほしいです。\\n\\n4. **リマインダー機能**: 水分補給やストレッチ、休憩を促すリマインダーがあると、つい忘れがちな健康管理を助けてくれます。\\n\\n5. **コミュニティ機能**: 他のユーザーと健康に関する情報や体験を共有できる場があると、モチベーションが上がりますし、ストレスの軽減にもつながると思います。\\n\\n6. **栄養管理**: 食事の記録や栄養バランスのチェックができる機能。健康的な食生活を送るためのアドバイスがもらえると助かります。\\n\\n7. **フィードバック機能**: 自分の健康データに基づいて、定期的にフィードバックやアドバイスをもらえると、改善のための具体的な行動が取りやすくなります。\\n\\nこれらの機能があれば、ストレス管理や生活リズムの改善に役立ち、より健康的なライフスタイルを実現できると思います。'),\n",
       "  Interview(persona=Persona(name='鈴木太郎', background='50歳の男性。中小企業の経営者。最近健康診断で高血圧と診断され、生活習慣を見直す必要があると感じている。忙しい日々の中で簡単に健康管理ができる方法を探している。'), question='鈴木太郎さんが忙しい日々の中で簡単に健康管理を行うために、どのような機能やサポートがあれば、日常生活に取り入れやすいと感じますか？', answer='鈴木太郎です。忙しい日々の中で健康管理を行うためには、以下のような機能やサポートがあれば、日常生活に取り入れやすいと感じます。\\n\\n1. **簡単な健康管理アプリ**: スマートフォンで使えるアプリがあれば、血圧や体重、食事内容を簡単に記録できると便利です。リマインダー機能があれば、定期的に測定を促してくれると助かります。\\n\\n2. **食事の提案**: 健康的な食事メニューやレシピを提案してくれるサービスがあれば、忙しい中でも簡単に栄養バランスを考えた食事を作ることができます。\\n\\n3. **運動プランの提供**: 短時間でできる運動やストレッチのプランを提供してくれるサービスがあれば、仕事の合間に取り入れやすいです。特に、オフィスでできる簡単なエクササイズがあれば嬉しいです。\\n\\n4. **健康相談窓口**: 専門家に気軽に相談できる窓口があれば、具体的なアドバイスをもらえるので心強いです。オンラインでの相談ができると、時間を有効に使えます。\\n\\n5. **進捗の可視化**: 健康状態の変化をグラフやチャートで可視化してくれる機能があれば、自分の努力が目に見える形で確認でき、モチベーションが上がります。\\n\\n6. **ストレス管理**: 瞑想やリラクゼーションの方法を提案してくれる機能があれば、忙しい日々の中で心の健康も保ちやすくなります。\\n\\nこれらのサポートがあれば、忙しい中でも健康管理を続けやすくなると思います。'),\n",
       "  Interview(persona=Persona(name='田中花子', background='22歳の女性。大学生で、友人と一緒にフィットネスに通っている。健康に興味があり、アプリを使ってトレーニングや食事の記録をしたいと思っている。'), question='田中花子さんが健康管理アプリに求める機能として、トレーニングや食事の記録以外に、友人と共有できるコミュニティ機能や、モチベーションを維持するためのリマインダー機能はどのように活用したいですか？', answer='田中花子です！健康管理アプリに求める機能として、コミュニティ機能やリマインダー機能はとても重要だと思います。\\n\\nまず、**コミュニティ機能**についてですが、友人と一緒にフィットネスに通っているので、アプリ内でお互いの進捗を共有したり、励まし合ったりできるのが嬉しいです。例えば、トレーニングの成果や食事の記録を投稿して、友人からのコメントや「いいね」をもらうことで、モチベーションが上がります。また、同じ目標を持つ人たちとつながることで、新しいトレーニング方法やレシピを知ることができるのも楽しみです。\\n\\n次に、**リマインダー機能**についてですが、忙しい大学生活の中でトレーニングや食事の管理を続けるのは大変なので、定期的にリマインダーが来ると助かります。例えば、トレーニングの時間や食事の時間を設定しておくことで、忘れずに実行できるし、友人と一緒にトレーニングする約束をリマインドしてもらえると、より続けやすくなります。また、達成した目標に対してお祝いのメッセージが届くと、さらにやる気が出ると思います。\\n\\nこのように、コミュニティ機能やリマインダー機能を活用することで、健康管理がより楽しく、続けやすくなると思います！'),\n",
       "  Interview(persona=Persona(name='中村健二', background='45歳の男性。公務員で、家族を持つ。健康維持のために運動を始めたいが、時間が取れずにいる。家族全員で使える健康管理アプリを求めている。'), question='中村健二さんが家族全員で使える健康管理アプリに求める機能や特徴は何ですか？特に、運動の時間が限られている中で、どのようなサポートやリマインダーがあれば、より効果的に健康管理ができると感じますか？', answer='中村健二です。家族全員で使える健康管理アプリに求める機能や特徴についてお話ししますね。\\n\\n1. **家族アカウントの共有**: 家族全員がそれぞれのアカウントを持ち、進捗や目標を共有できる機能が重要です。これにより、互いに励まし合いながら健康管理ができます。\\n\\n2. **運動のリマインダー**: 忙しい日常の中で運動を忘れがちなので、定期的に運動のリマインダーを設定できる機能が欲しいです。特に、家族全員のスケジュールに合わせたリマインダーがあれば、みんなで一緒に運動する時間を作りやすくなります。\\n\\n3. **短時間でできるエクササイズの提案**: 時間が限られている中で、短時間で効果的なエクササイズを提案してくれる機能があれば助かります。例えば、10分間のストレッチや筋トレなど、家族全員が参加できる内容が理想です。\\n\\n4. **健康目標の設定と進捗管理**: 家族全員がそれぞれの健康目標を設定し、進捗を可視化できる機能があれば、モチベーションを維持しやすいです。例えば、歩数や運動時間を記録し、達成度をグラフで表示するなど。\\n\\n5. **食事管理機能**: 健康的な食事を意識するために、食事の記録や栄養素の分析ができる機能も重要です。家族全員の食事を一緒に管理できると、健康的な食生活を促進できます。\\n\\n6. **家族チャレンジ機能**: 家族で参加できる健康チャレンジやコンペティションがあれば、楽しみながら健康管理ができると思います。例えば、月間の歩数を競ったり、運動時間を記録してポイントを獲得するなど。\\n\\nこれらの機能があれば、限られた時間の中でも家族全員で楽しく健康管理ができると思います。健康は家族全員で支え合うことが大切ですからね。')],\n",
       " 'requirements_doc': '# 要件定義書\\n\\n## 1. プロジェクト概要\\n本プロジェクトは、忙しい日常の中で健康管理を行うためのアプリケーションを開発することを目的としています。ユーザーが簡単に食事や運動を記録し、健康状態を管理できる機能を提供することで、健康的なライフスタイルを促進します。ターゲットユーザーは、忙しいビジネスパーソン、在宅勤務者、家族全員で利用できる機能を求めるユーザーなど多岐にわたります。\\n\\n## 2. 主要機能\\n1. **食事記録機能**\\n   - バーコードスキャンによる簡単な食事記録\\n   - お気に入りの食事登録機能\\n   - 栄養分析機能\\n\\n2. **運動管理機能**\\n   - 運動スケジュール管理\\n   - 短時間でできるエクササイズの提案\\n   - リマインダー機能\\n\\n3. **ストレス管理機能**\\n   - ストレストラッキング機能\\n   - マインドフルネスや瞑想のガイド\\n\\n4. **進捗の可視化**\\n   - 健康状態や運動の進捗をグラフやチャートで表示\\n\\n5. **コミュニティ機能**\\n   - 他のユーザーとの情報交換や励まし合いの場を提供\\n\\n6. **家族アカウントの共有**\\n   - 家族全員がそれぞれのアカウントを持ち、進捗や目標を共有できる機能\\n\\n7. **健康相談窓口**\\n   - 専門家に気軽に相談できるオンライン窓口\\n\\n8. **フィードバック機能**\\n   - 健康データに基づく定期的なフィードバックやアドバイス\\n\\n## 3. 非機能要件\\n1. **ユーザビリティ**\\n   - 直感的で使いやすいインターフェース\\n   - スマートフォンおよびタブレットに対応\\n\\n2. **パフォーマンス**\\n   - アプリの起動時間は3秒以内\\n   - データの同期はリアルタイムで行う\\n\\n3. **セキュリティ**\\n   - ユーザーデータの暗号化\\n   - プライバシーポリシーの遵守\\n\\n4. **互換性**\\n   - iOSおよびAndroidプラットフォームに対応\\n\\n5. **スケーラビリティ**\\n   - ユーザー数の増加に対応できるアーキテクチャ\\n\\n## 4. ターゲットユーザ\\n- **佐藤健一**: 35歳男性、IT企業のエンジニア。忙しい日常の中で健康管理を行いたい。\\n- **山田美咲**: 28歳女性、フリーランスのデザイナー。ストレス管理や生活リズムの改善を求めている。\\n- **鈴木太郎**: 50歳男性、中小企業の経営者。高血圧の改善を目指している。\\n- **田中花子**: 22歳女性、大学生。友人と一緒にフィットネスを楽しみたい。\\n- **中村健二**: 45歳男性、公務員。家族全員で健康管理を行いたい。\\n\\n## 5. リスクと軽減策\\n| リスク | 軽減策 |\\n|--------|--------|\\n| ユーザーの利用継続率が低い | コミュニティ機能やリマインダー機能を強化し、ユーザーのモチベーションを維持 |\\n| データのセキュリティリスク | ユーザーデータの暗号化とプライバシーポリシーの徹底 |\\n| 技術的な問題によるパフォーマンス低下 | 定期的なテストとメンテナンスを実施し、パフォーマンスを監視 |\\n| ユーザーのニーズの変化 | 定期的なユーザーインタビューやフィードバックを通じて機能改善を行う |\\n\\n以上が健康管理アプリの要件定義書です。このアプリがユーザーの健康管理をサポートし、より健康的なライフスタイルを実現する手助けとなることを目指します。',\n",
       " 'iteration': 1,\n",
       " 'is_information_sufficient': True,\n",
       " 'evaluation_reason': 'ユーザリクエストに対して、複数のペルソナから具体的な機能要件が収集されており、健康管理アプリに必要な機能が多角的に示されています。各ペルソナのニーズに基づいた機能が明確に挙げられているため、包括的な要件文書を作成するための情報は十分に集まっています。'}"
      ]
     },
     "execution_count": 19,
     "metadata": {},
     "output_type": "execute_result"
    }
   ],
   "source": [
    "state"
   ]
  },
  {
   "cell_type": "code",
   "execution_count": 20,
   "id": "8ac55903-9a17-4a9e-9818-7b6de185d453",
   "metadata": {},
   "outputs": [],
   "source": [
    "from IPython.display import display, Markdown"
   ]
  },
  {
   "cell_type": "code",
   "execution_count": 21,
   "id": "0cad8e19-2c87-4e73-a501-0d6be1812016",
   "metadata": {},
   "outputs": [
    {
     "data": {
      "text/markdown": [
       "# 要件定義書\n",
       "\n",
       "## 1. プロジェクト概要\n",
       "本プロジェクトは、忙しい日常の中で健康管理を行うためのアプリケーションを開発することを目的としています。ユーザーが簡単に食事や運動を記録し、健康状態を管理できる機能を提供することで、健康的なライフスタイルを促進します。ターゲットユーザーは、忙しいビジネスパーソン、在宅勤務者、家族全員で利用できる機能を求めるユーザーなど多岐にわたります。\n",
       "\n",
       "## 2. 主要機能\n",
       "1. **食事記録機能**\n",
       "   - バーコードスキャンによる簡単な食事記録\n",
       "   - お気に入りの食事登録機能\n",
       "   - 栄養分析機能\n",
       "\n",
       "2. **運動管理機能**\n",
       "   - 運動スケジュール管理\n",
       "   - 短時間でできるエクササイズの提案\n",
       "   - リマインダー機能\n",
       "\n",
       "3. **ストレス管理機能**\n",
       "   - ストレストラッキング機能\n",
       "   - マインドフルネスや瞑想のガイド\n",
       "\n",
       "4. **進捗の可視化**\n",
       "   - 健康状態や運動の進捗をグラフやチャートで表示\n",
       "\n",
       "5. **コミュニティ機能**\n",
       "   - 他のユーザーとの情報交換や励まし合いの場を提供\n",
       "\n",
       "6. **家族アカウントの共有**\n",
       "   - 家族全員がそれぞれのアカウントを持ち、進捗や目標を共有できる機能\n",
       "\n",
       "7. **健康相談窓口**\n",
       "   - 専門家に気軽に相談できるオンライン窓口\n",
       "\n",
       "8. **フィードバック機能**\n",
       "   - 健康データに基づく定期的なフィードバックやアドバイス\n",
       "\n",
       "## 3. 非機能要件\n",
       "1. **ユーザビリティ**\n",
       "   - 直感的で使いやすいインターフェース\n",
       "   - スマートフォンおよびタブレットに対応\n",
       "\n",
       "2. **パフォーマンス**\n",
       "   - アプリの起動時間は3秒以内\n",
       "   - データの同期はリアルタイムで行う\n",
       "\n",
       "3. **セキュリティ**\n",
       "   - ユーザーデータの暗号化\n",
       "   - プライバシーポリシーの遵守\n",
       "\n",
       "4. **互換性**\n",
       "   - iOSおよびAndroidプラットフォームに対応\n",
       "\n",
       "5. **スケーラビリティ**\n",
       "   - ユーザー数の増加に対応できるアーキテクチャ\n",
       "\n",
       "## 4. ターゲットユーザ\n",
       "- **佐藤健一**: 35歳男性、IT企業のエンジニア。忙しい日常の中で健康管理を行いたい。\n",
       "- **山田美咲**: 28歳女性、フリーランスのデザイナー。ストレス管理や生活リズムの改善を求めている。\n",
       "- **鈴木太郎**: 50歳男性、中小企業の経営者。高血圧の改善を目指している。\n",
       "- **田中花子**: 22歳女性、大学生。友人と一緒にフィットネスを楽しみたい。\n",
       "- **中村健二**: 45歳男性、公務員。家族全員で健康管理を行いたい。\n",
       "\n",
       "## 5. リスクと軽減策\n",
       "| リスク | 軽減策 |\n",
       "|--------|--------|\n",
       "| ユーザーの利用継続率が低い | コミュニティ機能やリマインダー機能を強化し、ユーザーのモチベーションを維持 |\n",
       "| データのセキュリティリスク | ユーザーデータの暗号化とプライバシーポリシーの徹底 |\n",
       "| 技術的な問題によるパフォーマンス低下 | 定期的なテストとメンテナンスを実施し、パフォーマンスを監視 |\n",
       "| ユーザーのニーズの変化 | 定期的なユーザーインタビューやフィードバックを通じて機能改善を行う |\n",
       "\n",
       "以上が健康管理アプリの要件定義書です。このアプリがユーザーの健康管理をサポートし、より健康的なライフスタイルを実現する手助けとなることを目指します。"
      ],
      "text/plain": [
       "<IPython.core.display.Markdown object>"
      ]
     },
     "metadata": {},
     "output_type": "display_data"
    }
   ],
   "source": [
    "display(Markdown(state[\"requirements_doc\"]))"
   ]
  }
 ],
 "metadata": {
  "kernelspec": {
   "display_name": "Python 3 (ipykernel)",
   "language": "python",
   "name": "python3"
  },
  "language_info": {
   "codemirror_mode": {
    "name": "ipython",
    "version": 3
   },
   "file_extension": ".py",
   "mimetype": "text/x-python",
   "name": "python",
   "nbconvert_exporter": "python",
   "pygments_lexer": "ipython3",
   "version": "3.12.4"
  }
 },
 "nbformat": 4,
 "nbformat_minor": 5
}
